{
 "cells": [
  {
   "cell_type": "code",
   "execution_count": 1,
   "metadata": {},
   "outputs": [],
   "source": [
    "import pandas as pd\n",
    "import numpy as np\n",
    "import seaborn as sns\n",
    "from matplotlib import pyplot as plt"
   ]
  },
  {
   "cell_type": "code",
   "execution_count": 2,
   "metadata": {},
   "outputs": [],
   "source": [
    "train = pd.read_parquet('../../preprocess/version_1/train.parquet')\n",
    "train = train.drop(columns=['period'])"
   ]
  },
  {
   "cell_type": "code",
   "execution_count": 3,
   "metadata": {},
   "outputs": [
    {
     "data": {
      "text/html": [
       "<div>\n",
       "<style scoped>\n",
       "    .dataframe tbody tr th:only-of-type {\n",
       "        vertical-align: middle;\n",
       "    }\n",
       "\n",
       "    .dataframe tbody tr th {\n",
       "        vertical-align: top;\n",
       "    }\n",
       "\n",
       "    .dataframe thead th {\n",
       "        text-align: right;\n",
       "    }\n",
       "</style>\n",
       "<table border=\"1\" class=\"dataframe\">\n",
       "  <thead>\n",
       "    <tr style=\"text-align: right;\">\n",
       "      <th></th>\n",
       "      <th>ID</th>\n",
       "      <th>category</th>\n",
       "      <th>target</th>\n",
       "      <th>activity</th>\n",
       "      <th>economic_category</th>\n",
       "      <th>road</th>\n",
       "      <th>license</th>\n",
       "      <th>time_from_start</th>\n",
       "      <th>has_insurance</th>\n",
       "      <th>normal_balance</th>\n",
       "      <th>...</th>\n",
       "      <th>days_default_mean_type_4</th>\n",
       "      <th>days_default_mean_type_5</th>\n",
       "      <th>days_default_var_type_1</th>\n",
       "      <th>days_default_var_type_2</th>\n",
       "      <th>days_default_var_type_3</th>\n",
       "      <th>days_default_var_type_4</th>\n",
       "      <th>days_default_var_type_5</th>\n",
       "      <th>count_month</th>\n",
       "      <th>count_product</th>\n",
       "      <th>count_entity</th>\n",
       "    </tr>\n",
       "  </thead>\n",
       "  <tbody>\n",
       "    <tr>\n",
       "      <th>0</th>\n",
       "      <td>5c0d6d516b2f11e55dc7ccf911117c4648efe1e37ba65b...</td>\n",
       "      <td>category_1</td>\n",
       "      <td>0</td>\n",
       "      <td>activity_10</td>\n",
       "      <td>category_3</td>\n",
       "      <td>road_7</td>\n",
       "      <td>no</td>\n",
       "      <td>3.6778</td>\n",
       "      <td>no</td>\n",
       "      <td>no</td>\n",
       "      <td>...</td>\n",
       "      <td>-99999.0</td>\n",
       "      <td>-99999.0</td>\n",
       "      <td>0.780759</td>\n",
       "      <td>-99999.0</td>\n",
       "      <td>0.251037</td>\n",
       "      <td>-99999.0</td>\n",
       "      <td>-99999.0</td>\n",
       "      <td>0.0</td>\n",
       "      <td>2.0</td>\n",
       "      <td>3.0</td>\n",
       "    </tr>\n",
       "    <tr>\n",
       "      <th>1</th>\n",
       "      <td>5400f7a37ace9961a211785a78fe36048f652923984801...</td>\n",
       "      <td>category_1</td>\n",
       "      <td>0</td>\n",
       "      <td>activity_1</td>\n",
       "      <td>category_28</td>\n",
       "      <td>road_5</td>\n",
       "      <td>no</td>\n",
       "      <td>2.5808</td>\n",
       "      <td>yes</td>\n",
       "      <td>no</td>\n",
       "      <td>...</td>\n",
       "      <td>-99999.0</td>\n",
       "      <td>-99999.0</td>\n",
       "      <td>-99999.000000</td>\n",
       "      <td>0.0</td>\n",
       "      <td>0.003995</td>\n",
       "      <td>-99999.0</td>\n",
       "      <td>-99999.0</td>\n",
       "      <td>0.0</td>\n",
       "      <td>1.0</td>\n",
       "      <td>1.0</td>\n",
       "    </tr>\n",
       "    <tr>\n",
       "      <th>2</th>\n",
       "      <td>5d35f55df443cc3b6d903f12ee1f05a8fa563fef0635c8...</td>\n",
       "      <td>category_1</td>\n",
       "      <td>0</td>\n",
       "      <td>activity_1</td>\n",
       "      <td>category_28</td>\n",
       "      <td>road_3</td>\n",
       "      <td>no</td>\n",
       "      <td>0.3026</td>\n",
       "      <td>yes</td>\n",
       "      <td>yes</td>\n",
       "      <td>...</td>\n",
       "      <td>-99999.0</td>\n",
       "      <td>-99999.0</td>\n",
       "      <td>0.007788</td>\n",
       "      <td>-99999.0</td>\n",
       "      <td>0.000000</td>\n",
       "      <td>-99999.0</td>\n",
       "      <td>-99999.0</td>\n",
       "      <td>0.0</td>\n",
       "      <td>2.0</td>\n",
       "      <td>2.0</td>\n",
       "    </tr>\n",
       "    <tr>\n",
       "      <th>3</th>\n",
       "      <td>a6f2cec37995d3a5793ec0e4489c69d396b9e1f80059c1...</td>\n",
       "      <td>category_1</td>\n",
       "      <td>0</td>\n",
       "      <td>activity_10</td>\n",
       "      <td>category_33</td>\n",
       "      <td>road_4</td>\n",
       "      <td>no</td>\n",
       "      <td>3.9883</td>\n",
       "      <td>no</td>\n",
       "      <td>yes</td>\n",
       "      <td>...</td>\n",
       "      <td>-99999.0</td>\n",
       "      <td>-99999.0</td>\n",
       "      <td>0.000000</td>\n",
       "      <td>0.0</td>\n",
       "      <td>0.000000</td>\n",
       "      <td>-99999.0</td>\n",
       "      <td>-99999.0</td>\n",
       "      <td>0.0</td>\n",
       "      <td>3.0</td>\n",
       "      <td>3.0</td>\n",
       "    </tr>\n",
       "    <tr>\n",
       "      <th>4</th>\n",
       "      <td>071a27b4ea5c188bebf86cbd8e2a7a910f7abc44023da6...</td>\n",
       "      <td>category_1</td>\n",
       "      <td>0</td>\n",
       "      <td>activity_11</td>\n",
       "      <td>category_31</td>\n",
       "      <td>road_3</td>\n",
       "      <td>no</td>\n",
       "      <td>3.2864</td>\n",
       "      <td>no</td>\n",
       "      <td>yes</td>\n",
       "      <td>...</td>\n",
       "      <td>-99999.0</td>\n",
       "      <td>-99999.0</td>\n",
       "      <td>-99999.000000</td>\n",
       "      <td>-99999.0</td>\n",
       "      <td>0.000000</td>\n",
       "      <td>-99999.0</td>\n",
       "      <td>-99999.0</td>\n",
       "      <td>0.0</td>\n",
       "      <td>1.0</td>\n",
       "      <td>1.0</td>\n",
       "    </tr>\n",
       "  </tbody>\n",
       "</table>\n",
       "<p>5 rows × 84 columns</p>\n",
       "</div>"
      ],
      "text/plain": [
       "                                                  ID    category  target  \\\n",
       "0  5c0d6d516b2f11e55dc7ccf911117c4648efe1e37ba65b...  category_1       0   \n",
       "1  5400f7a37ace9961a211785a78fe36048f652923984801...  category_1       0   \n",
       "2  5d35f55df443cc3b6d903f12ee1f05a8fa563fef0635c8...  category_1       0   \n",
       "3  a6f2cec37995d3a5793ec0e4489c69d396b9e1f80059c1...  category_1       0   \n",
       "4  071a27b4ea5c188bebf86cbd8e2a7a910f7abc44023da6...  category_1       0   \n",
       "\n",
       "      activity economic_category    road license  time_from_start  \\\n",
       "0  activity_10        category_3  road_7      no           3.6778   \n",
       "1   activity_1       category_28  road_5      no           2.5808   \n",
       "2   activity_1       category_28  road_3      no           0.3026   \n",
       "3  activity_10       category_33  road_4      no           3.9883   \n",
       "4  activity_11       category_31  road_3      no           3.2864   \n",
       "\n",
       "  has_insurance normal_balance  ... days_default_mean_type_4  \\\n",
       "0            no             no  ...                 -99999.0   \n",
       "1           yes             no  ...                 -99999.0   \n",
       "2           yes            yes  ...                 -99999.0   \n",
       "3            no            yes  ...                 -99999.0   \n",
       "4            no            yes  ...                 -99999.0   \n",
       "\n",
       "   days_default_mean_type_5  days_default_var_type_1  days_default_var_type_2  \\\n",
       "0                  -99999.0                 0.780759                 -99999.0   \n",
       "1                  -99999.0            -99999.000000                      0.0   \n",
       "2                  -99999.0                 0.007788                 -99999.0   \n",
       "3                  -99999.0                 0.000000                      0.0   \n",
       "4                  -99999.0            -99999.000000                 -99999.0   \n",
       "\n",
       "   days_default_var_type_3  days_default_var_type_4  days_default_var_type_5  \\\n",
       "0                 0.251037                 -99999.0                 -99999.0   \n",
       "1                 0.003995                 -99999.0                 -99999.0   \n",
       "2                 0.000000                 -99999.0                 -99999.0   \n",
       "3                 0.000000                 -99999.0                 -99999.0   \n",
       "4                 0.000000                 -99999.0                 -99999.0   \n",
       "\n",
       "   count_month  count_product  count_entity  \n",
       "0          0.0            2.0           3.0  \n",
       "1          0.0            1.0           1.0  \n",
       "2          0.0            2.0           2.0  \n",
       "3          0.0            3.0           3.0  \n",
       "4          0.0            1.0           1.0  \n",
       "\n",
       "[5 rows x 84 columns]"
      ]
     },
     "execution_count": 3,
     "metadata": {},
     "output_type": "execute_result"
    }
   ],
   "source": [
    "train.head()"
   ]
  },
  {
   "cell_type": "code",
   "execution_count": 4,
   "metadata": {},
   "outputs": [
    {
     "data": {
      "text/plain": [
       "category_1    0.825756\n",
       "category_3    0.090330\n",
       "category_2    0.083915\n",
       "Name: category, dtype: float64"
      ]
     },
     "execution_count": 4,
     "metadata": {},
     "output_type": "execute_result"
    }
   ],
   "source": [
    "train['category'].value_counts(normalize=True)"
   ]
  },
  {
   "cell_type": "code",
   "execution_count": 5,
   "metadata": {},
   "outputs": [
    {
     "data": {
      "text/plain": [
       "category    target\n",
       "category_1  0         0.980872\n",
       "            1         0.019128\n",
       "category_2  0         0.615799\n",
       "            1         0.384201\n",
       "category_3  0         0.990040\n",
       "            1         0.009960\n",
       "Name: target, dtype: float64"
      ]
     },
     "execution_count": 5,
     "metadata": {},
     "output_type": "execute_result"
    }
   ],
   "source": [
    "train.groupby(by=['category'])['target'].value_counts(normalize=True)"
   ]
  },
  {
   "cell_type": "code",
   "execution_count": 163,
   "metadata": {},
   "outputs": [
    {
     "data": {
      "text/plain": [
       "category_1    0.892343\n",
       "category_2    0.059138\n",
       "category_3    0.048519\n",
       "Name: category, dtype: float64"
      ]
     },
     "execution_count": 163,
     "metadata": {},
     "output_type": "execute_result"
    }
   ],
   "source": [
    "test = pd.read_parquet('../../preprocess/version_1/test.parquet')\n",
    "test = test.drop(columns=['period'])\n",
    "test['category'].value_counts(normalize=True)"
   ]
  },
  {
   "cell_type": "markdown",
   "metadata": {},
   "source": [
    "# Analisis Exploratorio"
   ]
  },
  {
   "cell_type": "markdown",
   "metadata": {},
   "source": [
    "## Analisis univariable - grafico "
   ]
  },
  {
   "cell_type": "code",
   "execution_count": 9,
   "metadata": {},
   "outputs": [],
   "source": [
    "numeric_cols = train.select_dtypes(include=['number']).columns\n",
    "numeric_cols = [col for col in numeric_cols if col not in ['target']]"
   ]
  },
  {
   "cell_type": "code",
   "execution_count": 10,
   "metadata": {},
   "outputs": [],
   "source": [
    "categorical_cols = train.select_dtypes(include=['object']).columns\n",
    "categorical_cols = [col for col in categorical_cols if col not in ['ID','category','economic_category']]"
   ]
  },
  {
   "cell_type": "code",
   "execution_count": 71,
   "metadata": {},
   "outputs": [],
   "source": [
    "train[categorical_cols] = train[categorical_cols].astype('category')\n",
    "test[categorical_cols] = test[categorical_cols].astype('category')"
   ]
  },
  {
   "cell_type": "markdown",
   "metadata": {},
   "source": [
    "### Variables Numericas - Normal"
   ]
  },
  {
   "cell_type": "code",
   "execution_count": null,
   "metadata": {},
   "outputs": [],
   "source": [
    "for col in numeric_cols:\n",
    "    sns.violinplot(x ='category', y =col, data = train[train[col]!=-99999.0],\n",
    "              jitter = True, hue ='target', dodge = True).set(title=f'Distribution of {col}')\n",
    "    plt.show()"
   ]
  },
  {
   "cell_type": "markdown",
   "metadata": {},
   "source": [
    "### Variables Numericas - sqrt"
   ]
  },
  {
   "cell_type": "code",
   "execution_count": 10,
   "metadata": {},
   "outputs": [
    {
     "data": {
      "image/png": "[encoded data removed]",
      "text/plain": [
       "<Figure size 432x288 with 1 Axes>"
      ]
     },
     "metadata": {},
     "output_type": "display_data"
    },
    {
     "data": {
      "image/png": "[encoded data removed]",
      "text/plain": [
       "<Figure size 432x288 with 1 Axes>"
      ]
     },
     "metadata": {},
     "output_type": "display_data"
    }
   ],
   "source": [
    "for col in numeric_cols:\n",
    "    data = train[train[col]!=-99999.0]\n",
    "    data[col] = np.tanh(data[col])\n",
    "    sns.violinplot(x ='category', y =col, data = data,\n",
    "              jitter = True, hue ='target', dodge = True).set(title=f'Distribution of sqrt {col}')\n",
    "    plt.show()"
   ]
  },
  {
   "cell_type": "markdown",
   "metadata": {},
   "source": [
    "### Variables Categoricas"
   ]
  },
  {
   "cell_type": "code",
   "execution_count": 6,
   "metadata": {},
   "outputs": [
    {
     "name": "stdout",
     "output_type": "stream",
     "text": [
      "<class 'pandas.core.frame.DataFrame'>\n",
      "Int64Index: 810264 entries, 0 to 810263\n",
      "Data columns (total 8 columns):\n",
      " #   Column             Non-Null Count   Dtype \n",
      "---  ------             --------------   ----- \n",
      " 0   period             810264 non-null  object\n",
      " 1   activity           810264 non-null  object\n",
      " 2   economic_category  810264 non-null  object\n",
      " 3   road               810264 non-null  object\n",
      " 4   license            810264 non-null  object\n",
      " 5   has_insurance      810264 non-null  object\n",
      " 6   normal_balance     810264 non-null  object\n",
      " 7   bureau_risk        810264 non-null  object\n",
      "dtypes: object(8)\n",
      "memory usage: 55.6+ MB\n"
     ]
    }
   ],
   "source": [
    "df = train.groupby(['period']).agg(concentration_0=pd.NamedAgg(column='taken', aggfunc=concentration_0),).reset_index()\n",
    "sns.barplot(x=\"hour\",y='concentration_0',data=df).set(title='Hour vs. Concentration of Untaken')"
   ]
  },
  {
   "cell_type": "markdown",
   "metadata": {},
   "source": [
    "## Analisis de Correlacion - Asociacion"
   ]
  },
  {
   "cell_type": "code",
   "execution_count": 7,
   "metadata": {},
   "outputs": [
    {
     "name": "stderr",
     "output_type": "stream",
     "text": [
      "/home/userbda/Proyectos/analisis_calidad/analisis/lib/python3.6/site-packages/dython/nominal.py:139: RuntimeWarning: Unable to calculate Cramer's V using bias correction. Consider using bias_correction=False\n",
      "  RuntimeWarning)\n",
      "/home/userbda/Proyectos/analisis_calidad/analisis/lib/python3.6/site-packages/dython/nominal.py:139: RuntimeWarning: Unable to calculate Cramer's V using bias correction. Consider using bias_correction=False\n",
      "  RuntimeWarning)\n",
      "/home/userbda/Proyectos/analisis_calidad/analisis/lib/python3.6/site-packages/dython/nominal.py:139: RuntimeWarning: Unable to calculate Cramer's V using bias correction. Consider using bias_correction=False\n",
      "  RuntimeWarning)\n",
      "/home/userbda/Proyectos/analisis_calidad/analisis/lib/python3.6/site-packages/dython/nominal.py:139: RuntimeWarning: Unable to calculate Cramer's V using bias correction. Consider using bias_correction=False\n",
      "  RuntimeWarning)\n",
      "/home/userbda/Proyectos/analisis_calidad/analisis/lib/python3.6/site-packages/dython/nominal.py:139: RuntimeWarning: Unable to calculate Cramer's V using bias correction. Consider using bias_correction=False\n",
      "  RuntimeWarning)\n",
      "/home/userbda/Proyectos/analisis_calidad/analisis/lib/python3.6/site-packages/dython/nominal.py:139: RuntimeWarning: Unable to calculate Cramer's V using bias correction. Consider using bias_correction=False\n",
      "  RuntimeWarning)\n",
      "/home/userbda/Proyectos/analisis_calidad/analisis/lib/python3.6/site-packages/dython/nominal.py:139: RuntimeWarning: Unable to calculate Cramer's V using bias correction. Consider using bias_correction=False\n",
      "  RuntimeWarning)\n",
      "/home/userbda/Proyectos/analisis_calidad/analisis/lib/python3.6/site-packages/dython/nominal.py:139: RuntimeWarning: Unable to calculate Cramer's V using bias correction. Consider using bias_correction=False\n",
      "  RuntimeWarning)\n"
     ]
    }
   ],
   "source": [
    "from dython.nominal import associations\n",
    "associations(train)"
   ]
  },
  {
   "cell_type": "markdown",
   "metadata": {},
   "source": [
    "# Modelo 1 - Catboost"
   ]
  },
  {
   "cell_type": "markdown",
   "metadata": {},
   "source": [
    "## Modelo por category"
   ]
  },
  {
   "cell_type": "code",
   "execution_count": 9,
   "metadata": {},
   "outputs": [],
   "source": [
    "train_cat_1 = train[train['category']=='category_1'].reset_index(drop=True)\n",
    "train_cat_2 = train[train['category']=='category_2'].reset_index(drop=True)\n",
    "train_cat_3 = train[train['category']=='category_3'].reset_index(drop=True)"
   ]
  },
  {
   "cell_type": "markdown",
   "metadata": {},
   "source": [
    "### Category_1"
   ]
  },
  {
   "cell_type": "code",
   "execution_count": 10,
   "metadata": {},
   "outputs": [],
   "source": []
  },
  {
   "cell_type": "code",
   "execution_count": 11,
   "metadata": {},
   "outputs": [],
   "source": [
    "from sklearn.model_selection import train_test_split\n",
    "\n",
    "X_cat_1 = X_cat_1.to_numpy()\n",
    "y_cat_1 = train_cat_1['target'].to_numpy()\n",
    "X_train_cat_1, X_test_cat_1, y_train_cat_1, y_test_cat_1 = train_test_split(X_cat_1, y_cat_1, test_size=0.25, random_state=42)"
   ]
  },
  {
   "cell_type": "code",
   "execution_count": 12,
   "metadata": {},
   "outputs": [
    {
     "data": {
      "text/plain": [
       "array([0, 1, 2, 3, 4, 6, 7, 8])"
      ]
     },
     "execution_count": 12,
     "metadata": {},
     "output_type": "execute_result"
    }
   ],
   "source": [
    "categorical_features_indices"
   ]
  },
  {
   "cell_type": "code",
   "execution_count": 14,
   "metadata": {},
   "outputs": [],
   "source": [
    "from catboost import Pool\n",
    "from catboost import CatBoostClassifier\n",
    "\n",
    "cat_1_pool = Pool(data=X_cat_1, label=y_cat_1, cat_features=categorical_features_indices)"
   ]
  },
  {
   "cell_type": "code",
   "execution_count": 45,
   "metadata": {},
   "outputs": [],
   "source": [
    "from catboost import cv\n",
    "\n",
    "# parameters for training inside cv:\n",
    "params_1 = {\n",
    "    'loss_function': 'Logloss',\n",
    "    'iterations': 755,\n",
    "    'custom_loss': 'F1',\n",
    "    'learning_rate': 0.1,\n",
    "    'depth':10,\n",
    "    'scale_pos_weight':10,\n",
    "    'random_state':42\n",
    "}"
   ]
  },
  {
   "cell_type": "code",
   "execution_count": 15,
   "metadata": {},
   "outputs": [],
   "source": [
    "def print_cv_summary(cv_data):\n",
    "    cv_data.head(10)\n",
    "\n",
    "    best_value = cv_data['test-Logloss-mean'].min()\n",
    "    best_iter = cv_data['test-Logloss-mean'].values.argmin()\n",
    "\n",
    "    print('Best validation Logloss score : {:.4f}±{:.4f} on step {}'.format(\n",
    "        best_value,\n",
    "        cv_data['test-Logloss-std'][best_iter],\n",
    "        best_iter)\n",
    "    )"
   ]
  },
  {
   "cell_type": "code",
   "execution_count": 26,
   "metadata": {},
   "outputs": [
    {
     "data": {
      "application/vnd.jupyter.widget-view+json": {
       "model_id": "fe39a8f4a34d438d8aebca6dbcc9d9df",
       "version_major": 2,
       "version_minor": 0
      },
      "text/plain": [
       "MetricVisualizer(layout=Layout(align_self='stretch', height='500px'))"
      ]
     },
     "metadata": {},
     "output_type": "display_data"
    },
    {
     "name": "stdout",
     "output_type": "stream",
     "text": [
      "Training on fold [0/5]\n",
      "\n",
      "bestTest = 0.002685896146\n",
      "bestIteration = 528\n",
      "\n",
      "Training on fold [1/5]\n",
      "\n",
      "bestTest = 0.00275454998\n",
      "bestIteration = 726\n",
      "\n",
      "Training on fold [2/5]\n",
      "\n",
      "bestTest = 0.002741879034\n",
      "bestIteration = 608\n",
      "\n",
      "Training on fold [3/5]\n",
      "\n",
      "bestTest = 0.0028116916\n",
      "bestIteration = 65\n",
      "\n",
      "Training on fold [4/5]\n",
      "\n",
      "bestTest = 0.002806100169\n",
      "bestIteration = 173\n",
      "\n",
      "Best validation Logloss score : 0.0028±0.0001 on step 356\n"
     ]
    }
   ],
   "source": [
    "cv_data = cv(\n",
    "    params = params_1,\n",
    "    pool = cat_1_pool,\n",
    "    fold_count=5,\n",
    "    shuffle=True,\n",
    "    partition_random_seed=42,\n",
    "    plot=True,\n",
    "    stratified=True,\n",
    "    verbose=False\n",
    ")\n",
    "\n",
    "print_cv_summary(cv_data)"
   ]
  },
  {
   "cell_type": "code",
   "execution_count": 37,
   "metadata": {},
   "outputs": [
    {
     "data": {
      "application/vnd.jupyter.widget-view+json": {
       "model_id": "c76964380dca4ff5aca750dfae638eb8",
       "version_major": 2,
       "version_minor": 0
      },
      "text/plain": [
       "MetricVisualizer(layout=Layout(align_self='stretch', height='500px'))"
      ]
     },
     "metadata": {},
     "output_type": "display_data"
    },
    {
     "data": {
      "text/plain": [
       "<catboost.core.CatBoostClassifier at 0x7f0557b50550>"
      ]
     },
     "execution_count": 37,
     "metadata": {},
     "output_type": "execute_result"
    }
   ],
   "source": [
    "model_cat_1=CatBoostClassifier(iterations=500, depth=7, learning_rate=0.04,scale_pos_weight=12, random_state=42)\n",
    "model_cat_1.fit(X_train_cat_1, y_train_cat_1,eval_set=(X_test_cat_1, y_test_cat_1),cat_features=categorical_features_indices,plot=True,verbose=False)\n",
    "#model_cat_1.fit(X_cat_1,y_cat_1,cat_features=categorical_features_indices,plot=True,verbose=False)"
   ]
  },
  {
   "cell_type": "code",
   "execution_count": 38,
   "metadata": {},
   "outputs": [],
   "source": [
    "pred = model_cat_1.predict(X_cat_1)\n",
    "train_cat_1['preds'] = pred"
   ]
  },
  {
   "cell_type": "markdown",
   "metadata": {},
   "source": [
    "#### Evaluacion"
   ]
  },
  {
   "cell_type": "code",
   "execution_count": 17,
   "metadata": {},
   "outputs": [],
   "source": [
    "from sklearn.metrics import f1_score\n",
    "\n",
    "def prediccion(df:pd.DataFrame, category_column:str, target_column:str, pred_column):\n",
    "    cat_counts = []\n",
    "    f1_scores = []\n",
    "    categories = df[category_column].unique()\n",
    "    for cat in categories:\n",
    "        temp = df[df[category_column]==cat]\n",
    "        cat_counts.append(len(temp)/len(df))\n",
    "        f1_scores.append(f1_score(temp[target_column],temp[pred_column]))\n",
    "    cats = dict(zip(categories,f1_scores,cat_counts))\n",
    "    return (np.sum(np.array(cat_counts) * np.array(f1_scores)), cats)"
   ]
  },
  {
   "cell_type": "code",
   "execution_count": 39,
   "metadata": {},
   "outputs": [
    {
     "data": {
      "text/plain": [
       "0.38057230964582106"
      ]
     },
     "execution_count": 39,
     "metadata": {},
     "output_type": "execute_result"
    }
   ],
   "source": [
    "f1_score(train_cat_1['target'], train_cat_1['preds'])"
   ]
  },
  {
   "cell_type": "code",
   "execution_count": 48,
   "metadata": {},
   "outputs": [
    {
     "data": {
      "text/plain": [
       "0.6472660919901844"
      ]
     },
     "execution_count": 48,
     "metadata": {},
     "output_type": "execute_result"
    }
   ],
   "source": [
    "f1_score(train_cat_1['target'], train_cat_1['preds'])"
   ]
  },
  {
   "cell_type": "markdown",
   "metadata": {},
   "source": [
    "#### Calibration"
   ]
  },
  {
   "cell_type": "code",
   "execution_count": null,
   "metadata": {},
   "outputs": [],
   "source": []
  },
  {
   "cell_type": "markdown",
   "metadata": {},
   "source": [
    "### Category_2"
   ]
  },
  {
   "cell_type": "code",
   "execution_count": 16,
   "metadata": {},
   "outputs": [],
   "source": [
    "from sklearn.model_selection import cross_validate, KFold, cross_val_score\n",
    "\n",
    "X_cat_2 = train_cat_2.drop(columns=['ID','target'])\n",
    "categorical_features_indices = np.where(X_cat_2.dtypes == 'category')[0]"
   ]
  },
  {
   "cell_type": "code",
   "execution_count": 17,
   "metadata": {},
   "outputs": [],
   "source": [
    "X_cat_2 = X_cat_2.to_numpy()\n",
    "y_cat_2 = train_cat_2['target'].to_numpy()"
   ]
  },
  {
   "cell_type": "code",
   "execution_count": 18,
   "metadata": {},
   "outputs": [],
   "source": [
    "cat_2_pool = Pool(data=X_cat_2, label=y_cat_2, cat_features=categorical_features_indices)"
   ]
  },
  {
   "cell_type": "code",
   "execution_count": 19,
   "metadata": {},
   "outputs": [],
   "source": [
    "params_cat_2 = {\n",
    "    'loss_function': 'Logloss',\n",
    "    'iterations': 300,\n",
    "    'custom_loss': 'F1',\n",
    "    'learning_rate': 0.01,\n",
    "    'depth':8,\n",
    "    'scale_pos_weight':2,\n",
    "    'random_state':42\n",
    "}"
   ]
  },
  {
   "cell_type": "code",
   "execution_count": 20,
   "metadata": {},
   "outputs": [
    {
     "data": {
      "application/vnd.jupyter.widget-view+json": {
       "model_id": "8ad987db9d8943a9909abf33061e8261",
       "version_major": 2,
       "version_minor": 0
      },
      "text/plain": [
       "MetricVisualizer(layout=Layout(align_self='stretch', height='500px'))"
      ]
     },
     "metadata": {},
     "output_type": "display_data"
    },
    {
     "name": "stdout",
     "output_type": "stream",
     "text": [
      "Training on fold [0/5]\n",
      "\n",
      "bestTest = 0.5602035268\n",
      "bestIteration = 299\n",
      "\n",
      "Training on fold [1/5]\n",
      "\n",
      "bestTest = 0.5617564784\n",
      "bestIteration = 299\n",
      "\n",
      "Training on fold [2/5]\n",
      "\n",
      "bestTest = 0.5642980029\n",
      "bestIteration = 299\n",
      "\n",
      "Training on fold [3/5]\n",
      "\n",
      "bestTest = 0.5622542313\n",
      "bestIteration = 299\n",
      "\n",
      "Training on fold [4/5]\n",
      "\n",
      "bestTest = 0.5662596706\n",
      "bestIteration = 299\n",
      "\n",
      "Best validation Logloss score : 0.5630±0.0024 on step 299\n"
     ]
    }
   ],
   "source": [
    "cv_data = cv(\n",
    "    params = params_cat_2,\n",
    "    pool = cat_2_pool,\n",
    "    fold_count=5,\n",
    "    shuffle=True,\n",
    "    partition_random_seed=42,\n",
    "    plot=True,\n",
    "    stratified=False,\n",
    "    verbose=False\n",
    ")\n",
    "\n",
    "print_cv_summary(cv_data)"
   ]
  },
  {
   "cell_type": "code",
   "execution_count": 21,
   "metadata": {},
   "outputs": [
    {
     "data": {
      "application/vnd.jupyter.widget-view+json": {
       "model_id": "deef4c937ef84d27843419e88dbc18bc",
       "version_major": 2,
       "version_minor": 0
      },
      "text/plain": [
       "MetricVisualizer(layout=Layout(align_self='stretch', height='500px'))"
      ]
     },
     "metadata": {},
     "output_type": "display_data"
    },
    {
     "data": {
      "text/plain": [
       "<catboost.core.CatBoostClassifier at 0x7f05857ecb38>"
      ]
     },
     "execution_count": 21,
     "metadata": {},
     "output_type": "execute_result"
    }
   ],
   "source": [
    "model_cat_2=CatBoostClassifier(iterations=299, depth=10, learning_rate=0.1,scale_pos_weight=2, random_state=42)\n",
    "model_cat_2.fit(X_cat_2, y_cat_2,cat_features=categorical_features_indices,plot=True,verbose=False)"
   ]
  },
  {
   "cell_type": "code",
   "execution_count": 22,
   "metadata": {},
   "outputs": [],
   "source": [
    "pred = model_cat_2.predict(X_cat_2)\n",
    "train_cat_2['preds'] = pred"
   ]
  },
  {
   "cell_type": "markdown",
   "metadata": {},
   "source": [
    "#### Evaluacion"
   ]
  },
  {
   "cell_type": "code",
   "execution_count": 24,
   "metadata": {},
   "outputs": [
    {
     "data": {
      "text/plain": [
       "0.7769711960710509"
      ]
     },
     "execution_count": 24,
     "metadata": {},
     "output_type": "execute_result"
    }
   ],
   "source": [
    "from sklearn.metrics import f1_score\n",
    "\n",
    "f1_score(train_cat_2['target'], train_cat_2['preds'])"
   ]
  },
  {
   "cell_type": "markdown",
   "metadata": {},
   "source": [
    "#### Calibration"
   ]
  },
  {
   "cell_type": "code",
   "execution_count": null,
   "metadata": {},
   "outputs": [],
   "source": []
  },
  {
   "cell_type": "markdown",
   "metadata": {},
   "source": [
    "### Category_3"
   ]
  },
  {
   "cell_type": "code",
   "execution_count": 25,
   "metadata": {},
   "outputs": [],
   "source": [
    "X_cat_3 = train_cat_3.drop(columns=['ID','target'])\n",
    "categorical_features_indices = np.where(X_cat_3.dtypes == 'category')[0]"
   ]
  },
  {
   "cell_type": "code",
   "execution_count": 26,
   "metadata": {},
   "outputs": [],
   "source": [
    "X_cat_3 = X_cat_3.to_numpy()\n",
    "y_cat_3 = train_cat_3['target'].to_numpy()"
   ]
  },
  {
   "cell_type": "code",
   "execution_count": 27,
   "metadata": {},
   "outputs": [],
   "source": [
    "cat_3_pool = Pool(data=X_cat_3, label=y_cat_3, cat_features=categorical_features_indices)"
   ]
  },
  {
   "cell_type": "code",
   "execution_count": 56,
   "metadata": {},
   "outputs": [],
   "source": [
    "params_cat_3 = {\n",
    "    'loss_function': 'Logloss',\n",
    "    'iterations': 550,\n",
    "    'custom_loss': 'F1',\n",
    "    'learning_rate': 0.008,\n",
    "    'depth':7,\n",
    "    'scale_pos_weight':12,\n",
    "    'random_state':42\n",
    "}"
   ]
  },
  {
   "cell_type": "code",
   "execution_count": 57,
   "metadata": {},
   "outputs": [
    {
     "data": {
      "application/vnd.jupyter.widget-view+json": {
       "model_id": "8fee79e4a40149298c6c8985ae9b8055",
       "version_major": 2,
       "version_minor": 0
      },
      "text/plain": [
       "MetricVisualizer(layout=Layout(align_self='stretch', height='500px'))"
      ]
     },
     "metadata": {},
     "output_type": "display_data"
    },
    {
     "name": "stdout",
     "output_type": "stream",
     "text": [
      "Training on fold [0/5]\n",
      "\n",
      "bestTest = 0.222153318\n",
      "bestIteration = 549\n",
      "\n",
      "Training on fold [1/5]\n",
      "\n",
      "bestTest = 0.2111678615\n",
      "bestIteration = 549\n",
      "\n",
      "Training on fold [2/5]\n",
      "\n",
      "bestTest = 0.2135974174\n",
      "bestIteration = 549\n",
      "\n",
      "Training on fold [3/5]\n",
      "\n",
      "bestTest = 0.2129593688\n",
      "bestIteration = 549\n",
      "\n",
      "Training on fold [4/5]\n",
      "\n",
      "bestTest = 0.2053359557\n",
      "bestIteration = 549\n",
      "\n",
      "Best validation Logloss score : 0.2130±0.0060 on step 549\n"
     ]
    }
   ],
   "source": [
    "cv_data = cv(\n",
    "    params = params_cat_3,\n",
    "    pool = cat_3_pool,\n",
    "    fold_count=5,\n",
    "    shuffle=True,\n",
    "    partition_random_seed=42,\n",
    "    plot=True,\n",
    "    stratified=True,\n",
    "    verbose=False\n",
    ")\n",
    "\n",
    "print_cv_summary(cv_data)"
   ]
  },
  {
   "cell_type": "code",
   "execution_count": 42,
   "metadata": {},
   "outputs": [
    {
     "data": {
      "application/vnd.jupyter.widget-view+json": {
       "model_id": "ecba8af4947d48119af902a49907f59e",
       "version_major": 2,
       "version_minor": 0
      },
      "text/plain": [
       "MetricVisualizer(layout=Layout(align_self='stretch', height='500px'))"
      ]
     },
     "metadata": {},
     "output_type": "display_data"
    },
    {
     "data": {
      "text/plain": [
       "<catboost.core.CatBoostClassifier at 0x7f04c5f62a90>"
      ]
     },
     "execution_count": 42,
     "metadata": {},
     "output_type": "execute_result"
    }
   ],
   "source": [
    "model_cat_3=CatBoostClassifier(iterations=300, depth=8, learning_rate=0.01,scale_pos_weight=15, random_state=42)\n",
    "model_cat_3.fit(X_cat_3, y_cat_3,cat_features=categorical_features_indices,plot=True,verbose=False)"
   ]
  },
  {
   "cell_type": "code",
   "execution_count": 43,
   "metadata": {},
   "outputs": [],
   "source": [
    "pred = model_cat_3.predict(X_cat_3)\n",
    "train_cat_3['preds'] = pred"
   ]
  },
  {
   "cell_type": "markdown",
   "metadata": {},
   "source": [
    "#### Evaluacion"
   ]
  },
  {
   "cell_type": "code",
   "execution_count": 44,
   "metadata": {},
   "outputs": [
    {
     "data": {
      "text/plain": [
       "0.4522207267833109"
      ]
     },
     "execution_count": 44,
     "metadata": {},
     "output_type": "execute_result"
    }
   ],
   "source": [
    "f1_score(train_cat_3['target'], train_cat_3['preds'])"
   ]
  },
  {
   "cell_type": "markdown",
   "metadata": {},
   "source": [
    "#### Calibration"
   ]
  },
  {
   "cell_type": "code",
   "execution_count": null,
   "metadata": {},
   "outputs": [],
   "source": []
  },
  {
   "cell_type": "markdown",
   "metadata": {},
   "source": [
    "## Modelo Scikit Optimize"
   ]
  },
  {
   "cell_type": "code",
   "execution_count": null,
   "metadata": {},
   "outputs": [],
   "source": []
  },
  {
   "cell_type": "code",
   "execution_count": null,
   "metadata": {},
   "outputs": [],
   "source": []
  },
  {
   "cell_type": "markdown",
   "metadata": {},
   "source": [
    "## Prediccion Final"
   ]
  },
  {
   "cell_type": "code",
   "execution_count": 74,
   "metadata": {},
   "outputs": [
    {
     "data": {
      "application/vnd.jupyter.widget-view+json": {
       "model_id": "fb8f2e507a4b419689ea97f443fb1e5e",
       "version_major": 2,
       "version_minor": 0
      },
      "text/plain": [
       "MetricVisualizer(layout=Layout(align_self='stretch', height='500px'))"
      ]
     },
     "metadata": {},
     "output_type": "display_data"
    },
    {
     "data": {
      "text/plain": [
       "<catboost.core.CatBoostClassifier at 0x7f230172c550>"
      ]
     },
     "execution_count": 74,
     "metadata": {},
     "output_type": "execute_result"
    }
   ],
   "source": [
    "model=CatBoostClassifier(iterations=699, depth=10, learning_rate=0.1,class_weights=[0.95,0.5], random_state=42)\n",
    "model.fit(train_pool,plot=True,verbose=False)"
   ]
  },
  {
   "cell_type": "code",
   "execution_count": 75,
   "metadata": {},
   "outputs": [],
   "source": [
    "test = pd.read_parquet('./preprocess/version_1/test.parquet')"
   ]
  },
  {
   "cell_type": "code",
   "execution_count": 76,
   "metadata": {},
   "outputs": [],
   "source": [
    "test_x = test.drop(columns=['ID']).to_numpy()\n",
    "pred = model.predict(test_x)\n",
    "test['target'] = pred\n",
    "test = test[['ID','target']]"
   ]
  },
  {
   "cell_type": "code",
   "execution_count": 77,
   "metadata": {},
   "outputs": [],
   "source": [
    "test.to_csv('./entregables/version_1/prediccion_catboost_simple.csv',index=False)"
   ]
  },
  {
   "cell_type": "code",
   "execution_count": 78,
   "metadata": {},
   "outputs": [],
   "source": [
    "model.save_model('./models/version_1/catboost_simple')"
   ]
  },
  {
   "cell_type": "code",
   "execution_count": null,
   "metadata": {},
   "outputs": [],
   "source": [
    "model = CatBoostClassifier()\n",
    "model. load_model(\"./models/version_1/catboost_simple\")"
   ]
  },
  {
   "cell_type": "markdown",
   "metadata": {},
   "source": [
    "# Modelo 2 - XGBoost"
   ]
  },
  {
   "cell_type": "code",
   "execution_count": 12,
   "metadata": {},
   "outputs": [
    {
     "data": {
      "text/plain": [
       "['activity',\n",
       " 'road',\n",
       " 'license',\n",
       " 'has_insurance',\n",
       " 'normal_balance',\n",
       " 'bureau_risk']"
      ]
     },
     "execution_count": 12,
     "metadata": {},
     "output_type": "execute_result"
    }
   ],
   "source": [
    "categorical_cols"
   ]
  },
  {
   "cell_type": "code",
   "execution_count": 13,
   "metadata": {},
   "outputs": [],
   "source": [
    "from sklearn.preprocessing import OneHotEncoder\n",
    "from sklearn.compose import make_column_transformer\n",
    "\n",
    "transformer = make_column_transformer(\n",
    "    (OneHotEncoder(), categorical_cols),\n",
    "    remainder='passthrough')\n",
    "\n",
    "transformed = transformer.fit_transform(train)\n",
    "transformed_df = pd.DataFrame(transformed, columns=transformer.get_feature_names())"
   ]
  },
  {
   "cell_type": "code",
   "execution_count": 72,
   "metadata": {},
   "outputs": [],
   "source": [
    "zero = pd.DataFrame([0]*len(test))\n",
    "test.insert(2, \"target\", zero)"
   ]
  },
  {
   "cell_type": "code",
   "execution_count": 73,
   "metadata": {},
   "outputs": [],
   "source": [
    "transformed = transformer.transform(test)\n",
    "transformed_df_test = pd.DataFrame(transformed, columns=transformer.get_feature_names())"
   ]
  },
  {
   "cell_type": "code",
   "execution_count": 28,
   "metadata": {},
   "outputs": [
    {
     "data": {
      "text/html": [
       "<div>\n",
       "<style scoped>\n",
       "    .dataframe tbody tr th:only-of-type {\n",
       "        vertical-align: middle;\n",
       "    }\n",
       "\n",
       "    .dataframe tbody tr th {\n",
       "        vertical-align: top;\n",
       "    }\n",
       "\n",
       "    .dataframe thead th {\n",
       "        text-align: right;\n",
       "    }\n",
       "</style>\n",
       "<table border=\"1\" class=\"dataframe\">\n",
       "  <thead>\n",
       "    <tr style=\"text-align: right;\">\n",
       "      <th></th>\n",
       "      <th>ID</th>\n",
       "      <th>category</th>\n",
       "      <th>target</th>\n",
       "      <th>activity</th>\n",
       "      <th>economic_category</th>\n",
       "      <th>road</th>\n",
       "      <th>license</th>\n",
       "      <th>time_from_start</th>\n",
       "      <th>has_insurance</th>\n",
       "      <th>normal_balance</th>\n",
       "      <th>...</th>\n",
       "      <th>days_default_mean_type_4</th>\n",
       "      <th>days_default_mean_type_5</th>\n",
       "      <th>days_default_var_type_1</th>\n",
       "      <th>days_default_var_type_2</th>\n",
       "      <th>days_default_var_type_3</th>\n",
       "      <th>days_default_var_type_4</th>\n",
       "      <th>days_default_var_type_5</th>\n",
       "      <th>count_month</th>\n",
       "      <th>count_product</th>\n",
       "      <th>count_entity</th>\n",
       "    </tr>\n",
       "  </thead>\n",
       "  <tbody>\n",
       "    <tr>\n",
       "      <th>0</th>\n",
       "      <td>5c0d6d516b2f11e55dc7ccf911117c4648efe1e37ba65b...</td>\n",
       "      <td>category_1</td>\n",
       "      <td>0</td>\n",
       "      <td>activity_10</td>\n",
       "      <td>category_3</td>\n",
       "      <td>road_7</td>\n",
       "      <td>no</td>\n",
       "      <td>3.6778</td>\n",
       "      <td>no</td>\n",
       "      <td>no</td>\n",
       "      <td>...</td>\n",
       "      <td>-99999.0</td>\n",
       "      <td>-99999.0</td>\n",
       "      <td>0.780759</td>\n",
       "      <td>-99999.0</td>\n",
       "      <td>0.251037</td>\n",
       "      <td>-99999.0</td>\n",
       "      <td>-99999.0</td>\n",
       "      <td>0.0</td>\n",
       "      <td>2.0</td>\n",
       "      <td>3.0</td>\n",
       "    </tr>\n",
       "    <tr>\n",
       "      <th>1</th>\n",
       "      <td>5400f7a37ace9961a211785a78fe36048f652923984801...</td>\n",
       "      <td>category_1</td>\n",
       "      <td>0</td>\n",
       "      <td>activity_1</td>\n",
       "      <td>category_28</td>\n",
       "      <td>road_5</td>\n",
       "      <td>no</td>\n",
       "      <td>2.5808</td>\n",
       "      <td>yes</td>\n",
       "      <td>no</td>\n",
       "      <td>...</td>\n",
       "      <td>-99999.0</td>\n",
       "      <td>-99999.0</td>\n",
       "      <td>-99999.000000</td>\n",
       "      <td>0.0</td>\n",
       "      <td>0.003995</td>\n",
       "      <td>-99999.0</td>\n",
       "      <td>-99999.0</td>\n",
       "      <td>0.0</td>\n",
       "      <td>1.0</td>\n",
       "      <td>1.0</td>\n",
       "    </tr>\n",
       "    <tr>\n",
       "      <th>2</th>\n",
       "      <td>5d35f55df443cc3b6d903f12ee1f05a8fa563fef0635c8...</td>\n",
       "      <td>category_1</td>\n",
       "      <td>0</td>\n",
       "      <td>activity_1</td>\n",
       "      <td>category_28</td>\n",
       "      <td>road_3</td>\n",
       "      <td>no</td>\n",
       "      <td>0.3026</td>\n",
       "      <td>yes</td>\n",
       "      <td>yes</td>\n",
       "      <td>...</td>\n",
       "      <td>-99999.0</td>\n",
       "      <td>-99999.0</td>\n",
       "      <td>0.007788</td>\n",
       "      <td>-99999.0</td>\n",
       "      <td>0.000000</td>\n",
       "      <td>-99999.0</td>\n",
       "      <td>-99999.0</td>\n",
       "      <td>0.0</td>\n",
       "      <td>2.0</td>\n",
       "      <td>2.0</td>\n",
       "    </tr>\n",
       "    <tr>\n",
       "      <th>3</th>\n",
       "      <td>a6f2cec37995d3a5793ec0e4489c69d396b9e1f80059c1...</td>\n",
       "      <td>category_1</td>\n",
       "      <td>0</td>\n",
       "      <td>activity_10</td>\n",
       "      <td>category_33</td>\n",
       "      <td>road_4</td>\n",
       "      <td>no</td>\n",
       "      <td>3.9883</td>\n",
       "      <td>no</td>\n",
       "      <td>yes</td>\n",
       "      <td>...</td>\n",
       "      <td>-99999.0</td>\n",
       "      <td>-99999.0</td>\n",
       "      <td>0.000000</td>\n",
       "      <td>0.0</td>\n",
       "      <td>0.000000</td>\n",
       "      <td>-99999.0</td>\n",
       "      <td>-99999.0</td>\n",
       "      <td>0.0</td>\n",
       "      <td>3.0</td>\n",
       "      <td>3.0</td>\n",
       "    </tr>\n",
       "    <tr>\n",
       "      <th>4</th>\n",
       "      <td>071a27b4ea5c188bebf86cbd8e2a7a910f7abc44023da6...</td>\n",
       "      <td>category_1</td>\n",
       "      <td>0</td>\n",
       "      <td>activity_11</td>\n",
       "      <td>category_31</td>\n",
       "      <td>road_3</td>\n",
       "      <td>no</td>\n",
       "      <td>3.2864</td>\n",
       "      <td>no</td>\n",
       "      <td>yes</td>\n",
       "      <td>...</td>\n",
       "      <td>-99999.0</td>\n",
       "      <td>-99999.0</td>\n",
       "      <td>-99999.000000</td>\n",
       "      <td>-99999.0</td>\n",
       "      <td>0.000000</td>\n",
       "      <td>-99999.0</td>\n",
       "      <td>-99999.0</td>\n",
       "      <td>0.0</td>\n",
       "      <td>1.0</td>\n",
       "      <td>1.0</td>\n",
       "    </tr>\n",
       "    <tr>\n",
       "      <th>...</th>\n",
       "      <td>...</td>\n",
       "      <td>...</td>\n",
       "      <td>...</td>\n",
       "      <td>...</td>\n",
       "      <td>...</td>\n",
       "      <td>...</td>\n",
       "      <td>...</td>\n",
       "      <td>...</td>\n",
       "      <td>...</td>\n",
       "      <td>...</td>\n",
       "      <td>...</td>\n",
       "      <td>...</td>\n",
       "      <td>...</td>\n",
       "      <td>...</td>\n",
       "      <td>...</td>\n",
       "      <td>...</td>\n",
       "      <td>...</td>\n",
       "      <td>...</td>\n",
       "      <td>...</td>\n",
       "      <td>...</td>\n",
       "      <td>...</td>\n",
       "    </tr>\n",
       "    <tr>\n",
       "      <th>810259</th>\n",
       "      <td>139f0f568bfcd0951c082a41d828fdaf9a89609ce1828e...</td>\n",
       "      <td>category_1</td>\n",
       "      <td>0</td>\n",
       "      <td>activity_6</td>\n",
       "      <td>category_17</td>\n",
       "      <td>road_1</td>\n",
       "      <td>no</td>\n",
       "      <td>2.8261</td>\n",
       "      <td>yes</td>\n",
       "      <td>yes</td>\n",
       "      <td>...</td>\n",
       "      <td>-99999.0</td>\n",
       "      <td>0.0</td>\n",
       "      <td>0.000000</td>\n",
       "      <td>0.0</td>\n",
       "      <td>0.000000</td>\n",
       "      <td>-99999.0</td>\n",
       "      <td>0.0</td>\n",
       "      <td>0.0</td>\n",
       "      <td>3.0</td>\n",
       "      <td>3.0</td>\n",
       "    </tr>\n",
       "    <tr>\n",
       "      <th>810260</th>\n",
       "      <td>5374a96d7ec5cc77c1c27a3e134a0279bf0579e3e1438d...</td>\n",
       "      <td>category_1</td>\n",
       "      <td>0</td>\n",
       "      <td>activity_6</td>\n",
       "      <td>category_26</td>\n",
       "      <td>road_5</td>\n",
       "      <td>no</td>\n",
       "      <td>2.9951</td>\n",
       "      <td>yes</td>\n",
       "      <td>yes</td>\n",
       "      <td>...</td>\n",
       "      <td>-99999.0</td>\n",
       "      <td>-99999.0</td>\n",
       "      <td>0.000000</td>\n",
       "      <td>-99999.0</td>\n",
       "      <td>0.000000</td>\n",
       "      <td>-99999.0</td>\n",
       "      <td>-99999.0</td>\n",
       "      <td>0.0</td>\n",
       "      <td>4.0</td>\n",
       "      <td>2.0</td>\n",
       "    </tr>\n",
       "    <tr>\n",
       "      <th>810261</th>\n",
       "      <td>d5b4abc3af09b6cb995ac5432547e947467f5500cbec1a...</td>\n",
       "      <td>category_3</td>\n",
       "      <td>0</td>\n",
       "      <td>activity_10</td>\n",
       "      <td>category_33</td>\n",
       "      <td>road_4</td>\n",
       "      <td>no</td>\n",
       "      <td>1.5540</td>\n",
       "      <td>no</td>\n",
       "      <td>yes</td>\n",
       "      <td>...</td>\n",
       "      <td>0.0</td>\n",
       "      <td>-99999.0</td>\n",
       "      <td>-99999.000000</td>\n",
       "      <td>-99999.0</td>\n",
       "      <td>-99999.000000</td>\n",
       "      <td>0.0</td>\n",
       "      <td>-99999.0</td>\n",
       "      <td>-1.0</td>\n",
       "      <td>2.0</td>\n",
       "      <td>1.0</td>\n",
       "    </tr>\n",
       "    <tr>\n",
       "      <th>810262</th>\n",
       "      <td>2a99b977be16542e62980b9172192717f9fe006bfc0577...</td>\n",
       "      <td>category_1</td>\n",
       "      <td>0</td>\n",
       "      <td>activity_2</td>\n",
       "      <td>category_4</td>\n",
       "      <td>road_2</td>\n",
       "      <td>no</td>\n",
       "      <td>3.5819</td>\n",
       "      <td>no</td>\n",
       "      <td>yes</td>\n",
       "      <td>...</td>\n",
       "      <td>-99999.0</td>\n",
       "      <td>-99999.0</td>\n",
       "      <td>0.000000</td>\n",
       "      <td>-99999.0</td>\n",
       "      <td>0.000000</td>\n",
       "      <td>-99999.0</td>\n",
       "      <td>-99999.0</td>\n",
       "      <td>0.0</td>\n",
       "      <td>3.0</td>\n",
       "      <td>4.0</td>\n",
       "    </tr>\n",
       "    <tr>\n",
       "      <th>810263</th>\n",
       "      <td>ae28dda78052d8da0ceacae55e8916d68b39b9413b8d05...</td>\n",
       "      <td>category_1</td>\n",
       "      <td>0</td>\n",
       "      <td>activity_10</td>\n",
       "      <td>category_34</td>\n",
       "      <td>road_2</td>\n",
       "      <td>no</td>\n",
       "      <td>3.3538</td>\n",
       "      <td>yes</td>\n",
       "      <td>no</td>\n",
       "      <td>...</td>\n",
       "      <td>-99999.0</td>\n",
       "      <td>-99999.0</td>\n",
       "      <td>-99999.000000</td>\n",
       "      <td>-99999.0</td>\n",
       "      <td>0.201063</td>\n",
       "      <td>-99999.0</td>\n",
       "      <td>-99999.0</td>\n",
       "      <td>0.0</td>\n",
       "      <td>1.0</td>\n",
       "      <td>1.0</td>\n",
       "    </tr>\n",
       "  </tbody>\n",
       "</table>\n",
       "<p>810264 rows × 84 columns</p>\n",
       "</div>"
      ],
      "text/plain": [
       "                                                       ID    category  target  \\\n",
       "0       5c0d6d516b2f11e55dc7ccf911117c4648efe1e37ba65b...  category_1       0   \n",
       "1       5400f7a37ace9961a211785a78fe36048f652923984801...  category_1       0   \n",
       "2       5d35f55df443cc3b6d903f12ee1f05a8fa563fef0635c8...  category_1       0   \n",
       "3       a6f2cec37995d3a5793ec0e4489c69d396b9e1f80059c1...  category_1       0   \n",
       "4       071a27b4ea5c188bebf86cbd8e2a7a910f7abc44023da6...  category_1       0   \n",
       "...                                                   ...         ...     ...   \n",
       "810259  139f0f568bfcd0951c082a41d828fdaf9a89609ce1828e...  category_1       0   \n",
       "810260  5374a96d7ec5cc77c1c27a3e134a0279bf0579e3e1438d...  category_1       0   \n",
       "810261  d5b4abc3af09b6cb995ac5432547e947467f5500cbec1a...  category_3       0   \n",
       "810262  2a99b977be16542e62980b9172192717f9fe006bfc0577...  category_1       0   \n",
       "810263  ae28dda78052d8da0ceacae55e8916d68b39b9413b8d05...  category_1       0   \n",
       "\n",
       "           activity economic_category    road license  time_from_start  \\\n",
       "0       activity_10        category_3  road_7      no           3.6778   \n",
       "1        activity_1       category_28  road_5      no           2.5808   \n",
       "2        activity_1       category_28  road_3      no           0.3026   \n",
       "3       activity_10       category_33  road_4      no           3.9883   \n",
       "4       activity_11       category_31  road_3      no           3.2864   \n",
       "...             ...               ...     ...     ...              ...   \n",
       "810259   activity_6       category_17  road_1      no           2.8261   \n",
       "810260   activity_6       category_26  road_5      no           2.9951   \n",
       "810261  activity_10       category_33  road_4      no           1.5540   \n",
       "810262   activity_2        category_4  road_2      no           3.5819   \n",
       "810263  activity_10       category_34  road_2      no           3.3538   \n",
       "\n",
       "       has_insurance normal_balance  ... days_default_mean_type_4  \\\n",
       "0                 no             no  ...                 -99999.0   \n",
       "1                yes             no  ...                 -99999.0   \n",
       "2                yes            yes  ...                 -99999.0   \n",
       "3                 no            yes  ...                 -99999.0   \n",
       "4                 no            yes  ...                 -99999.0   \n",
       "...              ...            ...  ...                      ...   \n",
       "810259           yes            yes  ...                 -99999.0   \n",
       "810260           yes            yes  ...                 -99999.0   \n",
       "810261            no            yes  ...                      0.0   \n",
       "810262            no            yes  ...                 -99999.0   \n",
       "810263           yes             no  ...                 -99999.0   \n",
       "\n",
       "        days_default_mean_type_5  days_default_var_type_1  \\\n",
       "0                       -99999.0                 0.780759   \n",
       "1                       -99999.0            -99999.000000   \n",
       "2                       -99999.0                 0.007788   \n",
       "3                       -99999.0                 0.000000   \n",
       "4                       -99999.0            -99999.000000   \n",
       "...                          ...                      ...   \n",
       "810259                       0.0                 0.000000   \n",
       "810260                  -99999.0                 0.000000   \n",
       "810261                  -99999.0            -99999.000000   \n",
       "810262                  -99999.0                 0.000000   \n",
       "810263                  -99999.0            -99999.000000   \n",
       "\n",
       "        days_default_var_type_2  days_default_var_type_3  \\\n",
       "0                      -99999.0                 0.251037   \n",
       "1                           0.0                 0.003995   \n",
       "2                      -99999.0                 0.000000   \n",
       "3                           0.0                 0.000000   \n",
       "4                      -99999.0                 0.000000   \n",
       "...                         ...                      ...   \n",
       "810259                      0.0                 0.000000   \n",
       "810260                 -99999.0                 0.000000   \n",
       "810261                 -99999.0            -99999.000000   \n",
       "810262                 -99999.0                 0.000000   \n",
       "810263                 -99999.0                 0.201063   \n",
       "\n",
       "        days_default_var_type_4  days_default_var_type_5  count_month  \\\n",
       "0                      -99999.0                 -99999.0          0.0   \n",
       "1                      -99999.0                 -99999.0          0.0   \n",
       "2                      -99999.0                 -99999.0          0.0   \n",
       "3                      -99999.0                 -99999.0          0.0   \n",
       "4                      -99999.0                 -99999.0          0.0   \n",
       "...                         ...                      ...          ...   \n",
       "810259                 -99999.0                      0.0          0.0   \n",
       "810260                 -99999.0                 -99999.0          0.0   \n",
       "810261                      0.0                 -99999.0         -1.0   \n",
       "810262                 -99999.0                 -99999.0          0.0   \n",
       "810263                 -99999.0                 -99999.0          0.0   \n",
       "\n",
       "        count_product  count_entity  \n",
       "0                 2.0           3.0  \n",
       "1                 1.0           1.0  \n",
       "2                 2.0           2.0  \n",
       "3                 3.0           3.0  \n",
       "4                 1.0           1.0  \n",
       "...               ...           ...  \n",
       "810259            3.0           3.0  \n",
       "810260            4.0           2.0  \n",
       "810261            2.0           1.0  \n",
       "810262            3.0           4.0  \n",
       "810263            1.0           1.0  \n",
       "\n",
       "[810264 rows x 84 columns]"
      ]
     },
     "execution_count": 28,
     "metadata": {},
     "output_type": "execute_result"
    }
   ],
   "source": [
    "train"
   ]
  },
  {
   "cell_type": "code",
   "execution_count": 33,
   "metadata": {},
   "outputs": [
    {
     "data": {
      "text/html": [
       "<div>\n",
       "<style scoped>\n",
       "    .dataframe tbody tr th:only-of-type {\n",
       "        vertical-align: middle;\n",
       "    }\n",
       "\n",
       "    .dataframe tbody tr th {\n",
       "        vertical-align: top;\n",
       "    }\n",
       "\n",
       "    .dataframe thead th {\n",
       "        text-align: right;\n",
       "    }\n",
       "</style>\n",
       "<table border=\"1\" class=\"dataframe\">\n",
       "  <thead>\n",
       "    <tr style=\"text-align: right;\">\n",
       "      <th></th>\n",
       "      <th>onehotencoder__x0_activity_1</th>\n",
       "      <th>onehotencoder__x0_activity_10</th>\n",
       "      <th>onehotencoder__x0_activity_11</th>\n",
       "      <th>onehotencoder__x0_activity_12</th>\n",
       "      <th>onehotencoder__x0_activity_2</th>\n",
       "      <th>onehotencoder__x0_activity_3</th>\n",
       "      <th>onehotencoder__x0_activity_4</th>\n",
       "      <th>onehotencoder__x0_activity_5</th>\n",
       "      <th>onehotencoder__x0_activity_6</th>\n",
       "      <th>onehotencoder__x0_activity_7</th>\n",
       "      <th>...</th>\n",
       "      <th>days_default_mean_type_4</th>\n",
       "      <th>days_default_mean_type_5</th>\n",
       "      <th>days_default_var_type_1</th>\n",
       "      <th>days_default_var_type_2</th>\n",
       "      <th>days_default_var_type_3</th>\n",
       "      <th>days_default_var_type_4</th>\n",
       "      <th>days_default_var_type_5</th>\n",
       "      <th>count_month</th>\n",
       "      <th>count_product</th>\n",
       "      <th>count_entity</th>\n",
       "    </tr>\n",
       "  </thead>\n",
       "  <tbody>\n",
       "    <tr>\n",
       "      <th>0</th>\n",
       "      <td>0</td>\n",
       "      <td>1</td>\n",
       "      <td>0</td>\n",
       "      <td>0</td>\n",
       "      <td>0</td>\n",
       "      <td>0</td>\n",
       "      <td>0</td>\n",
       "      <td>0</td>\n",
       "      <td>0</td>\n",
       "      <td>0</td>\n",
       "      <td>...</td>\n",
       "      <td>-99999</td>\n",
       "      <td>-99999</td>\n",
       "      <td>0.780759</td>\n",
       "      <td>-99999</td>\n",
       "      <td>0.251037</td>\n",
       "      <td>-99999</td>\n",
       "      <td>-99999</td>\n",
       "      <td>0</td>\n",
       "      <td>2</td>\n",
       "      <td>3</td>\n",
       "    </tr>\n",
       "    <tr>\n",
       "      <th>1</th>\n",
       "      <td>1</td>\n",
       "      <td>0</td>\n",
       "      <td>0</td>\n",
       "      <td>0</td>\n",
       "      <td>0</td>\n",
       "      <td>0</td>\n",
       "      <td>0</td>\n",
       "      <td>0</td>\n",
       "      <td>0</td>\n",
       "      <td>0</td>\n",
       "      <td>...</td>\n",
       "      <td>-99999</td>\n",
       "      <td>-99999</td>\n",
       "      <td>-99999</td>\n",
       "      <td>0</td>\n",
       "      <td>0.00399512</td>\n",
       "      <td>-99999</td>\n",
       "      <td>-99999</td>\n",
       "      <td>0</td>\n",
       "      <td>1</td>\n",
       "      <td>1</td>\n",
       "    </tr>\n",
       "    <tr>\n",
       "      <th>2</th>\n",
       "      <td>1</td>\n",
       "      <td>0</td>\n",
       "      <td>0</td>\n",
       "      <td>0</td>\n",
       "      <td>0</td>\n",
       "      <td>0</td>\n",
       "      <td>0</td>\n",
       "      <td>0</td>\n",
       "      <td>0</td>\n",
       "      <td>0</td>\n",
       "      <td>...</td>\n",
       "      <td>-99999</td>\n",
       "      <td>-99999</td>\n",
       "      <td>0.0077875</td>\n",
       "      <td>-99999</td>\n",
       "      <td>0</td>\n",
       "      <td>-99999</td>\n",
       "      <td>-99999</td>\n",
       "      <td>0</td>\n",
       "      <td>2</td>\n",
       "      <td>2</td>\n",
       "    </tr>\n",
       "    <tr>\n",
       "      <th>3</th>\n",
       "      <td>0</td>\n",
       "      <td>1</td>\n",
       "      <td>0</td>\n",
       "      <td>0</td>\n",
       "      <td>0</td>\n",
       "      <td>0</td>\n",
       "      <td>0</td>\n",
       "      <td>0</td>\n",
       "      <td>0</td>\n",
       "      <td>0</td>\n",
       "      <td>...</td>\n",
       "      <td>-99999</td>\n",
       "      <td>-99999</td>\n",
       "      <td>0</td>\n",
       "      <td>0</td>\n",
       "      <td>0</td>\n",
       "      <td>-99999</td>\n",
       "      <td>-99999</td>\n",
       "      <td>0</td>\n",
       "      <td>3</td>\n",
       "      <td>3</td>\n",
       "    </tr>\n",
       "    <tr>\n",
       "      <th>4</th>\n",
       "      <td>0</td>\n",
       "      <td>0</td>\n",
       "      <td>1</td>\n",
       "      <td>0</td>\n",
       "      <td>0</td>\n",
       "      <td>0</td>\n",
       "      <td>0</td>\n",
       "      <td>0</td>\n",
       "      <td>0</td>\n",
       "      <td>0</td>\n",
       "      <td>...</td>\n",
       "      <td>-99999</td>\n",
       "      <td>-99999</td>\n",
       "      <td>-99999</td>\n",
       "      <td>-99999</td>\n",
       "      <td>0</td>\n",
       "      <td>-99999</td>\n",
       "      <td>-99999</td>\n",
       "      <td>0</td>\n",
       "      <td>1</td>\n",
       "      <td>1</td>\n",
       "    </tr>\n",
       "    <tr>\n",
       "      <th>...</th>\n",
       "      <td>...</td>\n",
       "      <td>...</td>\n",
       "      <td>...</td>\n",
       "      <td>...</td>\n",
       "      <td>...</td>\n",
       "      <td>...</td>\n",
       "      <td>...</td>\n",
       "      <td>...</td>\n",
       "      <td>...</td>\n",
       "      <td>...</td>\n",
       "      <td>...</td>\n",
       "      <td>...</td>\n",
       "      <td>...</td>\n",
       "      <td>...</td>\n",
       "      <td>...</td>\n",
       "      <td>...</td>\n",
       "      <td>...</td>\n",
       "      <td>...</td>\n",
       "      <td>...</td>\n",
       "      <td>...</td>\n",
       "      <td>...</td>\n",
       "    </tr>\n",
       "    <tr>\n",
       "      <th>810259</th>\n",
       "      <td>0</td>\n",
       "      <td>0</td>\n",
       "      <td>0</td>\n",
       "      <td>0</td>\n",
       "      <td>0</td>\n",
       "      <td>0</td>\n",
       "      <td>0</td>\n",
       "      <td>0</td>\n",
       "      <td>1</td>\n",
       "      <td>0</td>\n",
       "      <td>...</td>\n",
       "      <td>-99999</td>\n",
       "      <td>0</td>\n",
       "      <td>0</td>\n",
       "      <td>0</td>\n",
       "      <td>0</td>\n",
       "      <td>-99999</td>\n",
       "      <td>0</td>\n",
       "      <td>0</td>\n",
       "      <td>3</td>\n",
       "      <td>3</td>\n",
       "    </tr>\n",
       "    <tr>\n",
       "      <th>810260</th>\n",
       "      <td>0</td>\n",
       "      <td>0</td>\n",
       "      <td>0</td>\n",
       "      <td>0</td>\n",
       "      <td>0</td>\n",
       "      <td>0</td>\n",
       "      <td>0</td>\n",
       "      <td>0</td>\n",
       "      <td>1</td>\n",
       "      <td>0</td>\n",
       "      <td>...</td>\n",
       "      <td>-99999</td>\n",
       "      <td>-99999</td>\n",
       "      <td>0</td>\n",
       "      <td>-99999</td>\n",
       "      <td>0</td>\n",
       "      <td>-99999</td>\n",
       "      <td>-99999</td>\n",
       "      <td>0</td>\n",
       "      <td>4</td>\n",
       "      <td>2</td>\n",
       "    </tr>\n",
       "    <tr>\n",
       "      <th>810261</th>\n",
       "      <td>0</td>\n",
       "      <td>1</td>\n",
       "      <td>0</td>\n",
       "      <td>0</td>\n",
       "      <td>0</td>\n",
       "      <td>0</td>\n",
       "      <td>0</td>\n",
       "      <td>0</td>\n",
       "      <td>0</td>\n",
       "      <td>0</td>\n",
       "      <td>...</td>\n",
       "      <td>0</td>\n",
       "      <td>-99999</td>\n",
       "      <td>-99999</td>\n",
       "      <td>-99999</td>\n",
       "      <td>-99999</td>\n",
       "      <td>0</td>\n",
       "      <td>-99999</td>\n",
       "      <td>-1</td>\n",
       "      <td>2</td>\n",
       "      <td>1</td>\n",
       "    </tr>\n",
       "    <tr>\n",
       "      <th>810262</th>\n",
       "      <td>0</td>\n",
       "      <td>0</td>\n",
       "      <td>0</td>\n",
       "      <td>0</td>\n",
       "      <td>1</td>\n",
       "      <td>0</td>\n",
       "      <td>0</td>\n",
       "      <td>0</td>\n",
       "      <td>0</td>\n",
       "      <td>0</td>\n",
       "      <td>...</td>\n",
       "      <td>-99999</td>\n",
       "      <td>-99999</td>\n",
       "      <td>0</td>\n",
       "      <td>-99999</td>\n",
       "      <td>0</td>\n",
       "      <td>-99999</td>\n",
       "      <td>-99999</td>\n",
       "      <td>0</td>\n",
       "      <td>3</td>\n",
       "      <td>4</td>\n",
       "    </tr>\n",
       "    <tr>\n",
       "      <th>810263</th>\n",
       "      <td>0</td>\n",
       "      <td>1</td>\n",
       "      <td>0</td>\n",
       "      <td>0</td>\n",
       "      <td>0</td>\n",
       "      <td>0</td>\n",
       "      <td>0</td>\n",
       "      <td>0</td>\n",
       "      <td>0</td>\n",
       "      <td>0</td>\n",
       "      <td>...</td>\n",
       "      <td>-99999</td>\n",
       "      <td>-99999</td>\n",
       "      <td>-99999</td>\n",
       "      <td>-99999</td>\n",
       "      <td>0.201063</td>\n",
       "      <td>-99999</td>\n",
       "      <td>-99999</td>\n",
       "      <td>0</td>\n",
       "      <td>1</td>\n",
       "      <td>1</td>\n",
       "    </tr>\n",
       "  </tbody>\n",
       "</table>\n",
       "<p>810264 rows × 107 columns</p>\n",
       "</div>"
      ],
      "text/plain": [
       "       onehotencoder__x0_activity_1 onehotencoder__x0_activity_10  \\\n",
       "0                                 0                             1   \n",
       "1                                 1                             0   \n",
       "2                                 1                             0   \n",
       "3                                 0                             1   \n",
       "4                                 0                             0   \n",
       "...                             ...                           ...   \n",
       "810259                            0                             0   \n",
       "810260                            0                             0   \n",
       "810261                            0                             1   \n",
       "810262                            0                             0   \n",
       "810263                            0                             1   \n",
       "\n",
       "       onehotencoder__x0_activity_11 onehotencoder__x0_activity_12  \\\n",
       "0                                  0                             0   \n",
       "1                                  0                             0   \n",
       "2                                  0                             0   \n",
       "3                                  0                             0   \n",
       "4                                  1                             0   \n",
       "...                              ...                           ...   \n",
       "810259                             0                             0   \n",
       "810260                             0                             0   \n",
       "810261                             0                             0   \n",
       "810262                             0                             0   \n",
       "810263                             0                             0   \n",
       "\n",
       "       onehotencoder__x0_activity_2 onehotencoder__x0_activity_3  \\\n",
       "0                                 0                            0   \n",
       "1                                 0                            0   \n",
       "2                                 0                            0   \n",
       "3                                 0                            0   \n",
       "4                                 0                            0   \n",
       "...                             ...                          ...   \n",
       "810259                            0                            0   \n",
       "810260                            0                            0   \n",
       "810261                            0                            0   \n",
       "810262                            1                            0   \n",
       "810263                            0                            0   \n",
       "\n",
       "       onehotencoder__x0_activity_4 onehotencoder__x0_activity_5  \\\n",
       "0                                 0                            0   \n",
       "1                                 0                            0   \n",
       "2                                 0                            0   \n",
       "3                                 0                            0   \n",
       "4                                 0                            0   \n",
       "...                             ...                          ...   \n",
       "810259                            0                            0   \n",
       "810260                            0                            0   \n",
       "810261                            0                            0   \n",
       "810262                            0                            0   \n",
       "810263                            0                            0   \n",
       "\n",
       "       onehotencoder__x0_activity_6 onehotencoder__x0_activity_7  ...  \\\n",
       "0                                 0                            0  ...   \n",
       "1                                 0                            0  ...   \n",
       "2                                 0                            0  ...   \n",
       "3                                 0                            0  ...   \n",
       "4                                 0                            0  ...   \n",
       "...                             ...                          ...  ...   \n",
       "810259                            1                            0  ...   \n",
       "810260                            1                            0  ...   \n",
       "810261                            0                            0  ...   \n",
       "810262                            0                            0  ...   \n",
       "810263                            0                            0  ...   \n",
       "\n",
       "       days_default_mean_type_4 days_default_mean_type_5  \\\n",
       "0                        -99999                   -99999   \n",
       "1                        -99999                   -99999   \n",
       "2                        -99999                   -99999   \n",
       "3                        -99999                   -99999   \n",
       "4                        -99999                   -99999   \n",
       "...                         ...                      ...   \n",
       "810259                   -99999                        0   \n",
       "810260                   -99999                   -99999   \n",
       "810261                        0                   -99999   \n",
       "810262                   -99999                   -99999   \n",
       "810263                   -99999                   -99999   \n",
       "\n",
       "       days_default_var_type_1 days_default_var_type_2  \\\n",
       "0                     0.780759                  -99999   \n",
       "1                       -99999                       0   \n",
       "2                    0.0077875                  -99999   \n",
       "3                            0                       0   \n",
       "4                       -99999                  -99999   \n",
       "...                        ...                     ...   \n",
       "810259                       0                       0   \n",
       "810260                       0                  -99999   \n",
       "810261                  -99999                  -99999   \n",
       "810262                       0                  -99999   \n",
       "810263                  -99999                  -99999   \n",
       "\n",
       "       days_default_var_type_3 days_default_var_type_4  \\\n",
       "0                     0.251037                  -99999   \n",
       "1                   0.00399512                  -99999   \n",
       "2                            0                  -99999   \n",
       "3                            0                  -99999   \n",
       "4                            0                  -99999   \n",
       "...                        ...                     ...   \n",
       "810259                       0                  -99999   \n",
       "810260                       0                  -99999   \n",
       "810261                  -99999                       0   \n",
       "810262                       0                  -99999   \n",
       "810263                0.201063                  -99999   \n",
       "\n",
       "       days_default_var_type_5 count_month count_product count_entity  \n",
       "0                       -99999           0             2            3  \n",
       "1                       -99999           0             1            1  \n",
       "2                       -99999           0             2            2  \n",
       "3                       -99999           0             3            3  \n",
       "4                       -99999           0             1            1  \n",
       "...                        ...         ...           ...          ...  \n",
       "810259                       0           0             3            3  \n",
       "810260                  -99999           0             4            2  \n",
       "810261                  -99999          -1             2            1  \n",
       "810262                  -99999           0             3            4  \n",
       "810263                  -99999           0             1            1  \n",
       "\n",
       "[810264 rows x 107 columns]"
      ]
     },
     "execution_count": 33,
     "metadata": {},
     "output_type": "execute_result"
    }
   ],
   "source": [
    "transformed_df"
   ]
  },
  {
   "cell_type": "code",
   "execution_count": 74,
   "metadata": {},
   "outputs": [],
   "source": [
    "transformed_df_test.drop(columns='target',inplace=True)"
   ]
  },
  {
   "cell_type": "code",
   "execution_count": 36,
   "metadata": {},
   "outputs": [],
   "source": [
    "train_cat_1 = transformed_df[transformed_df['category']=='category_1'].reset_index(drop=True)\n",
    "train_cat_2 = transformed_df[transformed_df['category']=='category_2'].reset_index(drop=True)\n",
    "train_cat_3 = transformed_df[transformed_df['category']=='category_3'].reset_index(drop=True)"
   ]
  },
  {
   "cell_type": "code",
   "execution_count": 75,
   "metadata": {},
   "outputs": [],
   "source": [
    "test_cat_1 = transformed_df_test[transformed_df_test['category']=='category_1'].reset_index(drop=True)\n",
    "test_cat_2 = transformed_df_test[transformed_df_test['category']=='category_2'].reset_index(drop=True)\n",
    "test_cat_3 = transformed_df_test[transformed_df_test['category']=='category_3'].reset_index(drop=True)"
   ]
  },
  {
   "cell_type": "code",
   "execution_count": 38,
   "metadata": {},
   "outputs": [],
   "source": [
    "from sklearn.model_selection import cross_validate, KFold, cross_val_score\n",
    "from sklearn.model_selection import train_test_split\n",
    "from sklearn.preprocessing import OneHotEncoder\n",
    "from sklearn.compose import make_column_transformer\n",
    "\n",
    "X_cat_1 = train_cat_1.drop(columns=['ID','target','category','economic_category'])\n",
    "X_cat_2 = train_cat_2.drop(columns=['ID','target','category','economic_category'])\n",
    "X_cat_3 = train_cat_3.drop(columns=['ID','target','category','economic_category'])\n",
    "\n",
    "X_cat_1 = X_cat_1.to_numpy()\n",
    "y_cat_1 = train_cat_1['target'].to_numpy()\n",
    "X_train_cat_1, X_test_cat_1, y_train_cat_1, y_test_cat_1 = train_test_split(X_cat_1, y_cat_1, test_size=0.25, random_state=42)\n",
    "\n",
    "X_cat_2 = X_cat_2.to_numpy()\n",
    "y_cat_2 = train_cat_2['target'].to_numpy()\n",
    "X_train_cat_2, X_test_cat_2, y_train_cat_2, y_test_cat_2 = train_test_split(X_cat_2, y_cat_2, test_size=0.25, random_state=42)\n",
    "\n",
    "X_cat_3 = X_cat_3.to_numpy()\n",
    "y_cat_3 = train_cat_3['target'].to_numpy()\n",
    "X_train_cat_3, X_test_cat_3, y_train_cat_3, y_test_cat_3 = train_test_split(X_cat_3, y_cat_3, test_size=0.25, random_state=42)"
   ]
  },
  {
   "cell_type": "code",
   "execution_count": 77,
   "metadata": {},
   "outputs": [],
   "source": [
    "## PREDICTION\n",
    "\n",
    "import xgboost as xgb\n",
    "\n",
    "X_cat_1_test = test_cat_1.drop(columns=['ID','category','economic_category'])\n",
    "X_cat_1_test = X_cat_1_test.to_numpy()\n",
    "\n",
    "X_cat_2_test = test_cat_2.drop(columns=['ID','category','economic_category'])\n",
    "X_cat_2_test = X_cat_2_test.to_numpy()\n",
    "\n",
    "X_cat_3_test = test_cat_3.drop(columns=['ID','category','economic_category'])\n",
    "X_cat_3_test = X_cat_3_test.to_numpy()"
   ]
  },
  {
   "cell_type": "code",
   "execution_count": 79,
   "metadata": {},
   "outputs": [],
   "source": [
    "X_cat_1_test = xgb.DMatrix(X_cat_1_test)\n",
    "X_cat_2_test = xgb.DMatrix(X_cat_2_test)\n",
    "X_cat_3_test = xgb.DMatrix(X_cat_3_test)"
   ]
  },
  {
   "cell_type": "code",
   "execution_count": 39,
   "metadata": {},
   "outputs": [],
   "source": [
    "del zero, transformed_df, transformed_df_test, train, test"
   ]
  },
  {
   "cell_type": "markdown",
   "metadata": {},
   "source": [
    "## Category 1"
   ]
  },
  {
   "cell_type": "code",
   "execution_count": 40,
   "metadata": {},
   "outputs": [],
   "source": [
    "from sklearn.metrics import f1_score\n",
    "import numpy as np\n",
    "\n",
    "def f1_eval(y_pred, dtrain):\n",
    "    y_true = dtrain.get_label()\n",
    "    err = 1-f1_score(y_true, np.round(y_pred))\n",
    "    return 'f1_err', err"
   ]
  },
  {
   "cell_type": "code",
   "execution_count": 41,
   "metadata": {},
   "outputs": [],
   "source": [
    "import xgboost as xgb\n",
    "\n",
    "dtrain = xgb.DMatrix(X_train_cat_1, label=y_train_cat_1)\n",
    "dtest = xgb.DMatrix(X_test_cat_1, label=y_test_cat_1)"
   ]
  },
  {
   "cell_type": "code",
   "execution_count": 40,
   "metadata": {},
   "outputs": [],
   "source": [
    "import optuna\n",
    "import os\n",
    "\n",
    "def objective(trial):\n",
    "\n",
    "    param = {\n",
    "        \"verbosity\": 0,\n",
    "        \"objective\": \"binary:logistic\",\n",
    "        \"scale_pos_weight\":98,\n",
    "        \"eval_metric\": \"auc\",\n",
    "        \"booster\": trial.suggest_categorical(\"booster\", [\"gbtree\", \"gblinear\", \"dart\"]),\n",
    "        \"lambda\": trial.suggest_loguniform(\"lambda\", 1e-8, 1.0),\n",
    "        \"alpha\": trial.suggest_loguniform(\"alpha\", 1e-8, 1.0),\n",
    "    }\n",
    "\n",
    "    if param[\"booster\"] == \"gbtree\" or param[\"booster\"] == \"dart\":\n",
    "        param[\"max_depth\"] = trial.suggest_int(\"max_depth\", 1, 9)\n",
    "        param[\"eta\"] = trial.suggest_float(\"eta\", 1e-8, 1.0, log=True)\n",
    "        param[\"gamma\"] = trial.suggest_float(\"gamma\", 1e-8, 1.0, log=True)\n",
    "        param[\"grow_policy\"] = trial.suggest_categorical(\"grow_policy\", [\"depthwise\", \"lossguide\"])\n",
    "    if param[\"booster\"] == \"dart\":\n",
    "        param[\"sample_type\"] = trial.suggest_categorical(\"sample_type\", [\"uniform\", \"weighted\"])\n",
    "        param[\"normalize_type\"] = trial.suggest_categorical(\"normalize_type\", [\"tree\", \"forest\"])\n",
    "        param[\"rate_drop\"] = trial.suggest_float(\"rate_drop\", 1e-8, 1.0, log=True)\n",
    "        param[\"skip_drop\"] = trial.suggest_float(\"skip_drop\", 1e-8, 1.0, log=True)\n",
    "\n",
    "    pruning_callback = optuna.integration.XGBoostPruningCallback(trial, \"test-auc\")\n",
    "    history = xgb.cv(param, dtrain, num_boost_round=100, callbacks=[pruning_callback])\n",
    "\n",
    "    mean_auc = history[\"test-auc-mean\"].values[-1]\n",
    "    return mean_auc"
   ]
  },
  {
   "cell_type": "code",
   "execution_count": 41,
   "metadata": {},
   "outputs": [
    {
     "name": "stderr",
     "output_type": "stream",
     "text": [
      "\u001b[32m[I 2022-11-04 04:12:34,334]\u001b[0m A new study created in memory with name: no-name-fe64a700-f862-4716-bf3f-deea5bd4b122\u001b[0m\n",
      "\u001b[32m[I 2022-11-04 04:13:05,435]\u001b[0m Trial 0 finished with value: 0.8313406666666667 and parameters: {'booster': 'gblinear', 'lambda': 0.4124151459121904, 'alpha': 0.0011813210933506748}. Best is trial 0 with value: 0.8313406666666667.\u001b[0m\n",
      "\u001b[32m[I 2022-11-04 04:24:48,216]\u001b[0m Trial 1 finished with value: 0.9111046666666667 and parameters: {'booster': 'dart', 'lambda': 5.63471801053697e-08, 'alpha': 4.4627682094477015e-05, 'max_depth': 6, 'eta': 0.004960127297704421, 'gamma': 0.10314459147475773, 'grow_policy': 'lossguide', 'sample_type': 'weighted', 'normalize_type': 'forest', 'rate_drop': 0.000943650957262476, 'skip_drop': 1.8182004556722812e-08}. Best is trial 1 with value: 0.9111046666666667.\u001b[0m\n",
      "\u001b[32m[I 2022-11-04 04:25:19,175]\u001b[0m Trial 2 finished with value: 0.8298503333333334 and parameters: {'booster': 'gblinear', 'lambda': 3.064204454938473e-07, 'alpha': 0.43386018660407794}. Best is trial 1 with value: 0.9111046666666667.\u001b[0m\n",
      "\u001b[32m[I 2022-11-04 04:25:51,368]\u001b[0m Trial 3 finished with value: 0.8353253333333334 and parameters: {'booster': 'gblinear', 'lambda': 0.00026429599123225654, 'alpha': 3.446850053534632e-08}. Best is trial 1 with value: 0.9111046666666667.\u001b[0m\n",
      "\u001b[32m[I 2022-11-04 04:28:36,864]\u001b[0m Trial 4 finished with value: 0.9163173333333333 and parameters: {'booster': 'gbtree', 'lambda': 0.30318651255820994, 'alpha': 5.01727365581843e-07, 'max_depth': 7, 'eta': 0.16025557345481278, 'gamma': 5.585900685056034e-07, 'grow_policy': 'depthwise'}. Best is trial 4 with value: 0.9163173333333333.\u001b[0m\n",
      "\u001b[32m[I 2022-11-04 04:28:42,913]\u001b[0m Trial 5 pruned. Trial was pruned at iteration 7.\u001b[0m\n",
      "\u001b[32m[I 2022-11-04 04:28:48,443]\u001b[0m Trial 6 pruned. Trial was pruned at iteration 5.\u001b[0m\n",
      "\u001b[32m[I 2022-11-04 04:40:16,632]\u001b[0m Trial 7 finished with value: 0.9129953333333334 and parameters: {'booster': 'dart', 'lambda': 4.615981509932305e-06, 'alpha': 0.001912310588684516, 'max_depth': 5, 'eta': 0.011790741277968315, 'gamma': 8.293017412626414e-08, 'grow_policy': 'lossguide', 'sample_type': 'weighted', 'normalize_type': 'tree', 'rate_drop': 0.0017247183652223746, 'skip_drop': 2.2997703148242617e-05}. Best is trial 4 with value: 0.9163173333333333.\u001b[0m\n",
      "\u001b[32m[I 2022-11-04 04:42:15,500]\u001b[0m Trial 8 finished with value: 0.9272963333333334 and parameters: {'booster': 'gbtree', 'lambda': 5.275612696534403e-08, 'alpha': 0.004205108426775527, 'max_depth': 5, 'eta': 0.06397265517156524, 'gamma': 2.037084136696262e-05, 'grow_policy': 'lossguide'}. Best is trial 8 with value: 0.9272963333333334.\u001b[0m\n",
      "\u001b[32m[I 2022-11-04 04:42:24,868]\u001b[0m Trial 9 pruned. Trial was pruned at iteration 5.\u001b[0m\n",
      "\u001b[32m[I 2022-11-04 04:42:33,750]\u001b[0m Trial 10 pruned. Trial was pruned at iteration 5.\u001b[0m\n",
      "\u001b[32m[I 2022-11-04 04:42:51,650]\u001b[0m Trial 11 pruned. Trial was pruned at iteration 5.\u001b[0m\n",
      "\u001b[32m[I 2022-11-04 04:43:06,028]\u001b[0m Trial 12 pruned. Trial was pruned at iteration 5.\u001b[0m\n",
      "\u001b[32m[I 2022-11-04 04:43:16,129]\u001b[0m Trial 13 pruned. Trial was pruned at iteration 5.\u001b[0m\n",
      "\u001b[32m[I 2022-11-04 04:43:32,230]\u001b[0m Trial 14 pruned. Trial was pruned at iteration 5.\u001b[0m\n",
      "\u001b[32m[I 2022-11-04 04:45:54,979]\u001b[0m Trial 15 finished with value: 0.925388 and parameters: {'booster': 'gbtree', 'lambda': 2.2935951292828256e-05, 'alpha': 6.449710270176924e-08, 'max_depth': 6, 'eta': 0.04481318673578086, 'gamma': 0.001129935106165581, 'grow_policy': 'depthwise'}. Best is trial 8 with value: 0.9272963333333334.\u001b[0m\n",
      "\u001b[32m[I 2022-11-04 04:46:06,432]\u001b[0m Trial 16 pruned. Trial was pruned at iteration 5.\u001b[0m\n",
      "\u001b[32m[I 2022-11-04 04:46:16,531]\u001b[0m Trial 17 pruned. Trial was pruned at iteration 5.\u001b[0m\n",
      "\u001b[32m[I 2022-11-04 04:46:30,821]\u001b[0m Trial 18 pruned. Trial was pruned at iteration 6.\u001b[0m\n",
      "\u001b[32m[I 2022-11-04 04:46:38,495]\u001b[0m Trial 19 pruned. Trial was pruned at iteration 5.\u001b[0m\n",
      "\u001b[32m[I 2022-11-04 04:46:46,804]\u001b[0m Trial 20 pruned. Trial was pruned at iteration 5.\u001b[0m\n",
      "\u001b[32m[I 2022-11-04 04:49:29,328]\u001b[0m Trial 21 finished with value: 0.9080786666666668 and parameters: {'booster': 'gbtree', 'lambda': 0.03930427554974047, 'alpha': 8.825497780808499e-07, 'max_depth': 7, 'eta': 0.20106629260184516, 'gamma': 9.883911255051838e-07, 'grow_policy': 'depthwise'}. Best is trial 8 with value: 0.9272963333333334.\u001b[0m\n",
      "\u001b[32m[I 2022-11-04 04:49:50,123]\u001b[0m Trial 22 pruned. Trial was pruned at iteration 9.\u001b[0m\n",
      "\u001b[32m[I 2022-11-04 04:50:02,991]\u001b[0m Trial 23 pruned. Trial was pruned at iteration 5.\u001b[0m\n",
      "\u001b[32m[I 2022-11-04 04:53:16,696]\u001b[0m Trial 24 finished with value: 0.917553 and parameters: {'booster': 'gbtree', 'lambda': 0.0020649373719559033, 'alpha': 2.1844912309753814e-08, 'max_depth': 8, 'eta': 0.06662963903543927, 'gamma': 0.6829411205249047, 'grow_policy': 'depthwise'}. Best is trial 8 with value: 0.9272963333333334.\u001b[0m\n",
      "\u001b[32m[I 2022-11-04 04:53:34,869]\u001b[0m Trial 25 pruned. Trial was pruned at iteration 5.\u001b[0m\n",
      "\u001b[32m[I 2022-11-04 04:53:51,021]\u001b[0m Trial 26 pruned. Trial was pruned at iteration 5.\u001b[0m\n",
      "\u001b[32m[I 2022-11-04 04:55:49,901]\u001b[0m Trial 27 finished with value: 0.9272509999999999 and parameters: {'booster': 'gbtree', 'lambda': 0.000152889728016244, 'alpha': 2.2106135994628103e-06, 'max_depth': 5, 'eta': 0.06432753212689547, 'gamma': 0.0004855855651881673, 'grow_policy': 'depthwise'}. Best is trial 8 with value: 0.9272963333333334.\u001b[0m\n",
      "\u001b[32m[I 2022-11-04 04:56:01,323]\u001b[0m Trial 28 pruned. Trial was pruned at iteration 5.\u001b[0m\n",
      "\u001b[32m[I 2022-11-04 04:56:12,732]\u001b[0m Trial 29 pruned. Trial was pruned at iteration 5.\u001b[0m\n",
      "\u001b[32m[I 2022-11-04 04:56:18,206]\u001b[0m Trial 30 pruned. Trial was pruned at iteration 5.\u001b[0m\n",
      "\u001b[32m[I 2022-11-04 04:56:29,676]\u001b[0m Trial 31 pruned. Trial was pruned at iteration 5.\u001b[0m\n",
      "\u001b[32m[I 2022-11-04 04:58:50,740]\u001b[0m Trial 32 finished with value: 0.925516 and parameters: {'booster': 'gbtree', 'lambda': 8.507102762385692e-05, 'alpha': 7.986928408920814e-05, 'max_depth': 6, 'eta': 0.0931107200747852, 'gamma': 3.390966757390108e-05, 'grow_policy': 'depthwise'}. Best is trial 8 with value: 0.9272963333333334.\u001b[0m\n",
      "\u001b[32m[I 2022-11-04 05:01:09,436]\u001b[0m Trial 33 finished with value: 0.9031540000000001 and parameters: {'booster': 'gbtree', 'lambda': 0.00011965274941432775, 'alpha': 5.099917030361923e-05, 'max_depth': 6, 'eta': 0.3270885075750693, 'gamma': 4.57853412396687e-05, 'grow_policy': 'depthwise'}. Best is trial 8 with value: 0.9272963333333334.\u001b[0m\n",
      "\u001b[32m[I 2022-11-04 05:01:20,842]\u001b[0m Trial 34 pruned. Trial was pruned at iteration 5.\u001b[0m\n",
      "\u001b[32m[I 2022-11-04 05:01:31,250]\u001b[0m Trial 35 pruned. Trial was pruned at iteration 5.\u001b[0m\n",
      "\u001b[32m[I 2022-11-04 05:01:36,598]\u001b[0m Trial 36 pruned. Trial was pruned at iteration 5.\u001b[0m\n",
      "\u001b[32m[I 2022-11-04 05:01:51,130]\u001b[0m Trial 37 pruned. Trial was pruned at iteration 5.\u001b[0m\n",
      "\u001b[32m[I 2022-11-04 05:01:56,482]\u001b[0m Trial 38 pruned. Trial was pruned at iteration 5.\u001b[0m\n",
      "\u001b[32m[I 2022-11-04 05:02:09,302]\u001b[0m Trial 39 pruned. Trial was pruned at iteration 5.\u001b[0m\n",
      "\u001b[32m[I 2022-11-04 05:03:25,121]\u001b[0m Trial 40 finished with value: 0.9221213333333332 and parameters: {'booster': 'gbtree', 'lambda': 0.000418235807800035, 'alpha': 2.5394232402647086e-06, 'max_depth': 3, 'eta': 0.44929175473559824, 'gamma': 0.021690131472107178, 'grow_policy': 'lossguide'}. Best is trial 8 with value: 0.9272963333333334.\u001b[0m\n",
      "\u001b[32m[I 2022-11-04 05:04:41,048]\u001b[0m Trial 41 finished with value: 0.9211556666666666 and parameters: {'booster': 'gbtree', 'lambda': 0.0004126399382398929, 'alpha': 2.8555451755904604e-06, 'max_depth': 3, 'eta': 0.5341695478711925, 'gamma': 0.015200075635155321, 'grow_policy': 'lossguide'}. Best is trial 8 with value: 0.9272963333333334.\u001b[0m\n",
      "\u001b[32m[I 2022-11-04 05:04:50,048]\u001b[0m Trial 42 pruned. Trial was pruned at iteration 5.\u001b[0m\n",
      "\u001b[32m[I 2022-11-04 05:07:09,857]\u001b[0m Trial 43 finished with value: 0.9209483333333334 and parameters: {'booster': 'gbtree', 'lambda': 0.00029682642803445584, 'alpha': 1.983195192326686e-05, 'max_depth': 6, 'eta': 0.17282172782139107, 'gamma': 0.00010906300203201529, 'grow_policy': 'lossguide'}. Best is trial 8 with value: 0.9272963333333334.\u001b[0m\n",
      "\u001b[32m[I 2022-11-04 05:07:24,554]\u001b[0m Trial 44 pruned. Trial was pruned at iteration 5.\u001b[0m\n",
      "\u001b[32m[I 2022-11-04 05:07:33,849]\u001b[0m Trial 45 pruned. Trial was pruned at iteration 5.\u001b[0m\n",
      "\u001b[32m[I 2022-11-04 05:07:45,215]\u001b[0m Trial 46 pruned. Trial was pruned at iteration 5.\u001b[0m\n",
      "\u001b[32m[I 2022-11-04 05:07:50,711]\u001b[0m Trial 47 pruned. Trial was pruned at iteration 5.\u001b[0m\n",
      "\u001b[32m[I 2022-11-04 05:08:00,786]\u001b[0m Trial 48 pruned. Trial was pruned at iteration 5.\u001b[0m\n",
      "\u001b[32m[I 2022-11-04 05:08:38,130]\u001b[0m Trial 49 pruned. Trial was pruned at iteration 45.\u001b[0m\n",
      "\u001b[32m[I 2022-11-04 05:10:35,114]\u001b[0m Trial 50 finished with value: 0.9207256666666668 and parameters: {'booster': 'gbtree', 'lambda': 3.8628337765967035e-08, 'alpha': 0.11185328533746484, 'max_depth': 5, 'eta': 0.2453676302804557, 'gamma': 3.340348338963221e-05, 'grow_policy': 'depthwise'}. Best is trial 8 with value: 0.9272963333333334.\u001b[0m\n",
      "\u001b[32m[I 2022-11-04 05:11:51,109]\u001b[0m Trial 51 finished with value: 0.9238936666666667 and parameters: {'booster': 'gbtree', 'lambda': 0.0001460329429440308, 'alpha': 3.0033937478566326e-06, 'max_depth': 3, 'eta': 0.4520633503424861, 'gamma': 0.013170026051056999, 'grow_policy': 'lossguide'}. Best is trial 8 with value: 0.9272963333333334.\u001b[0m\n",
      "\u001b[32m[I 2022-11-04 05:11:57,645]\u001b[0m Trial 52 pruned. Trial was pruned at iteration 5.\u001b[0m\n",
      "\u001b[32m[I 2022-11-04 05:12:05,685]\u001b[0m Trial 53 pruned. Trial was pruned at iteration 5.\u001b[0m\n",
      "\u001b[32m[I 2022-11-04 05:12:15,736]\u001b[0m Trial 54 pruned. Trial was pruned at iteration 5.\u001b[0m\n",
      "\u001b[32m[I 2022-11-04 05:12:24,503]\u001b[0m Trial 55 pruned. Trial was pruned at iteration 5.\u001b[0m\n",
      "\u001b[32m[I 2022-11-04 05:12:38,812]\u001b[0m Trial 56 pruned. Trial was pruned at iteration 5.\u001b[0m\n",
      "\u001b[32m[I 2022-11-04 05:12:50,129]\u001b[0m Trial 57 pruned. Trial was pruned at iteration 5.\u001b[0m\n",
      "\u001b[32m[I 2022-11-04 05:13:00,232]\u001b[0m Trial 58 pruned. Trial was pruned at iteration 5.\u001b[0m\n",
      "\u001b[32m[I 2022-11-04 05:15:19,809]\u001b[0m Trial 59 finished with value: 0.9173933333333334 and parameters: {'booster': 'gbtree', 'lambda': 3.506075319214103e-07, 'alpha': 1.1482857733939402e-07, 'max_depth': 6, 'eta': 0.19535981302894753, 'gamma': 0.0024346981649144093, 'grow_policy': 'depthwise'}. Best is trial 8 with value: 0.9272963333333334.\u001b[0m\n",
      "\u001b[32m[I 2022-11-04 05:15:29,946]\u001b[0m Trial 60 pruned. Trial was pruned at iteration 5.\u001b[0m\n",
      "\u001b[32m[I 2022-11-04 05:16:46,750]\u001b[0m Trial 61 finished with value: 0.9232426666666665 and parameters: {'booster': 'gbtree', 'lambda': 0.0003559949740129235, 'alpha': 2.1218262067153923e-06, 'max_depth': 3, 'eta': 0.45030482300573393, 'gamma': 0.017157347783299498, 'grow_policy': 'lossguide'}. Best is trial 8 with value: 0.9272963333333334.\u001b[0m\n",
      "\u001b[32m[I 2022-11-04 05:16:54,229]\u001b[0m Trial 62 pruned. Trial was pruned at iteration 5.\u001b[0m\n",
      "\u001b[32m[I 2022-11-04 05:17:30,618]\u001b[0m Trial 63 pruned. Trial was pruned at iteration 44.\u001b[0m\n",
      "\u001b[32m[I 2022-11-04 05:17:38,032]\u001b[0m Trial 64 pruned. Trial was pruned at iteration 5.\u001b[0m\n",
      "\u001b[32m[I 2022-11-04 05:17:47,886]\u001b[0m Trial 65 pruned. Trial was pruned at iteration 5.\u001b[0m\n",
      "\u001b[32m[I 2022-11-04 05:17:53,070]\u001b[0m Trial 66 pruned. Trial was pruned at iteration 5.\u001b[0m\n",
      "\u001b[32m[I 2022-11-04 05:18:05,643]\u001b[0m Trial 67 pruned. Trial was pruned at iteration 5.\u001b[0m\n",
      "\u001b[32m[I 2022-11-04 05:20:02,536]\u001b[0m Trial 68 finished with value: 0.916454 and parameters: {'booster': 'gbtree', 'lambda': 0.0005040761847830474, 'alpha': 0.010621474439615863, 'max_depth': 5, 'eta': 0.3121923711705161, 'gamma': 0.0005131209671928468, 'grow_policy': 'depthwise'}. Best is trial 8 with value: 0.9272963333333334.\u001b[0m\n",
      "\u001b[32m[I 2022-11-04 05:20:16,600]\u001b[0m Trial 69 pruned. Trial was pruned at iteration 5.\u001b[0m\n",
      "\u001b[32m[I 2022-11-04 05:20:28,566]\u001b[0m Trial 70 pruned. Trial was pruned at iteration 5.\u001b[0m\n",
      "\u001b[32m[I 2022-11-04 05:21:44,139]\u001b[0m Trial 71 finished with value: 0.9230006666666667 and parameters: {'booster': 'gbtree', 'lambda': 0.0004063270560760232, 'alpha': 3.0842209855924545e-06, 'max_depth': 3, 'eta': 0.4636831209469635, 'gamma': 0.015421163684584861, 'grow_policy': 'lossguide'}. Best is trial 8 with value: 0.9272963333333334.\u001b[0m\n",
      "\u001b[32m[I 2022-11-04 05:22:04,153]\u001b[0m Trial 72 pruned. Trial was pruned at iteration 21.\u001b[0m\n",
      "\u001b[32m[I 2022-11-04 05:22:11,503]\u001b[0m Trial 73 pruned. Trial was pruned at iteration 5.\u001b[0m\n",
      "\u001b[32m[I 2022-11-04 05:22:20,044]\u001b[0m Trial 74 pruned. Trial was pruned at iteration 5.\u001b[0m\n",
      "\u001b[32m[I 2022-11-04 05:22:46,991]\u001b[0m Trial 75 pruned. Trial was pruned at iteration 19.\u001b[0m\n",
      "\u001b[32m[I 2022-11-04 05:22:56,849]\u001b[0m Trial 76 pruned. Trial was pruned at iteration 5.\u001b[0m\n",
      "\u001b[32m[I 2022-11-04 05:23:05,406]\u001b[0m Trial 77 pruned. Trial was pruned at iteration 5.\u001b[0m\n",
      "\u001b[32m[I 2022-11-04 05:23:10,958]\u001b[0m Trial 78 pruned. Trial was pruned at iteration 5.\u001b[0m\n",
      "\u001b[32m[I 2022-11-04 05:24:04,330]\u001b[0m Trial 79 pruned. Trial was pruned at iteration 35.\u001b[0m\n",
      "\u001b[32m[I 2022-11-04 05:24:22,145]\u001b[0m Trial 80 pruned. Trial was pruned at iteration 6.\u001b[0m\n",
      "\u001b[32m[I 2022-11-04 05:25:37,675]\u001b[0m Trial 81 finished with value: 0.9222343333333333 and parameters: {'booster': 'gbtree', 'lambda': 0.0003442296774175387, 'alpha': 2.979052574018946e-06, 'max_depth': 3, 'eta': 0.485808047708868, 'gamma': 0.015695742664714848, 'grow_policy': 'lossguide'}. Best is trial 8 with value: 0.9272963333333334.\u001b[0m\n",
      "\u001b[32m[I 2022-11-04 05:26:53,290]\u001b[0m Trial 82 finished with value: 0.9208766666666667 and parameters: {'booster': 'gbtree', 'lambda': 0.00031273710884430157, 'alpha': 1.2857192104426986e-06, 'max_depth': 3, 'eta': 0.5660441342280297, 'gamma': 0.00831618438685854, 'grow_policy': 'lossguide'}. Best is trial 8 with value: 0.9272963333333334.\u001b[0m\n",
      "\u001b[32m[I 2022-11-04 05:27:01,901]\u001b[0m Trial 83 pruned. Trial was pruned at iteration 5.\u001b[0m\n",
      "\u001b[32m[I 2022-11-04 05:27:09,254]\u001b[0m Trial 84 pruned. Trial was pruned at iteration 5.\u001b[0m\n",
      "\u001b[32m[I 2022-11-04 05:27:19,088]\u001b[0m Trial 85 pruned. Trial was pruned at iteration 5.\u001b[0m\n",
      "\u001b[32m[I 2022-11-04 05:27:26,481]\u001b[0m Trial 86 pruned. Trial was pruned at iteration 5.\u001b[0m\n",
      "\u001b[32m[I 2022-11-04 05:27:35,453]\u001b[0m Trial 87 pruned. Trial was pruned at iteration 5.\u001b[0m\n",
      "\u001b[32m[I 2022-11-04 05:27:49,722]\u001b[0m Trial 88 pruned. Trial was pruned at iteration 5.\u001b[0m\n",
      "\u001b[32m[I 2022-11-04 05:28:00,861]\u001b[0m Trial 89 pruned. Trial was pruned at iteration 5.\u001b[0m\n",
      "\u001b[32m[I 2022-11-04 05:28:07,085]\u001b[0m Trial 90 pruned. Trial was pruned at iteration 5.\u001b[0m\n",
      "\u001b[32m[I 2022-11-04 05:29:22,799]\u001b[0m Trial 91 finished with value: 0.9234240000000001 and parameters: {'booster': 'gbtree', 'lambda': 0.0003864206736641352, 'alpha': 3.6136905856456736e-06, 'max_depth': 3, 'eta': 0.5094986313687946, 'gamma': 0.016843129878044885, 'grow_policy': 'lossguide'}. Best is trial 8 with value: 0.9272963333333334.\u001b[0m\n",
      "\u001b[32m[I 2022-11-04 05:29:31,400]\u001b[0m Trial 92 pruned. Trial was pruned at iteration 5.\u001b[0m\n",
      "\u001b[32m[I 2022-11-04 05:29:40,042]\u001b[0m Trial 93 pruned. Trial was pruned at iteration 5.\u001b[0m\n",
      "\u001b[32m[I 2022-11-04 05:29:49,905]\u001b[0m Trial 94 pruned. Trial was pruned at iteration 5.\u001b[0m\n",
      "\u001b[32m[I 2022-11-04 05:29:58,825]\u001b[0m Trial 95 pruned. Trial was pruned at iteration 5.\u001b[0m\n",
      "\u001b[32m[I 2022-11-04 05:30:12,876]\u001b[0m Trial 96 pruned. Trial was pruned at iteration 5.\u001b[0m\n",
      "\u001b[32m[I 2022-11-04 05:30:20,208]\u001b[0m Trial 97 pruned. Trial was pruned at iteration 5.\u001b[0m\n",
      "\u001b[32m[I 2022-11-04 05:30:25,322]\u001b[0m Trial 98 pruned. Trial was pruned at iteration 5.\u001b[0m\n",
      "\u001b[32m[I 2022-11-04 05:30:39,236]\u001b[0m Trial 99 pruned. Trial was pruned at iteration 6.\u001b[0m\n"
     ]
    }
   ],
   "source": [
    "pruner = optuna.pruners.MedianPruner(n_warmup_steps=5)\n",
    "study = optuna.create_study(pruner=pruner, direction=\"maximize\")\n",
    "study.optimize(objective, n_trials=100)"
   ]
  },
  {
   "cell_type": "code",
   "execution_count": 47,
   "metadata": {},
   "outputs": [
    {
     "data": {
      "text/plain": [
       "{'booster': 'gbtree',\n",
       " 'lambda': 5.275612696534403e-08,\n",
       " 'alpha': 0.004205108426775527,\n",
       " 'max_depth': 5,\n",
       " 'eta': 0.06397265517156524,\n",
       " 'gamma': 2.037084136696262e-05,\n",
       " 'grow_policy': 'lossguide'}"
      ]
     },
     "execution_count": 47,
     "metadata": {},
     "output_type": "execute_result"
    }
   ],
   "source": [
    "study.best_trial.params"
   ]
  },
  {
   "cell_type": "code",
   "execution_count": 90,
   "metadata": {},
   "outputs": [
    {
     "name": "stdout",
     "output_type": "stream",
     "text": [
      "[03:41:26] WARNING: ../src/learner.cc:1115: Starting in XGBoost 1.3.0, the default evaluation metric used with the objective 'binary:logistic' was changed from 'error' to 'logloss'. Explicitly set eval_metric if you'd like to restore the old behavior.\n"
     ]
    }
   ],
   "source": [
    "# train model:\n",
    "\n",
    "param = {\n",
    "        \"objective\": \"binary:logistic\",\n",
    "        \"scale_pos_weight\":5,\n",
    "        'booster': 'gbtree',\n",
    "        \"lambda\": 5.275612696534403e-08,\n",
    "        \"alpha\": 0.004205108426775527,\n",
    "        'max_depth': 5,\n",
    "        'eta': 0.06397265517156524,\n",
    "        'gamma': 2.037084136696262e-05,\n",
    "        'grow_policy': 'lossguide'\n",
    "    }\n",
    "\n",
    "model = xgb.train(param,dtrain,num_boost_round=100)"
   ]
  },
  {
   "cell_type": "code",
   "execution_count": 91,
   "metadata": {},
   "outputs": [],
   "source": [
    "pred = model.predict(dtest)"
   ]
  },
  {
   "cell_type": "code",
   "execution_count": 92,
   "metadata": {},
   "outputs": [
    {
     "data": {
      "text/plain": [
       "array([0.01522819, 0.00248375, 0.00354085, ..., 0.03897903, 0.20456088,\n",
       "       0.01145077], dtype=float32)"
      ]
     },
     "execution_count": 92,
     "metadata": {},
     "output_type": "execute_result"
    }
   ],
   "source": [
    "pred"
   ]
  },
  {
   "cell_type": "code",
   "execution_count": 93,
   "metadata": {},
   "outputs": [
    {
     "data": {
      "text/plain": [
       "array([0., 0., 0., ..., 0., 0., 0.])"
      ]
     },
     "execution_count": 93,
     "metadata": {},
     "output_type": "execute_result"
    }
   ],
   "source": [
    "y_test_cat_1"
   ]
  },
  {
   "cell_type": "code",
   "execution_count": 53,
   "metadata": {},
   "outputs": [],
   "source": [
    "y_test_cat_1 = y_test_cat_1.astype('float64')"
   ]
  },
  {
   "cell_type": "code",
   "execution_count": 94,
   "metadata": {},
   "outputs": [
    {
     "data": {
      "text/plain": [
       "0.9218248712761363"
      ]
     },
     "execution_count": 94,
     "metadata": {},
     "output_type": "execute_result"
    }
   ],
   "source": [
    "from sklearn.metrics import roc_auc_score\n",
    "\n",
    "roc_auc_score(y_test_cat_1, pred)"
   ]
  },
  {
   "cell_type": "code",
   "execution_count": 95,
   "metadata": {},
   "outputs": [
    {
     "data": {
      "text/plain": [
       "0.2836807320793086"
      ]
     },
     "execution_count": 95,
     "metadata": {},
     "output_type": "execute_result"
    }
   ],
   "source": [
    "f1_score(y_test_cat_1, np.round(pred))"
   ]
  },
  {
   "cell_type": "code",
   "execution_count": 80,
   "metadata": {},
   "outputs": [],
   "source": [
    "pred = model.predict(X_cat_1_test)"
   ]
  },
  {
   "cell_type": "code",
   "execution_count": 85,
   "metadata": {},
   "outputs": [],
   "source": [
    "test_cat_1['target'] = np.round(pred)"
   ]
  },
  {
   "cell_type": "code",
   "execution_count": 86,
   "metadata": {},
   "outputs": [
    {
     "data": {
      "text/plain": [
       "0.0    289610\n",
       "1.0      4159\n",
       "Name: target, dtype: int64"
      ]
     },
     "execution_count": 86,
     "metadata": {},
     "output_type": "execute_result"
    }
   ],
   "source": [
    "test_cat_1['target'].value_counts()"
   ]
  },
  {
   "cell_type": "code",
   "execution_count": 87,
   "metadata": {},
   "outputs": [],
   "source": [
    "test_cat_1 = test_cat_1[['ID','target']]"
   ]
  },
  {
   "cell_type": "code",
   "execution_count": 89,
   "metadata": {},
   "outputs": [],
   "source": [
    "test_cat_1.to_csv('../../entregables/version_2/category_1.csv',index=False)"
   ]
  },
  {
   "cell_type": "code",
   "execution_count": null,
   "metadata": {},
   "outputs": [],
   "source": [
    "import pickle\n",
    "file_name = \"./xgboost_models/xgb_cat_1.pkl\"\n",
    "\n",
    "# save\n",
    "pickle.dump(model, open(file_name, \"wb\"))\n",
    "\n",
    "# load\n",
    "#xgb_model_loaded = pickle.load(open(file_name, \"rb\"))"
   ]
  },
  {
   "cell_type": "markdown",
   "metadata": {},
   "source": [
    "## Category 2"
   ]
  },
  {
   "cell_type": "code",
   "execution_count": 96,
   "metadata": {},
   "outputs": [],
   "source": [
    "import xgboost as xgb\n",
    "\n",
    "dtrain = xgb.DMatrix(X_train_cat_2, label=y_train_cat_2)\n",
    "dtest = xgb.DMatrix(X_test_cat_2, label=y_test_cat_2)"
   ]
  },
  {
   "cell_type": "code",
   "execution_count": 99,
   "metadata": {},
   "outputs": [],
   "source": [
    "import optuna\n",
    "import os\n",
    "\n",
    "def objective_cat2(trial):\n",
    "\n",
    "    param = {\n",
    "        \"verbosity\": 0,\n",
    "        \"objective\": \"binary:logistic\",\n",
    "        \"scale_pos_weight\":trial.suggest_int(\"scale_pos_weight\", 1, 3),\n",
    "        \"eval_metric\": \"auc\",\n",
    "        \"booster\": trial.suggest_categorical(\"booster\", [\"gbtree\", \"gblinear\", \"dart\"]),\n",
    "        \"lambda\": trial.suggest_loguniform(\"lambda\", 1e-8, 1.0),\n",
    "        \"alpha\": trial.suggest_loguniform(\"alpha\", 1e-8, 1.0),\n",
    "    }\n",
    "\n",
    "    if param[\"booster\"] == \"gbtree\" or param[\"booster\"] == \"dart\":\n",
    "        param[\"max_depth\"] = trial.suggest_int(\"max_depth\", 1, 9)\n",
    "        param[\"eta\"] = trial.suggest_float(\"eta\", 1e-8, 1.0, log=True)\n",
    "        param[\"gamma\"] = trial.suggest_float(\"gamma\", 1e-8, 1.0, log=True)\n",
    "        param[\"grow_policy\"] = trial.suggest_categorical(\"grow_policy\", [\"depthwise\", \"lossguide\"])\n",
    "    if param[\"booster\"] == \"dart\":\n",
    "        param[\"sample_type\"] = trial.suggest_categorical(\"sample_type\", [\"uniform\", \"weighted\"])\n",
    "        param[\"normalize_type\"] = trial.suggest_categorical(\"normalize_type\", [\"tree\", \"forest\"])\n",
    "        param[\"rate_drop\"] = trial.suggest_float(\"rate_drop\", 1e-8, 1.0, log=True)\n",
    "        param[\"skip_drop\"] = trial.suggest_float(\"skip_drop\", 1e-8, 1.0, log=True)\n",
    "\n",
    "    pruning_callback = optuna.integration.XGBoostPruningCallback(trial, \"test-auc\")\n",
    "    history = xgb.cv(param, dtrain, num_boost_round=100, callbacks=[pruning_callback])\n",
    "\n",
    "    mean_auc = history[\"test-auc-mean\"].values[-1]\n",
    "    return mean_auc"
   ]
  },
  {
   "cell_type": "code",
   "execution_count": 100,
   "metadata": {},
   "outputs": [
    {
     "name": "stderr",
     "output_type": "stream",
     "text": [
      "\u001b[32m[I 2022-11-08 03:46:42,250]\u001b[0m A new study created in memory with name: no-name-bce790f6-868e-4873-a34a-307427049ff4\u001b[0m\n",
      "\u001b[32m[I 2022-11-08 03:47:02,442]\u001b[0m Trial 0 finished with value: 0.7778776666666668 and parameters: {'scale_pos_weight': 2, 'booster': 'gbtree', 'lambda': 0.0007605803746321145, 'alpha': 8.302683877257002e-06, 'max_depth': 8, 'eta': 0.1978730667975901, 'gamma': 0.014925322572828744, 'grow_policy': 'lossguide'}. Best is trial 0 with value: 0.7778776666666668.\u001b[0m\n",
      "\u001b[32m[I 2022-11-08 03:48:03,347]\u001b[0m Trial 1 finished with value: 0.7617293333333333 and parameters: {'scale_pos_weight': 3, 'booster': 'dart', 'lambda': 4.2611795045846615e-07, 'alpha': 3.8867100870391784e-05, 'max_depth': 2, 'eta': 0.22600855024364924, 'gamma': 2.5445015792723863e-05, 'grow_policy': 'depthwise', 'sample_type': 'uniform', 'normalize_type': 'forest', 'rate_drop': 0.1435509633798631, 'skip_drop': 1.2183008765227513e-06}. Best is trial 0 with value: 0.7778776666666668.\u001b[0m\n",
      "\u001b[32m[I 2022-11-08 03:49:04,552]\u001b[0m Trial 2 finished with value: 0.647706 and parameters: {'scale_pos_weight': 1, 'booster': 'dart', 'lambda': 1.4849260918065672e-08, 'alpha': 0.020073771477710407, 'max_depth': 1, 'eta': 1.034327523012068e-06, 'gamma': 0.0008431954615160679, 'grow_policy': 'depthwise', 'sample_type': 'uniform', 'normalize_type': 'tree', 'rate_drop': 0.0026768440898878535, 'skip_drop': 0.0005048912952417071}. Best is trial 0 with value: 0.7778776666666668.\u001b[0m\n",
      "\u001b[32m[I 2022-11-08 03:49:09,700]\u001b[0m Trial 3 finished with value: 0.6254266666666667 and parameters: {'scale_pos_weight': 3, 'booster': 'gblinear', 'lambda': 3.5077896305630013e-07, 'alpha': 5.918369216404144e-07}. Best is trial 0 with value: 0.7778776666666668.\u001b[0m\n",
      "\u001b[32m[I 2022-11-08 03:50:18,930]\u001b[0m Trial 4 finished with value: 0.7529756666666666 and parameters: {'scale_pos_weight': 3, 'booster': 'dart', 'lambda': 2.8474478063765673e-08, 'alpha': 0.0053727220400977575, 'max_depth': 4, 'eta': 0.01035194046624438, 'gamma': 6.558199411685484e-06, 'grow_policy': 'depthwise', 'sample_type': 'uniform', 'normalize_type': 'tree', 'rate_drop': 9.133492196615325e-05, 'skip_drop': 0.037272385461352246}. Best is trial 0 with value: 0.7778776666666668.\u001b[0m\n",
      "\u001b[32m[I 2022-11-08 03:50:19,490]\u001b[0m Trial 5 pruned. Trial was pruned at iteration 5.\u001b[0m\n",
      "\u001b[32m[I 2022-11-08 03:50:20,074]\u001b[0m Trial 6 pruned. Trial was pruned at iteration 5.\u001b[0m\n",
      "\u001b[32m[I 2022-11-08 03:51:46,487]\u001b[0m Trial 7 finished with value: 0.7834106666666667 and parameters: {'scale_pos_weight': 3, 'booster': 'dart', 'lambda': 0.024465273806834654, 'alpha': 0.367816413323416, 'max_depth': 9, 'eta': 0.036370609517369694, 'gamma': 0.00291276625506833, 'grow_policy': 'lossguide', 'sample_type': 'uniform', 'normalize_type': 'forest', 'rate_drop': 0.03154676832144324, 'skip_drop': 0.028072163448023633}. Best is trial 7 with value: 0.7834106666666667.\u001b[0m\n",
      "\u001b[32m[I 2022-11-08 03:51:47,476]\u001b[0m Trial 8 pruned. Trial was pruned at iteration 5.\u001b[0m\n",
      "\u001b[32m[I 2022-11-08 03:51:48,022]\u001b[0m Trial 9 pruned. Trial was pruned at iteration 5.\u001b[0m\n",
      "\u001b[32m[I 2022-11-08 03:51:54,279]\u001b[0m Trial 10 pruned. Trial was pruned at iteration 24.\u001b[0m\n",
      "\u001b[32m[I 2022-11-08 03:52:16,360]\u001b[0m Trial 11 finished with value: 0.7384599999999999 and parameters: {'scale_pos_weight': 2, 'booster': 'gbtree', 'lambda': 0.007592709585601843, 'alpha': 8.075593853714997e-05, 'max_depth': 9, 'eta': 0.654622487560624, 'gamma': 0.03932154073802942, 'grow_policy': 'lossguide'}. Best is trial 7 with value: 0.7834106666666667.\u001b[0m\n",
      "\u001b[32m[I 2022-11-08 03:52:34,554]\u001b[0m Trial 12 pruned. Trial was pruned at iteration 97.\u001b[0m\n",
      "\u001b[32m[I 2022-11-08 03:52:50,640]\u001b[0m Trial 13 finished with value: 0.7668306666666668 and parameters: {'scale_pos_weight': 1, 'booster': 'gbtree', 'lambda': 0.004634437400460774, 'alpha': 0.001034415605180264, 'max_depth': 6, 'eta': 0.013204099526393929, 'gamma': 0.046995191634062995, 'grow_policy': 'lossguide'}. Best is trial 7 with value: 0.7834106666666667.\u001b[0m\n",
      "\u001b[32m[I 2022-11-08 03:52:53,155]\u001b[0m Trial 14 pruned. Trial was pruned at iteration 11.\u001b[0m\n",
      "\u001b[32m[I 2022-11-08 03:53:41,889]\u001b[0m Trial 15 pruned. Trial was pruned at iteration 73.\u001b[0m\n",
      "\u001b[32m[I 2022-11-08 03:53:55,929]\u001b[0m Trial 16 finished with value: 0.7770956666666667 and parameters: {'scale_pos_weight': 3, 'booster': 'gbtree', 'lambda': 0.07264796747309417, 'alpha': 9.648303232201643e-06, 'max_depth': 5, 'eta': 0.030710524707413638, 'gamma': 0.9309444592176763, 'grow_policy': 'lossguide'}. Best is trial 7 with value: 0.7834106666666667.\u001b[0m\n",
      "\u001b[32m[I 2022-11-08 03:53:58,510]\u001b[0m Trial 17 pruned. Trial was pruned at iteration 7.\u001b[0m\n",
      "\u001b[32m[I 2022-11-08 03:54:17,108]\u001b[0m Trial 18 finished with value: 0.7864456666666667 and parameters: {'scale_pos_weight': 2, 'booster': 'gbtree', 'lambda': 0.06067702042852571, 'alpha': 2.7831518882838548e-08, 'max_depth': 7, 'eta': 0.05255789874864618, 'gamma': 0.00022787201412219604, 'grow_policy': 'lossguide'}. Best is trial 18 with value: 0.7864456666666667.\u001b[0m\n",
      "\u001b[32m[I 2022-11-08 03:54:18,761]\u001b[0m Trial 19 pruned. Trial was pruned at iteration 5.\u001b[0m\n",
      "\u001b[32m[I 2022-11-08 03:54:20,126]\u001b[0m Trial 20 pruned. Trial was pruned at iteration 5.\u001b[0m\n",
      "\u001b[32m[I 2022-11-08 03:54:40,935]\u001b[0m Trial 21 finished with value: 0.7863203333333333 and parameters: {'scale_pos_weight': 2, 'booster': 'gbtree', 'lambda': 0.01378994937647426, 'alpha': 2.5680780328169522e-06, 'max_depth': 8, 'eta': 0.06593237217405608, 'gamma': 0.0017494007243636829, 'grow_policy': 'lossguide'}. Best is trial 18 with value: 0.7864456666666667.\u001b[0m\n",
      "\u001b[32m[I 2022-11-08 03:55:02,051]\u001b[0m Trial 22 finished with value: 0.7863220000000001 and parameters: {'scale_pos_weight': 2, 'booster': 'gbtree', 'lambda': 0.023282988932410657, 'alpha': 4.130037216221086e-07, 'max_depth': 8, 'eta': 0.04700407889957849, 'gamma': 0.0003195548062447459, 'grow_policy': 'lossguide'}. Best is trial 18 with value: 0.7864456666666667.\u001b[0m\n",
      "\u001b[32m[I 2022-11-08 03:55:18,291]\u001b[0m Trial 23 finished with value: 0.7848906666666666 and parameters: {'scale_pos_weight': 2, 'booster': 'gbtree', 'lambda': 0.28009805424957696, 'alpha': 1.2897144517835139e-07, 'max_depth': 6, 'eta': 0.0458570095314619, 'gamma': 0.00012532681449930498, 'grow_policy': 'lossguide'}. Best is trial 18 with value: 0.7864456666666667.\u001b[0m\n",
      "\u001b[32m[I 2022-11-08 03:55:19,922]\u001b[0m Trial 24 pruned. Trial was pruned at iteration 5.\u001b[0m\n",
      "\u001b[32m[I 2022-11-08 03:55:35,885]\u001b[0m Trial 25 finished with value: 0.787003 and parameters: {'scale_pos_weight': 1, 'booster': 'gbtree', 'lambda': 0.003609975981144227, 'alpha': 7.972392218694735e-08, 'max_depth': 6, 'eta': 0.06923610478555589, 'gamma': 6.268786125870385e-06, 'grow_policy': 'lossguide'}. Best is trial 25 with value: 0.787003.\u001b[0m\n",
      "\u001b[32m[I 2022-11-08 03:55:37,162]\u001b[0m Trial 26 pruned. Trial was pruned at iteration 5.\u001b[0m\n",
      "\u001b[32m[I 2022-11-08 03:55:38,173]\u001b[0m Trial 27 pruned. Trial was pruned at iteration 5.\u001b[0m\n",
      "\u001b[32m[I 2022-11-08 03:55:39,635]\u001b[0m Trial 28 pruned. Trial was pruned at iteration 5.\u001b[0m\n",
      "\u001b[32m[I 2022-11-08 03:55:47,168]\u001b[0m Trial 29 pruned. Trial was pruned at iteration 46.\u001b[0m\n",
      "\u001b[32m[I 2022-11-08 03:55:48,237]\u001b[0m Trial 30 pruned. Trial was pruned at iteration 5.\u001b[0m\n",
      "\u001b[32m[I 2022-11-08 03:56:06,198]\u001b[0m Trial 31 finished with value: 0.7843606666666667 and parameters: {'scale_pos_weight': 2, 'booster': 'gbtree', 'lambda': 0.03665802022670048, 'alpha': 2.358150981427283e-06, 'max_depth': 7, 'eta': 0.15746898616268787, 'gamma': 0.0022352429167776557, 'grow_policy': 'lossguide'}. Best is trial 25 with value: 0.787003.\u001b[0m\n",
      "\u001b[32m[I 2022-11-08 03:56:27,238]\u001b[0m Trial 32 finished with value: 0.786308 and parameters: {'scale_pos_weight': 2, 'booster': 'gbtree', 'lambda': 0.008280867662867425, 'alpha': 3.302793878610816e-07, 'max_depth': 8, 'eta': 0.05401576076001095, 'gamma': 8.807926204049832e-05, 'grow_policy': 'lossguide'}. Best is trial 25 with value: 0.787003.\u001b[0m\n",
      "\u001b[32m[I 2022-11-08 03:56:28,819]\u001b[0m Trial 33 pruned. Trial was pruned at iteration 5.\u001b[0m\n",
      "\u001b[32m[I 2022-11-08 03:56:40,334]\u001b[0m Trial 34 pruned. Trial was pruned at iteration 55.\u001b[0m\n",
      "\u001b[32m[I 2022-11-08 03:56:56,024]\u001b[0m Trial 35 finished with value: 0.784069 and parameters: {'scale_pos_weight': 2, 'booster': 'gbtree', 'lambda': 0.013662024561100416, 'alpha': 4.4682320843056014e-08, 'max_depth': 6, 'eta': 0.18725607728889787, 'gamma': 5.2775765801058995e-05, 'grow_policy': 'lossguide'}. Best is trial 25 with value: 0.787003.\u001b[0m\n",
      "\u001b[32m[I 2022-11-08 03:56:56,591]\u001b[0m Trial 36 pruned. Trial was pruned at iteration 5.\u001b[0m\n",
      "\u001b[32m[I 2022-11-08 03:56:58,036]\u001b[0m Trial 37 pruned. Trial was pruned at iteration 5.\u001b[0m\n",
      "\u001b[32m[I 2022-11-08 03:56:58,596]\u001b[0m Trial 38 pruned. Trial was pruned at iteration 5.\u001b[0m\n",
      "\u001b[32m[I 2022-11-08 03:57:09,711]\u001b[0m Trial 39 pruned. Trial was pruned at iteration 80.\u001b[0m\n",
      "\u001b[32m[I 2022-11-08 03:57:10,283]\u001b[0m Trial 40 pruned. Trial was pruned at iteration 5.\u001b[0m\n",
      "\u001b[32m[I 2022-11-08 03:57:31,071]\u001b[0m Trial 41 finished with value: 0.7867136666666665 and parameters: {'scale_pos_weight': 2, 'booster': 'gbtree', 'lambda': 0.009194791597031985, 'alpha': 2.7288076966034136e-07, 'max_depth': 8, 'eta': 0.06801967155204988, 'gamma': 7.628614795424607e-05, 'grow_policy': 'lossguide'}. Best is trial 25 with value: 0.787003.\u001b[0m\n",
      "\u001b[32m[I 2022-11-08 03:57:51,332]\u001b[0m Trial 42 finished with value: 0.7846386666666666 and parameters: {'scale_pos_weight': 2, 'booster': 'gbtree', 'lambda': 0.014172304289551478, 'alpha': 3.332989019402792e-08, 'max_depth': 8, 'eta': 0.1172747919836211, 'gamma': 0.001245692758402215, 'grow_policy': 'lossguide'}. Best is trial 25 with value: 0.787003.\u001b[0m\n",
      "\u001b[32m[I 2022-11-08 03:57:52,948]\u001b[0m Trial 43 pruned. Trial was pruned at iteration 5.\u001b[0m\n",
      "\u001b[32m[I 2022-11-08 03:57:53,432]\u001b[0m Trial 44 pruned. Trial was pruned at iteration 5.\u001b[0m\n",
      "\u001b[32m[I 2022-11-08 03:57:55,256]\u001b[0m Trial 45 pruned. Trial was pruned at iteration 5.\u001b[0m\n",
      "\u001b[32m[I 2022-11-08 03:57:56,701]\u001b[0m Trial 46 pruned. Trial was pruned at iteration 5.\u001b[0m\n",
      "\u001b[32m[I 2022-11-08 03:57:58,495]\u001b[0m Trial 47 pruned. Trial was pruned at iteration 5.\u001b[0m\n",
      "\u001b[32m[I 2022-11-08 03:58:19,512]\u001b[0m Trial 48 finished with value: 0.7871873333333334 and parameters: {'scale_pos_weight': 2, 'booster': 'gbtree', 'lambda': 0.40914203743985217, 'alpha': 6.250229148984631e-08, 'max_depth': 8, 'eta': 0.05252488124422125, 'gamma': 0.00530088188572596, 'grow_policy': 'lossguide'}. Best is trial 48 with value: 0.7871873333333334.\u001b[0m\n",
      "\u001b[32m[I 2022-11-08 03:58:19,997]\u001b[0m Trial 49 pruned. Trial was pruned at iteration 5.\u001b[0m\n",
      "\u001b[32m[I 2022-11-08 03:58:21,365]\u001b[0m Trial 50 pruned. Trial was pruned at iteration 5.\u001b[0m\n",
      "\u001b[32m[I 2022-11-08 03:58:42,115]\u001b[0m Trial 51 finished with value: 0.78682 and parameters: {'scale_pos_weight': 2, 'booster': 'gbtree', 'lambda': 0.020676078865759603, 'alpha': 7.691598726691965e-08, 'max_depth': 8, 'eta': 0.0660822642370223, 'gamma': 0.0023874940494395132, 'grow_policy': 'lossguide'}. Best is trial 48 with value: 0.7871873333333334.\u001b[0m\n",
      "\u001b[32m[I 2022-11-08 03:58:45,671]\u001b[0m Trial 52 pruned. Trial was pruned at iteration 15.\u001b[0m\n",
      "\u001b[32m[I 2022-11-08 03:58:47,453]\u001b[0m Trial 53 pruned. Trial was pruned at iteration 5.\u001b[0m\n",
      "\u001b[32m[I 2022-11-08 03:58:55,245]\u001b[0m Trial 54 pruned. Trial was pruned at iteration 41.\u001b[0m\n",
      "\u001b[32m[I 2022-11-08 04:00:22,080]\u001b[0m Trial 55 finished with value: 0.785516 and parameters: {'scale_pos_weight': 2, 'booster': 'dart', 'lambda': 0.023229496798244844, 'alpha': 5.8345495808854194e-08, 'max_depth': 9, 'eta': 0.07319323280458902, 'gamma': 0.0006875084151483742, 'grow_policy': 'lossguide', 'sample_type': 'weighted', 'normalize_type': 'tree', 'rate_drop': 2.2281209866553625e-06, 'skip_drop': 1.1399252300049326e-08}. Best is trial 48 with value: 0.7871873333333334.\u001b[0m\n",
      "\u001b[32m[I 2022-11-08 04:00:23,539]\u001b[0m Trial 56 pruned. Trial was pruned at iteration 5.\u001b[0m\n",
      "\u001b[32m[I 2022-11-08 04:00:24,941]\u001b[0m Trial 57 pruned. Trial was pruned at iteration 5.\u001b[0m\n",
      "\u001b[32m[I 2022-11-08 04:00:45,268]\u001b[0m Trial 58 finished with value: 0.7866296666666667 and parameters: {'scale_pos_weight': 2, 'booster': 'gbtree', 'lambda': 0.968398357798112, 'alpha': 1.8391881916038437e-08, 'max_depth': 8, 'eta': 0.1098822034615411, 'gamma': 0.00030302308474506126, 'grow_policy': 'lossguide'}. Best is trial 48 with value: 0.7871873333333334.\u001b[0m\n",
      "\u001b[32m[I 2022-11-08 04:02:10,950]\u001b[0m Trial 59 finished with value: 0.7864033333333333 and parameters: {'scale_pos_weight': 1, 'booster': 'dart', 'lambda': 0.9204563790659475, 'alpha': 1.697537374523352e-08, 'max_depth': 9, 'eta': 0.13451948795639013, 'gamma': 4.423459725859676e-05, 'grow_policy': 'lossguide', 'sample_type': 'weighted', 'normalize_type': 'tree', 'rate_drop': 1.2231587565079683e-08, 'skip_drop': 4.984639191400924e-06}. Best is trial 48 with value: 0.7871873333333334.\u001b[0m\n",
      "\u001b[32m[I 2022-11-08 04:02:14,679]\u001b[0m Trial 60 pruned. Trial was pruned at iteration 16.\u001b[0m\n",
      "\u001b[32m[I 2022-11-08 04:03:40,649]\u001b[0m Trial 61 finished with value: 0.7879353333333334 and parameters: {'scale_pos_weight': 1, 'booster': 'dart', 'lambda': 0.9860620251969219, 'alpha': 2.2267975309461753e-08, 'max_depth': 9, 'eta': 0.1064738076049633, 'gamma': 6.192370704759348e-05, 'grow_policy': 'lossguide', 'sample_type': 'weighted', 'normalize_type': 'tree', 'rate_drop': 1.3732105792724726e-08, 'skip_drop': 5.944706116941287e-06}. Best is trial 61 with value: 0.7879353333333334.\u001b[0m\n",
      "\u001b[32m[I 2022-11-08 04:03:42,821]\u001b[0m Trial 62 pruned. Trial was pruned at iteration 6.\u001b[0m\n",
      "\u001b[32m[I 2022-11-08 04:05:05,349]\u001b[0m Trial 63 finished with value: 0.7868913333333333 and parameters: {'scale_pos_weight': 1, 'booster': 'dart', 'lambda': 0.13378831623136728, 'alpha': 1.0920527717063854e-07, 'max_depth': 8, 'eta': 0.11392886897912556, 'gamma': 0.0002062764594430941, 'grow_policy': 'lossguide', 'sample_type': 'weighted', 'normalize_type': 'tree', 'rate_drop': 3.288517562534636e-07, 'skip_drop': 2.4912283922339406e-05}. Best is trial 61 with value: 0.7879353333333334.\u001b[0m\n",
      "\u001b[32m[I 2022-11-08 04:05:06,333]\u001b[0m Trial 64 pruned. Trial was pruned at iteration 5.\u001b[0m\n",
      "\u001b[32m[I 2022-11-08 04:05:55,165]\u001b[0m Trial 65 pruned. Trial was pruned at iteration 73.\u001b[0m\n",
      "\u001b[32m[I 2022-11-08 04:05:57,051]\u001b[0m Trial 66 pruned. Trial was pruned at iteration 5.\u001b[0m\n",
      "\u001b[32m[I 2022-11-08 04:05:58,815]\u001b[0m Trial 67 pruned. Trial was pruned at iteration 5.\u001b[0m\n",
      "\u001b[32m[I 2022-11-08 04:06:00,691]\u001b[0m Trial 68 pruned. Trial was pruned at iteration 5.\u001b[0m\n",
      "\u001b[32m[I 2022-11-08 04:06:02,447]\u001b[0m Trial 69 pruned. Trial was pruned at iteration 5.\u001b[0m\n",
      "\u001b[32m[I 2022-11-08 04:07:29,040]\u001b[0m Trial 70 finished with value: 0.7891310000000001 and parameters: {'scale_pos_weight': 1, 'booster': 'dart', 'lambda': 0.10194941992484402, 'alpha': 0.7179677848419714, 'max_depth': 9, 'eta': 0.07718811483980896, 'gamma': 8.618178391461107e-05, 'grow_policy': 'depthwise', 'sample_type': 'weighted', 'normalize_type': 'tree', 'rate_drop': 5.79109147552539e-07, 'skip_drop': 6.316321200679256e-06}. Best is trial 70 with value: 0.7891310000000001.\u001b[0m\n",
      "\u001b[32m[I 2022-11-08 04:08:55,697]\u001b[0m Trial 71 finished with value: 0.7883876666666666 and parameters: {'scale_pos_weight': 1, 'booster': 'dart', 'lambda': 0.08364107910771512, 'alpha': 0.5959660706597321, 'max_depth': 9, 'eta': 0.06569448866895596, 'gamma': 1.2192780277512857e-05, 'grow_policy': 'depthwise', 'sample_type': 'weighted', 'normalize_type': 'tree', 'rate_drop': 7.251411355721237e-07, 'skip_drop': 7.172303865695599e-06}. Best is trial 70 with value: 0.7891310000000001.\u001b[0m\n",
      "\u001b[32m[I 2022-11-08 04:10:22,470]\u001b[0m Trial 72 finished with value: 0.7881490000000001 and parameters: {'scale_pos_weight': 1, 'booster': 'dart', 'lambda': 0.08790054793871492, 'alpha': 0.11987938358179592, 'max_depth': 9, 'eta': 0.07475556979830052, 'gamma': 1.6339858317908034e-05, 'grow_policy': 'depthwise', 'sample_type': 'weighted', 'normalize_type': 'tree', 'rate_drop': 7.362446653709894e-07, 'skip_drop': 9.490642485720029e-06}. Best is trial 70 with value: 0.7891310000000001.\u001b[0m\n",
      "\u001b[32m[I 2022-11-08 04:10:24,334]\u001b[0m Trial 73 pruned. Trial was pruned at iteration 5.\u001b[0m\n",
      "\u001b[32m[I 2022-11-08 04:10:34,135]\u001b[0m Trial 74 pruned. Trial was pruned at iteration 24.\u001b[0m\n",
      "\u001b[32m[I 2022-11-08 04:10:36,057]\u001b[0m Trial 75 pruned. Trial was pruned at iteration 5.\u001b[0m\n",
      "\u001b[32m[I 2022-11-08 04:10:37,964]\u001b[0m Trial 76 pruned. Trial was pruned at iteration 5.\u001b[0m\n",
      "\u001b[32m[I 2022-11-08 04:12:04,376]\u001b[0m Trial 77 finished with value: 0.78917 and parameters: {'scale_pos_weight': 1, 'booster': 'dart', 'lambda': 0.22179098520108248, 'alpha': 0.3195391777371054, 'max_depth': 9, 'eta': 0.07124880840645251, 'gamma': 1.4788270762201107e-05, 'grow_policy': 'depthwise', 'sample_type': 'weighted', 'normalize_type': 'tree', 'rate_drop': 5.711253366180536e-07, 'skip_drop': 1.3717797852656553e-05}. Best is trial 77 with value: 0.78917.\u001b[0m\n",
      "\u001b[32m[I 2022-11-08 04:12:36,680]\u001b[0m Trial 78 pruned. Trial was pruned at iteration 54.\u001b[0m\n",
      "\u001b[32m[I 2022-11-08 04:12:43,094]\u001b[0m Trial 79 pruned. Trial was pruned at iteration 17.\u001b[0m\n",
      "\u001b[32m[I 2022-11-08 04:12:44,982]\u001b[0m Trial 80 pruned. Trial was pruned at iteration 5.\u001b[0m\n",
      "\u001b[32m[I 2022-11-08 04:14:11,730]\u001b[0m Trial 81 finished with value: 0.7885046666666667 and parameters: {'scale_pos_weight': 1, 'booster': 'dart', 'lambda': 0.029972331396991167, 'alpha': 0.2072868365867367, 'max_depth': 9, 'eta': 0.07010374090872762, 'gamma': 3.0385220426140273e-05, 'grow_policy': 'depthwise', 'sample_type': 'weighted', 'normalize_type': 'tree', 'rate_drop': 3.252070808926135e-08, 'skip_drop': 3.13011331329934e-07}. Best is trial 77 with value: 0.78917.\u001b[0m\n",
      "\u001b[32m[I 2022-11-08 04:15:43,416]\u001b[0m Trial 82 finished with value: 0.787943 and parameters: {'scale_pos_weight': 1, 'booster': 'dart', 'lambda': 0.2656829898893535, 'alpha': 0.044496933475421205, 'max_depth': 9, 'eta': 0.08365713904884022, 'gamma': 3.246223721262609e-05, 'grow_policy': 'depthwise', 'sample_type': 'weighted', 'normalize_type': 'tree', 'rate_drop': 2.3699342236767787e-08, 'skip_drop': 3.805333911703766e-07}. Best is trial 77 with value: 0.78917.\u001b[0m\n",
      "\u001b[32m[I 2022-11-08 04:15:45,392]\u001b[0m Trial 83 pruned. Trial was pruned at iteration 5.\u001b[0m\n",
      "\u001b[32m[I 2022-11-08 04:15:47,309]\u001b[0m Trial 84 pruned. Trial was pruned at iteration 5.\u001b[0m\n",
      "\u001b[32m[I 2022-11-08 04:17:25,638]\u001b[0m Trial 85 finished with value: 0.7887326666666666 and parameters: {'scale_pos_weight': 1, 'booster': 'dart', 'lambda': 0.4885825019007252, 'alpha': 0.015249257835536918, 'max_depth': 9, 'eta': 0.061503687478991445, 'gamma': 0.00010027514707184789, 'grow_policy': 'depthwise', 'sample_type': 'weighted', 'normalize_type': 'tree', 'rate_drop': 1.8834408683206266e-08, 'skip_drop': 1.3294895970718443e-06}. Best is trial 77 with value: 0.78917.\u001b[0m\n",
      "\u001b[32m[I 2022-11-08 04:18:01,931]\u001b[0m Trial 86 pruned. Trial was pruned at iteration 57.\u001b[0m\n",
      "\u001b[32m[I 2022-11-08 04:19:42,117]\u001b[0m Trial 87 finished with value: 0.7873576666666667 and parameters: {'scale_pos_weight': 1, 'booster': 'dart', 'lambda': 0.3311627419517929, 'alpha': 0.021794680660102234, 'max_depth': 9, 'eta': 0.08782497039338852, 'gamma': 1.4592293638296584e-07, 'grow_policy': 'depthwise', 'sample_type': 'weighted', 'normalize_type': 'tree', 'rate_drop': 6.936493923969693e-08, 'skip_drop': 2.4831212693519197e-06}. Best is trial 77 with value: 0.78917.\u001b[0m\n",
      "\u001b[32m[I 2022-11-08 04:21:08,962]\u001b[0m Trial 88 finished with value: 0.7889423333333334 and parameters: {'scale_pos_weight': 1, 'booster': 'dart', 'lambda': 0.23908371602752318, 'alpha': 0.10310364178253605, 'max_depth': 9, 'eta': 0.08027525490425737, 'gamma': 3.442375962058303e-08, 'grow_policy': 'depthwise', 'sample_type': 'weighted', 'normalize_type': 'tree', 'rate_drop': 6.345731256410844e-08, 'skip_drop': 2.6527790748760836e-06}. Best is trial 77 with value: 0.78917.\u001b[0m\n",
      "\u001b[32m[I 2022-11-08 04:21:10,953]\u001b[0m Trial 89 pruned. Trial was pruned at iteration 5.\u001b[0m\n",
      "\u001b[32m[I 2022-11-08 04:21:12,887]\u001b[0m Trial 90 pruned. Trial was pruned at iteration 5.\u001b[0m\n",
      "\u001b[32m[I 2022-11-08 04:22:41,213]\u001b[0m Trial 91 finished with value: 0.787111 and parameters: {'scale_pos_weight': 1, 'booster': 'dart', 'lambda': 0.1411531945245285, 'alpha': 0.016721828829361365, 'max_depth': 9, 'eta': 0.08435755475270884, 'gamma': 5.7352841527295496e-08, 'grow_policy': 'depthwise', 'sample_type': 'weighted', 'normalize_type': 'tree', 'rate_drop': 7.769129886884967e-08, 'skip_drop': 2.1966322907971163e-06}. Best is trial 77 with value: 0.78917.\u001b[0m\n",
      "\u001b[32m[I 2022-11-08 04:24:06,783]\u001b[0m Trial 92 finished with value: 0.785702 and parameters: {'scale_pos_weight': 1, 'booster': 'dart', 'lambda': 0.6142408571021738, 'alpha': 0.002225780180647616, 'max_depth': 9, 'eta': 0.14392752218544574, 'gamma': 2.3765967509680487e-07, 'grow_policy': 'depthwise', 'sample_type': 'weighted', 'normalize_type': 'tree', 'rate_drop': 2.6204086178648756e-08, 'skip_drop': 2.082524976020127e-06}. Best is trial 77 with value: 0.78917.\u001b[0m\n",
      "\u001b[32m[I 2022-11-08 04:24:08,650]\u001b[0m Trial 93 pruned. Trial was pruned at iteration 5.\u001b[0m\n",
      "\u001b[32m[I 2022-11-08 04:24:10,611]\u001b[0m Trial 94 pruned. Trial was pruned at iteration 5.\u001b[0m\n",
      "\u001b[32m[I 2022-11-08 04:24:22,278]\u001b[0m Trial 95 pruned. Trial was pruned at iteration 27.\u001b[0m\n",
      "\u001b[32m[I 2022-11-08 04:24:24,171]\u001b[0m Trial 96 pruned. Trial was pruned at iteration 5.\u001b[0m\n",
      "\u001b[32m[I 2022-11-08 04:24:28,848]\u001b[0m Trial 97 pruned. Trial was pruned at iteration 13.\u001b[0m\n",
      "\u001b[32m[I 2022-11-08 04:24:31,042]\u001b[0m Trial 98 pruned. Trial was pruned at iteration 6.\u001b[0m\n",
      "\u001b[32m[I 2022-11-08 04:24:32,814]\u001b[0m Trial 99 pruned. Trial was pruned at iteration 5.\u001b[0m\n"
     ]
    }
   ],
   "source": [
    "pruner = optuna.pruners.MedianPruner(n_warmup_steps=5)\n",
    "study = optuna.create_study(pruner=pruner, direction=\"maximize\")\n",
    "study.optimize(objective_cat2, n_trials=100)"
   ]
  },
  {
   "cell_type": "code",
   "execution_count": 101,
   "metadata": {},
   "outputs": [
    {
     "data": {
      "text/plain": [
       "{'scale_pos_weight': 1,\n",
       " 'booster': 'dart',\n",
       " 'lambda': 0.22179098520108248,\n",
       " 'alpha': 0.3195391777371054,\n",
       " 'max_depth': 9,\n",
       " 'eta': 0.07124880840645251,\n",
       " 'gamma': 1.4788270762201107e-05,\n",
       " 'grow_policy': 'depthwise',\n",
       " 'sample_type': 'weighted',\n",
       " 'normalize_type': 'tree',\n",
       " 'rate_drop': 5.711253366180536e-07,\n",
       " 'skip_drop': 1.3717797852656553e-05}"
      ]
     },
     "execution_count": 101,
     "metadata": {},
     "output_type": "execute_result"
    }
   ],
   "source": [
    "study.best_trial.params"
   ]
  },
  {
   "cell_type": "code",
   "execution_count": 102,
   "metadata": {},
   "outputs": [],
   "source": [
    "# train model:\n",
    "\n",
    "param = {\n",
    "        \"objective\": \"binary:logistic\",\n",
    "        'scale_pos_weight': 1,\n",
    "        'booster': 'dart',\n",
    "        'lambda': 0.22179098520108248,\n",
    "        'alpha': 0.3195391777371054,\n",
    "        'max_depth': 9,\n",
    "        'eta': 0.07124880840645251,\n",
    "        'gamma': 1.4788270762201107e-05,\n",
    "        'grow_policy': 'depthwise',\n",
    "        'sample_type': 'weighted',\n",
    "        'normalize_type': 'tree',\n",
    "        'rate_drop': 5.711253366180536e-07,\n",
    "        'skip_drop': 1.3717797852656553e-05\n",
    "    }\n",
    "\n",
    "model = xgb.train(param,dtrain,num_boost_round=100)"
   ]
  },
  {
   "cell_type": "code",
   "execution_count": 103,
   "metadata": {},
   "outputs": [],
   "source": [
    "pred = model.predict(dtest)"
   ]
  },
  {
   "cell_type": "code",
   "execution_count": 104,
   "metadata": {},
   "outputs": [
    {
     "data": {
      "text/plain": [
       "array([0.12943514, 0.92549247, 0.21786591, ..., 0.81851554, 0.20635498,\n",
       "       0.08932971], dtype=float32)"
      ]
     },
     "execution_count": 104,
     "metadata": {},
     "output_type": "execute_result"
    }
   ],
   "source": [
    "pred"
   ]
  },
  {
   "cell_type": "code",
   "execution_count": 105,
   "metadata": {},
   "outputs": [
    {
     "data": {
      "text/plain": [
       "array([0, 1, 1, ..., 1, 1, 0], dtype=object)"
      ]
     },
     "execution_count": 105,
     "metadata": {},
     "output_type": "execute_result"
    }
   ],
   "source": [
    "y_test_cat_2"
   ]
  },
  {
   "cell_type": "code",
   "execution_count": 106,
   "metadata": {},
   "outputs": [],
   "source": [
    "y_test_cat_2 = y_test_cat_2.astype('float64')"
   ]
  },
  {
   "cell_type": "code",
   "execution_count": 107,
   "metadata": {},
   "outputs": [
    {
     "data": {
      "text/plain": [
       "0.7925383617388209"
      ]
     },
     "execution_count": 107,
     "metadata": {},
     "output_type": "execute_result"
    }
   ],
   "source": [
    "from sklearn.metrics import roc_auc_score\n",
    "\n",
    "roc_auc_score(y_test_cat_2, pred)"
   ]
  },
  {
   "cell_type": "code",
   "execution_count": 108,
   "metadata": {},
   "outputs": [
    {
     "data": {
      "text/plain": [
       "0.6199015471167371"
      ]
     },
     "execution_count": 108,
     "metadata": {},
     "output_type": "execute_result"
    }
   ],
   "source": [
    "f1_score(y_test_cat_2, np.round(pred))"
   ]
  },
  {
   "cell_type": "code",
   "execution_count": 109,
   "metadata": {},
   "outputs": [],
   "source": [
    "pred = model.predict(X_cat_2_test)"
   ]
  },
  {
   "cell_type": "code",
   "execution_count": 110,
   "metadata": {},
   "outputs": [],
   "source": [
    "test_cat_2['target'] = np.round(pred)"
   ]
  },
  {
   "cell_type": "code",
   "execution_count": 111,
   "metadata": {},
   "outputs": [
    {
     "data": {
      "text/plain": [
       "0.0    11112\n",
       "1.0     8357\n",
       "Name: target, dtype: int64"
      ]
     },
     "execution_count": 111,
     "metadata": {},
     "output_type": "execute_result"
    }
   ],
   "source": [
    "test_cat_2['target'].value_counts()"
   ]
  },
  {
   "cell_type": "code",
   "execution_count": 112,
   "metadata": {},
   "outputs": [],
   "source": [
    "test_cat_2 = test_cat_2[['ID','target']]"
   ]
  },
  {
   "cell_type": "code",
   "execution_count": 113,
   "metadata": {},
   "outputs": [],
   "source": [
    "test_cat_2.to_csv('../../entregables/version_2/category_2.csv',index=False)"
   ]
  },
  {
   "cell_type": "markdown",
   "metadata": {},
   "source": [
    "## Category 3"
   ]
  },
  {
   "cell_type": "code",
   "execution_count": 114,
   "metadata": {},
   "outputs": [],
   "source": [
    "import xgboost as xgb\n",
    "\n",
    "dtrain = xgb.DMatrix(X_train_cat_3, label=y_train_cat_3)\n",
    "dtest = xgb.DMatrix(X_test_cat_3, label=y_test_cat_3)"
   ]
  },
  {
   "cell_type": "code",
   "execution_count": 115,
   "metadata": {},
   "outputs": [],
   "source": [
    "import optuna\n",
    "import os\n",
    "\n",
    "def objective_cat3(trial):\n",
    "\n",
    "    param = {\n",
    "        \"verbosity\": 0,\n",
    "        \"objective\": \"binary:logistic\",\n",
    "        \"scale_pos_weight\":trial.suggest_int(\"scale_pos_weight\", 4, 15),\n",
    "        \"eval_metric\": \"auc\",\n",
    "        \"booster\": trial.suggest_categorical(\"booster\", [\"gbtree\", \"gblinear\", \"dart\"]),\n",
    "        \"lambda\": trial.suggest_loguniform(\"lambda\", 1e-8, 1.0),\n",
    "        \"alpha\": trial.suggest_loguniform(\"alpha\", 1e-8, 1.0),\n",
    "    }\n",
    "\n",
    "    if param[\"booster\"] == \"gbtree\" or param[\"booster\"] == \"dart\":\n",
    "        param[\"max_depth\"] = trial.suggest_int(\"max_depth\", 1, 9)\n",
    "        param[\"eta\"] = trial.suggest_float(\"eta\", 1e-8, 1.0, log=True)\n",
    "        param[\"gamma\"] = trial.suggest_float(\"gamma\", 1e-8, 1.0, log=True)\n",
    "        param[\"grow_policy\"] = trial.suggest_categorical(\"grow_policy\", [\"depthwise\", \"lossguide\"])\n",
    "    if param[\"booster\"] == \"dart\":\n",
    "        param[\"sample_type\"] = trial.suggest_categorical(\"sample_type\", [\"uniform\", \"weighted\"])\n",
    "        param[\"normalize_type\"] = trial.suggest_categorical(\"normalize_type\", [\"tree\", \"forest\"])\n",
    "        param[\"rate_drop\"] = trial.suggest_float(\"rate_drop\", 1e-8, 1.0, log=True)\n",
    "        param[\"skip_drop\"] = trial.suggest_float(\"skip_drop\", 1e-8, 1.0, log=True)\n",
    "\n",
    "    pruning_callback = optuna.integration.XGBoostPruningCallback(trial, \"test-auc\")\n",
    "    history = xgb.cv(param, dtrain, num_boost_round=100, callbacks=[pruning_callback])\n",
    "\n",
    "    mean_auc = history[\"test-auc-mean\"].values[-1]\n",
    "    return mean_auc"
   ]
  },
  {
   "cell_type": "code",
   "execution_count": 116,
   "metadata": {},
   "outputs": [
    {
     "name": "stderr",
     "output_type": "stream",
     "text": [
      "\u001b[32m[I 2022-11-08 04:32:52,714]\u001b[0m A new study created in memory with name: no-name-866b04d9-3217-44f4-b5ee-e171823587f1\u001b[0m\n",
      "\u001b[32m[I 2022-11-08 04:33:15,878]\u001b[0m Trial 0 finished with value: 0.9008946666666667 and parameters: {'scale_pos_weight': 10, 'booster': 'gbtree', 'lambda': 6.401522192629579e-08, 'alpha': 0.0002263824019742058, 'max_depth': 8, 'eta': 0.10458610353702946, 'gamma': 0.12039506175108736, 'grow_policy': 'depthwise'}. Best is trial 0 with value: 0.9008946666666667.\u001b[0m\n",
      "\u001b[32m[I 2022-11-08 04:33:23,983]\u001b[0m Trial 1 finished with value: 0.7933336666666667 and parameters: {'scale_pos_weight': 15, 'booster': 'gbtree', 'lambda': 0.38525276757889454, 'alpha': 7.371656817504843e-05, 'max_depth': 2, 'eta': 0.0016402864690520348, 'gamma': 0.0003507305967551104, 'grow_policy': 'lossguide'}. Best is trial 0 with value: 0.9008946666666667.\u001b[0m\n",
      "\u001b[32m[I 2022-11-08 04:33:34,392]\u001b[0m Trial 2 finished with value: 0.8111246666666667 and parameters: {'scale_pos_weight': 15, 'booster': 'gbtree', 'lambda': 0.0006790555030616603, 'alpha': 8.884083897431164e-06, 'max_depth': 3, 'eta': 0.0021531443634092403, 'gamma': 1.1080662115830685e-08, 'grow_policy': 'depthwise'}. Best is trial 0 with value: 0.9008946666666667.\u001b[0m\n",
      "\u001b[32m[I 2022-11-08 04:33:39,699]\u001b[0m Trial 3 finished with value: 0.848739 and parameters: {'scale_pos_weight': 12, 'booster': 'gblinear', 'lambda': 2.7219080313416075e-05, 'alpha': 0.0011187056117674772}. Best is trial 0 with value: 0.9008946666666667.\u001b[0m\n",
      "\u001b[32m[I 2022-11-08 04:35:12,495]\u001b[0m Trial 4 finished with value: 0.6683216666666668 and parameters: {'scale_pos_weight': 13, 'booster': 'dart', 'lambda': 1.3134568669599448e-08, 'alpha': 8.02557118082172e-08, 'max_depth': 9, 'eta': 5.8096329275260444e-08, 'gamma': 0.0062115369385767364, 'grow_policy': 'depthwise', 'sample_type': 'weighted', 'normalize_type': 'forest', 'rate_drop': 0.0507320413451636, 'skip_drop': 1.721862047992608e-07}. Best is trial 0 with value: 0.9008946666666667.\u001b[0m\n",
      "\u001b[32m[I 2022-11-08 04:35:17,825]\u001b[0m Trial 5 finished with value: 0.8458739999999999 and parameters: {'scale_pos_weight': 11, 'booster': 'gblinear', 'lambda': 2.6113180367463957e-08, 'alpha': 2.7138371694946696e-06}. Best is trial 0 with value: 0.9008946666666667.\u001b[0m\n",
      "\u001b[32m[I 2022-11-08 04:35:18,689]\u001b[0m Trial 6 pruned. Trial was pruned at iteration 5.\u001b[0m\n",
      "\u001b[32m[I 2022-11-08 04:35:20,511]\u001b[0m Trial 7 pruned. Trial was pruned at iteration 5.\u001b[0m\n",
      "\u001b[32m[I 2022-11-08 04:35:21,805]\u001b[0m Trial 8 pruned. Trial was pruned at iteration 5.\u001b[0m\n",
      "\u001b[32m[I 2022-11-08 04:35:27,256]\u001b[0m Trial 9 finished with value: 0.835422 and parameters: {'scale_pos_weight': 15, 'booster': 'gblinear', 'lambda': 3.596934926564153e-08, 'alpha': 0.010369233568278891}. Best is trial 0 with value: 0.9008946666666667.\u001b[0m\n",
      "\u001b[32m[I 2022-11-08 04:35:47,373]\u001b[0m Trial 10 finished with value: 0.8990073333333334 and parameters: {'scale_pos_weight': 8, 'booster': 'gbtree', 'lambda': 4.354524611004415e-06, 'alpha': 0.9396005217836714, 'max_depth': 7, 'eta': 0.42640184147966126, 'gamma': 0.7351518629273991, 'grow_policy': 'depthwise'}. Best is trial 0 with value: 0.9008946666666667.\u001b[0m\n",
      "\u001b[32m[I 2022-11-08 04:36:07,509]\u001b[0m Trial 11 finished with value: 0.886157 and parameters: {'scale_pos_weight': 8, 'booster': 'gbtree', 'lambda': 5.296253263847301e-06, 'alpha': 0.9287079634586477, 'max_depth': 7, 'eta': 0.6148920744630949, 'gamma': 0.4574013682614194, 'grow_policy': 'depthwise'}. Best is trial 0 with value: 0.9008946666666667.\u001b[0m\n",
      "\u001b[32m[I 2022-11-08 04:36:25,174]\u001b[0m Trial 12 finished with value: 0.8940633333333334 and parameters: {'scale_pos_weight': 9, 'booster': 'gbtree', 'lambda': 9.330588045015508e-07, 'alpha': 0.4411770013746261, 'max_depth': 6, 'eta': 0.3831797020120453, 'gamma': 0.7189674079225831, 'grow_policy': 'depthwise'}. Best is trial 0 with value: 0.9008946666666667.\u001b[0m\n",
      "\u001b[32m[I 2022-11-08 04:36:26,688]\u001b[0m Trial 13 pruned. Trial was pruned at iteration 5.\u001b[0m\n",
      "\u001b[32m[I 2022-11-08 04:36:28,207]\u001b[0m Trial 14 pruned. Trial was pruned at iteration 5.\u001b[0m\n",
      "\u001b[32m[I 2022-11-08 04:36:30,099]\u001b[0m Trial 15 pruned. Trial was pruned at iteration 5.\u001b[0m\n",
      "\u001b[32m[I 2022-11-08 04:36:31,421]\u001b[0m Trial 16 pruned. Trial was pruned at iteration 5.\u001b[0m\n",
      "\u001b[32m[I 2022-11-08 04:36:48,621]\u001b[0m Trial 17 finished with value: 0.8679476666666667 and parameters: {'scale_pos_weight': 10, 'booster': 'gbtree', 'lambda': 4.535693907346903e-06, 'alpha': 4.398509877594128e-06, 'max_depth': 6, 'eta': 0.8354335651078617, 'gamma': 0.9501910853467473, 'grow_policy': 'depthwise'}. Best is trial 0 with value: 0.9008946666666667.\u001b[0m\n",
      "\u001b[32m[I 2022-11-08 04:36:50,629]\u001b[0m Trial 18 pruned. Trial was pruned at iteration 5.\u001b[0m\n",
      "\u001b[32m[I 2022-11-08 04:36:51,487]\u001b[0m Trial 19 pruned. Trial was pruned at iteration 10.\u001b[0m\n",
      "\u001b[32m[I 2022-11-08 04:36:52,681]\u001b[0m Trial 20 pruned. Trial was pruned at iteration 5.\u001b[0m\n",
      "\u001b[32m[I 2022-11-08 04:37:10,629]\u001b[0m Trial 21 finished with value: 0.905072 and parameters: {'scale_pos_weight': 9, 'booster': 'gbtree', 'lambda': 8.042046660462032e-07, 'alpha': 0.7600081220793511, 'max_depth': 6, 'eta': 0.1581784631923203, 'gamma': 0.8637736813064556, 'grow_policy': 'depthwise'}. Best is trial 21 with value: 0.905072.\u001b[0m\n",
      "\u001b[32m[I 2022-11-08 04:37:11,978]\u001b[0m Trial 22 pruned. Trial was pruned at iteration 5.\u001b[0m\n",
      "\u001b[32m[I 2022-11-08 04:37:13,657]\u001b[0m Trial 23 pruned. Trial was pruned at iteration 5.\u001b[0m\n",
      "\u001b[32m[I 2022-11-08 04:37:34,054]\u001b[0m Trial 24 finished with value: 0.9005883333333333 and parameters: {'scale_pos_weight': 7, 'booster': 'gbtree', 'lambda': 1.1587571803877686e-07, 'alpha': 0.33547660163999116, 'max_depth': 7, 'eta': 0.16998484418154694, 'gamma': 0.22037610277215666, 'grow_policy': 'depthwise'}. Best is trial 21 with value: 0.905072.\u001b[0m\n",
      "\u001b[32m[I 2022-11-08 04:37:52,014]\u001b[0m Trial 25 finished with value: 0.898197 and parameters: {'scale_pos_weight': 7, 'booster': 'gbtree', 'lambda': 8.709889159839154e-08, 'alpha': 0.0014741327164959528, 'max_depth': 6, 'eta': 0.1447676684143473, 'gamma': 0.01745644711853388, 'grow_policy': 'depthwise'}. Best is trial 21 with value: 0.905072.\u001b[0m\n",
      "\u001b[32m[I 2022-11-08 04:37:53,751]\u001b[0m Trial 26 pruned. Trial was pruned at iteration 5.\u001b[0m\n",
      "\u001b[32m[I 2022-11-08 04:37:54,456]\u001b[0m Trial 27 pruned. Trial was pruned at iteration 5.\u001b[0m\n",
      "\u001b[32m[I 2022-11-08 04:37:55,105]\u001b[0m Trial 28 pruned. Trial was pruned at iteration 6.\u001b[0m\n",
      "\u001b[32m[I 2022-11-08 04:37:57,248]\u001b[0m Trial 29 pruned. Trial was pruned at iteration 5.\u001b[0m\n",
      "\u001b[32m[I 2022-11-08 04:37:58,262]\u001b[0m Trial 30 pruned. Trial was pruned at iteration 5.\u001b[0m\n",
      "\u001b[32m[I 2022-11-08 04:37:59,798]\u001b[0m Trial 31 pruned. Trial was pruned at iteration 5.\u001b[0m\n",
      "\u001b[32m[I 2022-11-08 04:38:01,388]\u001b[0m Trial 32 pruned. Trial was pruned at iteration 5.\u001b[0m\n",
      "\u001b[32m[I 2022-11-08 04:38:08,496]\u001b[0m Trial 33 pruned. Trial was pruned at iteration 38.\u001b[0m\n",
      "\u001b[32m[I 2022-11-08 04:38:10,204]\u001b[0m Trial 34 pruned. Trial was pruned at iteration 5.\u001b[0m\n",
      "\u001b[32m[I 2022-11-08 04:38:11,792]\u001b[0m Trial 35 pruned. Trial was pruned at iteration 5.\u001b[0m\n",
      "\u001b[32m[I 2022-11-08 04:38:12,292]\u001b[0m Trial 36 pruned. Trial was pruned at iteration 5.\u001b[0m\n",
      "\u001b[32m[I 2022-11-08 04:38:13,457]\u001b[0m Trial 37 pruned. Trial was pruned at iteration 5.\u001b[0m\n",
      "\u001b[32m[I 2022-11-08 04:38:15,142]\u001b[0m Trial 38 pruned. Trial was pruned at iteration 5.\u001b[0m\n",
      "\u001b[32m[I 2022-11-08 04:38:17,156]\u001b[0m Trial 39 pruned. Trial was pruned at iteration 5.\u001b[0m\n",
      "\u001b[32m[I 2022-11-08 04:38:18,170]\u001b[0m Trial 40 pruned. Trial was pruned at iteration 5.\u001b[0m\n",
      "\u001b[32m[I 2022-11-08 04:38:36,007]\u001b[0m Trial 41 finished with value: 0.8931943333333333 and parameters: {'scale_pos_weight': 7, 'booster': 'gbtree', 'lambda': 1.1252725319225188e-07, 'alpha': 0.00017580965744836866, 'max_depth': 6, 'eta': 0.2504121848857858, 'gamma': 0.018177046207359195, 'grow_policy': 'depthwise'}. Best is trial 21 with value: 0.905072.\u001b[0m\n",
      "\u001b[32m[I 2022-11-08 04:38:37,407]\u001b[0m Trial 42 pruned. Trial was pruned at iteration 5.\u001b[0m\n",
      "\u001b[32m[I 2022-11-08 04:38:57,242]\u001b[0m Trial 43 finished with value: 0.8971066666666667 and parameters: {'scale_pos_weight': 7, 'booster': 'gbtree', 'lambda': 1.850736633451397e-06, 'alpha': 0.0006256195018269971, 'max_depth': 7, 'eta': 0.31821543163521043, 'gamma': 0.0023088035245540255, 'grow_policy': 'depthwise'}. Best is trial 21 with value: 0.905072.\u001b[0m\n",
      "\u001b[32m[I 2022-11-08 04:38:58,686]\u001b[0m Trial 44 pruned. Trial was pruned at iteration 5.\u001b[0m\n",
      "\u001b[32m[I 2022-11-08 04:38:59,177]\u001b[0m Trial 45 pruned. Trial was pruned at iteration 5.\u001b[0m\n",
      "\u001b[32m[I 2022-11-08 04:39:00,380]\u001b[0m Trial 46 pruned. Trial was pruned at iteration 5.\u001b[0m\n",
      "\u001b[32m[I 2022-11-08 04:39:20,334]\u001b[0m Trial 47 finished with value: 0.891657 and parameters: {'scale_pos_weight': 9, 'booster': 'gbtree', 'lambda': 6.735081919981963e-07, 'alpha': 0.0025043566045353225, 'max_depth': 7, 'eta': 0.29024114475352525, 'gamma': 0.33473362493404396, 'grow_policy': 'depthwise'}. Best is trial 21 with value: 0.905072.\u001b[0m\n",
      "\u001b[32m[I 2022-11-08 04:39:21,728]\u001b[0m Trial 48 pruned. Trial was pruned at iteration 5.\u001b[0m\n",
      "\u001b[32m[I 2022-11-08 04:39:23,253]\u001b[0m Trial 49 pruned. Trial was pruned at iteration 5.\u001b[0m\n",
      "\u001b[32m[I 2022-11-08 04:39:25,171]\u001b[0m Trial 50 pruned. Trial was pruned at iteration 5.\u001b[0m\n",
      "\u001b[32m[I 2022-11-08 04:39:32,407]\u001b[0m Trial 51 pruned. Trial was pruned at iteration 33.\u001b[0m\n",
      "\u001b[32m[I 2022-11-08 04:39:49,770]\u001b[0m Trial 52 pruned. Trial was pruned at iteration 97.\u001b[0m\n",
      "\u001b[32m[I 2022-11-08 04:39:51,470]\u001b[0m Trial 53 pruned. Trial was pruned at iteration 5.\u001b[0m\n",
      "\u001b[32m[I 2022-11-08 04:39:52,975]\u001b[0m Trial 54 pruned. Trial was pruned at iteration 5.\u001b[0m\n",
      "\u001b[32m[I 2022-11-08 04:39:54,495]\u001b[0m Trial 55 pruned. Trial was pruned at iteration 5.\u001b[0m\n",
      "\u001b[32m[I 2022-11-08 04:39:54,993]\u001b[0m Trial 56 pruned. Trial was pruned at iteration 5.\u001b[0m\n",
      "\u001b[32m[I 2022-11-08 04:39:56,682]\u001b[0m Trial 57 pruned. Trial was pruned at iteration 5.\u001b[0m\n",
      "\u001b[32m[I 2022-11-08 04:40:12,463]\u001b[0m Trial 58 pruned. Trial was pruned at iteration 88.\u001b[0m\n",
      "\u001b[32m[I 2022-11-08 04:40:14,246]\u001b[0m Trial 59 pruned. Trial was pruned at iteration 5.\u001b[0m\n",
      "\u001b[32m[I 2022-11-08 04:40:16,004]\u001b[0m Trial 60 pruned. Trial was pruned at iteration 5.\u001b[0m\n",
      "\u001b[32m[I 2022-11-08 04:40:33,669]\u001b[0m Trial 61 finished with value: 0.8897493333333334 and parameters: {'scale_pos_weight': 9, 'booster': 'gbtree', 'lambda': 9.435113028581832e-07, 'alpha': 0.5052388559095272, 'max_depth': 6, 'eta': 0.4029414472305695, 'gamma': 0.7038027705875844, 'grow_policy': 'depthwise'}. Best is trial 21 with value: 0.905072.\u001b[0m\n",
      "\u001b[32m[I 2022-11-08 04:40:51,595]\u001b[0m Trial 62 finished with value: 0.9009393333333334 and parameters: {'scale_pos_weight': 10, 'booster': 'gbtree', 'lambda': 5.3838917099950166e-08, 'alpha': 0.8091766025494662, 'max_depth': 6, 'eta': 0.17113539295545582, 'gamma': 0.429427034650682, 'grow_policy': 'depthwise'}. Best is trial 21 with value: 0.905072.\u001b[0m\n",
      "\u001b[32m[I 2022-11-08 04:41:07,014]\u001b[0m Trial 63 finished with value: 0.9050889999999999 and parameters: {'scale_pos_weight': 10, 'booster': 'gbtree', 'lambda': 5.422545320147603e-08, 'alpha': 0.7031141272754583, 'max_depth': 5, 'eta': 0.16737493735204637, 'gamma': 0.14682281229705807, 'grow_policy': 'depthwise'}. Best is trial 63 with value: 0.9050889999999999.\u001b[0m\n",
      "\u001b[32m[I 2022-11-08 04:41:08,225]\u001b[0m Trial 64 pruned. Trial was pruned at iteration 5.\u001b[0m\n",
      "\u001b[32m[I 2022-11-08 04:41:09,103]\u001b[0m Trial 65 pruned. Trial was pruned at iteration 5.\u001b[0m\n",
      "\u001b[32m[I 2022-11-08 04:41:10,325]\u001b[0m Trial 66 pruned. Trial was pruned at iteration 5.\u001b[0m\n",
      "\u001b[32m[I 2022-11-08 04:41:11,352]\u001b[0m Trial 67 pruned. Trial was pruned at iteration 5.\u001b[0m\n",
      "\u001b[32m[I 2022-11-08 04:41:11,888]\u001b[0m Trial 68 pruned. Trial was pruned at iteration 5.\u001b[0m\n",
      "\u001b[32m[I 2022-11-08 04:41:13,283]\u001b[0m Trial 69 pruned. Trial was pruned at iteration 5.\u001b[0m\n",
      "\u001b[32m[I 2022-11-08 04:41:16,673]\u001b[0m Trial 70 pruned. Trial was pruned at iteration 19.\u001b[0m\n",
      "\u001b[32m[I 2022-11-08 04:41:34,429]\u001b[0m Trial 71 finished with value: 0.889188 and parameters: {'scale_pos_weight': 8, 'booster': 'gbtree', 'lambda': 2.7855266598344395e-07, 'alpha': 0.00028562318973280015, 'max_depth': 6, 'eta': 0.22949558389528596, 'gamma': 0.38571376478726943, 'grow_policy': 'depthwise'}. Best is trial 63 with value: 0.9050889999999999.\u001b[0m\n",
      "\u001b[32m[I 2022-11-08 04:41:35,978]\u001b[0m Trial 72 pruned. Trial was pruned at iteration 5.\u001b[0m\n",
      "\u001b[32m[I 2022-11-08 04:41:37,330]\u001b[0m Trial 73 pruned. Trial was pruned at iteration 5.\u001b[0m\n",
      "\u001b[32m[I 2022-11-08 04:41:38,869]\u001b[0m Trial 74 pruned. Trial was pruned at iteration 5.\u001b[0m\n",
      "\u001b[32m[I 2022-11-08 04:41:43,850]\u001b[0m Trial 75 pruned. Trial was pruned at iteration 19.\u001b[0m\n",
      "\u001b[32m[I 2022-11-08 04:41:45,676]\u001b[0m Trial 76 pruned. Trial was pruned at iteration 5.\u001b[0m\n",
      "\u001b[32m[I 2022-11-08 04:41:46,718]\u001b[0m Trial 77 pruned. Trial was pruned at iteration 5.\u001b[0m\n",
      "\u001b[32m[I 2022-11-08 04:41:48,088]\u001b[0m Trial 78 pruned. Trial was pruned at iteration 5.\u001b[0m\n",
      "\u001b[32m[I 2022-11-08 04:41:49,786]\u001b[0m Trial 79 pruned. Trial was pruned at iteration 5.\u001b[0m\n",
      "\u001b[32m[I 2022-11-08 04:41:50,987]\u001b[0m Trial 80 pruned. Trial was pruned at iteration 5.\u001b[0m\n",
      "\u001b[32m[I 2022-11-08 04:42:04,326]\u001b[0m Trial 81 pruned. Trial was pruned at iteration 73.\u001b[0m\n",
      "\u001b[32m[I 2022-11-08 04:42:07,964]\u001b[0m Trial 82 pruned. Trial was pruned at iteration 17.\u001b[0m\n",
      "\u001b[32m[I 2022-11-08 04:42:08,699]\u001b[0m Trial 83 pruned. Trial was pruned at iteration 5.\u001b[0m\n",
      "\u001b[32m[I 2022-11-08 04:42:24,132]\u001b[0m Trial 84 finished with value: 0.8956526666666668 and parameters: {'scale_pos_weight': 7, 'booster': 'gbtree', 'lambda': 2.9732580795526794e-07, 'alpha': 0.17865674348202715, 'max_depth': 5, 'eta': 0.2732048689852211, 'gamma': 0.10759675418422196, 'grow_policy': 'depthwise'}. Best is trial 63 with value: 0.9050889999999999.\u001b[0m\n",
      "\u001b[32m[I 2022-11-08 04:42:25,359]\u001b[0m Trial 85 pruned. Trial was pruned at iteration 5.\u001b[0m\n",
      "\u001b[32m[I 2022-11-08 04:42:25,838]\u001b[0m Trial 86 pruned. Trial was pruned at iteration 5.\u001b[0m\n",
      "\u001b[32m[I 2022-11-08 04:42:41,219]\u001b[0m Trial 87 finished with value: 0.892175 and parameters: {'scale_pos_weight': 15, 'booster': 'gbtree', 'lambda': 3.4908593432874517e-07, 'alpha': 0.6269342843257252, 'max_depth': 5, 'eta': 0.2281204176110302, 'gamma': 0.08805552795613192, 'grow_policy': 'depthwise'}. Best is trial 63 with value: 0.9050889999999999.\u001b[0m\n",
      "\u001b[32m[I 2022-11-08 04:42:42,721]\u001b[0m Trial 88 pruned. Trial was pruned at iteration 5.\u001b[0m\n",
      "\u001b[32m[I 2022-11-08 04:42:44,217]\u001b[0m Trial 89 pruned. Trial was pruned at iteration 5.\u001b[0m\n",
      "\u001b[32m[I 2022-11-08 04:42:45,364]\u001b[0m Trial 90 pruned. Trial was pruned at iteration 5.\u001b[0m\n",
      "\u001b[32m[I 2022-11-08 04:42:46,830]\u001b[0m Trial 91 pruned. Trial was pruned at iteration 5.\u001b[0m\n",
      "\u001b[32m[I 2022-11-08 04:42:48,295]\u001b[0m Trial 92 pruned. Trial was pruned at iteration 5.\u001b[0m\n",
      "\u001b[32m[I 2022-11-08 04:42:50,635]\u001b[0m Trial 93 pruned. Trial was pruned at iteration 9.\u001b[0m\n",
      "\u001b[32m[I 2022-11-08 04:42:52,532]\u001b[0m Trial 94 pruned. Trial was pruned at iteration 5.\u001b[0m\n",
      "\u001b[32m[I 2022-11-08 04:42:53,876]\u001b[0m Trial 95 pruned. Trial was pruned at iteration 5.\u001b[0m\n",
      "\u001b[32m[I 2022-11-08 04:42:55,557]\u001b[0m Trial 96 pruned. Trial was pruned at iteration 8.\u001b[0m\n",
      "\u001b[32m[I 2022-11-08 04:42:58,324]\u001b[0m Trial 97 pruned. Trial was pruned at iteration 11.\u001b[0m\n",
      "\u001b[32m[I 2022-11-08 04:42:59,769]\u001b[0m Trial 98 pruned. Trial was pruned at iteration 5.\u001b[0m\n",
      "\u001b[32m[I 2022-11-08 04:43:00,361]\u001b[0m Trial 99 pruned. Trial was pruned at iteration 5.\u001b[0m\n"
     ]
    }
   ],
   "source": [
    "pruner = optuna.pruners.MedianPruner(n_warmup_steps=5)\n",
    "study = optuna.create_study(pruner=pruner, direction=\"maximize\")\n",
    "study.optimize(objective_cat3, n_trials=100)"
   ]
  },
  {
   "cell_type": "code",
   "execution_count": 117,
   "metadata": {},
   "outputs": [
    {
     "data": {
      "text/plain": [
       "{'scale_pos_weight': 10,\n",
       " 'booster': 'gbtree',\n",
       " 'lambda': 5.422545320147603e-08,\n",
       " 'alpha': 0.7031141272754583,\n",
       " 'max_depth': 5,\n",
       " 'eta': 0.16737493735204637,\n",
       " 'gamma': 0.14682281229705807,\n",
       " 'grow_policy': 'depthwise'}"
      ]
     },
     "execution_count": 117,
     "metadata": {},
     "output_type": "execute_result"
    }
   ],
   "source": [
    "study.best_trial.params"
   ]
  },
  {
   "cell_type": "code",
   "execution_count": 151,
   "metadata": {},
   "outputs": [],
   "source": [
    "# train model:\n",
    "\n",
    "param = {\n",
    "        \"objective\": \"binary:logistic\",\n",
    "        'scale_pos_weight': 20,\n",
    "        'booster': 'gbtree',\n",
    "        'lambda': 5.422545320147603e-08,\n",
    "        'alpha': 0.7031141272754583,\n",
    "        'max_depth': 5,\n",
    "        'eta': 0.16737493735204637,\n",
    "        'gamma': 0.14682281229705807,\n",
    "        'grow_policy': 'depthwise'}\n",
    "\n",
    "model = xgb.train(param,dtrain,num_boost_round=100)"
   ]
  },
  {
   "cell_type": "code",
   "execution_count": 152,
   "metadata": {},
   "outputs": [],
   "source": [
    "pred = model.predict(dtest)"
   ]
  },
  {
   "cell_type": "code",
   "execution_count": 153,
   "metadata": {},
   "outputs": [
    {
     "data": {
      "text/plain": [
       "array([0.02378887, 0.16046199, 0.00215794, ..., 0.00704754, 0.0063304 ,\n",
       "       0.00175382], dtype=float32)"
      ]
     },
     "execution_count": 153,
     "metadata": {},
     "output_type": "execute_result"
    }
   ],
   "source": [
    "pred"
   ]
  },
  {
   "cell_type": "code",
   "execution_count": 121,
   "metadata": {},
   "outputs": [
    {
     "data": {
      "text/plain": [
       "array([0, 0, 0, ..., 0, 0, 0], dtype=object)"
      ]
     },
     "execution_count": 121,
     "metadata": {},
     "output_type": "execute_result"
    }
   ],
   "source": [
    "y_test_cat_3"
   ]
  },
  {
   "cell_type": "code",
   "execution_count": 122,
   "metadata": {},
   "outputs": [],
   "source": [
    "y_test_cat_3 = y_test_cat_3.astype('float64')"
   ]
  },
  {
   "cell_type": "code",
   "execution_count": 149,
   "metadata": {},
   "outputs": [
    {
     "data": {
      "text/plain": [
       "0.9138617148090873"
      ]
     },
     "execution_count": 149,
     "metadata": {},
     "output_type": "execute_result"
    }
   ],
   "source": [
    "from sklearn.metrics import roc_auc_score\n",
    "\n",
    "roc_auc_score(y_test_cat_3, pred)"
   ]
  },
  {
   "cell_type": "code",
   "execution_count": 154,
   "metadata": {},
   "outputs": [
    {
     "data": {
      "text/plain": [
       "0.342042755344418"
      ]
     },
     "execution_count": 154,
     "metadata": {},
     "output_type": "execute_result"
    }
   ],
   "source": [
    "f1_score(y_test_cat_3, np.round(pred))"
   ]
  },
  {
   "cell_type": "code",
   "execution_count": 155,
   "metadata": {},
   "outputs": [],
   "source": [
    "pred = model.predict(X_cat_3_test)"
   ]
  },
  {
   "cell_type": "code",
   "execution_count": 156,
   "metadata": {},
   "outputs": [],
   "source": [
    "test_cat_3['target'] = np.round(pred)"
   ]
  },
  {
   "cell_type": "code",
   "execution_count": 157,
   "metadata": {},
   "outputs": [
    {
     "data": {
      "text/plain": [
       "0.0    15774\n",
       "1.0      199\n",
       "Name: target, dtype: int64"
      ]
     },
     "execution_count": 157,
     "metadata": {},
     "output_type": "execute_result"
    }
   ],
   "source": [
    "test_cat_3['target'].value_counts()"
   ]
  },
  {
   "cell_type": "code",
   "execution_count": 158,
   "metadata": {},
   "outputs": [],
   "source": [
    "test_cat_3 = test_cat_3[['ID','target']]"
   ]
  },
  {
   "cell_type": "code",
   "execution_count": 159,
   "metadata": {},
   "outputs": [],
   "source": [
    "test_cat_3.to_csv('../../entregables/version_2/category_3.csv',index=False)"
   ]
  },
  {
   "cell_type": "code",
   "execution_count": 160,
   "metadata": {},
   "outputs": [
    {
     "name": "stdout",
     "output_type": "stream",
     "text": [
      "1\n",
      "2\n",
      "3\n"
     ]
    }
   ],
   "source": [
    "for i in range(1,4):\n",
    "    print(i)"
   ]
  },
  {
   "cell_type": "markdown",
   "metadata": {},
   "source": [
    "# Prediccion Final"
   ]
  },
  {
   "cell_type": "code",
   "execution_count": 161,
   "metadata": {},
   "outputs": [],
   "source": [
    "prediccion_final = pd.concat(\n",
    "                            [pd.read_csv(f'../../entregables/version_2/category_{i}.csv') for i in  range(1,4)\n",
    "                            ]).reset_index(drop=True)"
   ]
  },
  {
   "cell_type": "code",
   "execution_count": 162,
   "metadata": {},
   "outputs": [
    {
     "data": {
      "text/html": [
       "<div>\n",
       "<style scoped>\n",
       "    .dataframe tbody tr th:only-of-type {\n",
       "        vertical-align: middle;\n",
       "    }\n",
       "\n",
       "    .dataframe tbody tr th {\n",
       "        vertical-align: top;\n",
       "    }\n",
       "\n",
       "    .dataframe thead th {\n",
       "        text-align: right;\n",
       "    }\n",
       "</style>\n",
       "<table border=\"1\" class=\"dataframe\">\n",
       "  <thead>\n",
       "    <tr style=\"text-align: right;\">\n",
       "      <th></th>\n",
       "      <th>ID</th>\n",
       "      <th>target</th>\n",
       "    </tr>\n",
       "  </thead>\n",
       "  <tbody>\n",
       "    <tr>\n",
       "      <th>0</th>\n",
       "      <td>669c9da570306d5124c865db91a459fb245e80d39043dd...</td>\n",
       "      <td>0.0</td>\n",
       "    </tr>\n",
       "    <tr>\n",
       "      <th>1</th>\n",
       "      <td>177b7e415e558c22d6bf675567755d61bb6f8b69c671f6...</td>\n",
       "      <td>0.0</td>\n",
       "    </tr>\n",
       "    <tr>\n",
       "      <th>2</th>\n",
       "      <td>371352ffefb1695cb7aa844e0bb48009ba43f0988c9c39...</td>\n",
       "      <td>0.0</td>\n",
       "    </tr>\n",
       "    <tr>\n",
       "      <th>3</th>\n",
       "      <td>27e752493fd4534762870e1f85fc6f7e0d31e597b6c918...</td>\n",
       "      <td>0.0</td>\n",
       "    </tr>\n",
       "    <tr>\n",
       "      <th>4</th>\n",
       "      <td>6f993c79a43888e4b742fdc3a63b308f3395d990db4c75...</td>\n",
       "      <td>0.0</td>\n",
       "    </tr>\n",
       "    <tr>\n",
       "      <th>...</th>\n",
       "      <td>...</td>\n",
       "      <td>...</td>\n",
       "    </tr>\n",
       "    <tr>\n",
       "      <th>329206</th>\n",
       "      <td>483332dfd1d1ddbf0a43f819a280da697730284cd873c4...</td>\n",
       "      <td>0.0</td>\n",
       "    </tr>\n",
       "    <tr>\n",
       "      <th>329207</th>\n",
       "      <td>c449274add30f09ce7bd6788605bc6be329782f8f75b86...</td>\n",
       "      <td>0.0</td>\n",
       "    </tr>\n",
       "    <tr>\n",
       "      <th>329208</th>\n",
       "      <td>e3c9a2f7ca96445bbd74e3d49ce4bee9f8884e1517b639...</td>\n",
       "      <td>0.0</td>\n",
       "    </tr>\n",
       "    <tr>\n",
       "      <th>329209</th>\n",
       "      <td>bbe20638ee9fd89adfc5c43e1fdf243507f61b584312b0...</td>\n",
       "      <td>0.0</td>\n",
       "    </tr>\n",
       "    <tr>\n",
       "      <th>329210</th>\n",
       "      <td>4ab122e168501975d8975b6ca2bd852a60558c4baeb208...</td>\n",
       "      <td>0.0</td>\n",
       "    </tr>\n",
       "  </tbody>\n",
       "</table>\n",
       "<p>329211 rows × 2 columns</p>\n",
       "</div>"
      ],
      "text/plain": [
       "                                                       ID  target\n",
       "0       669c9da570306d5124c865db91a459fb245e80d39043dd...     0.0\n",
       "1       177b7e415e558c22d6bf675567755d61bb6f8b69c671f6...     0.0\n",
       "2       371352ffefb1695cb7aa844e0bb48009ba43f0988c9c39...     0.0\n",
       "3       27e752493fd4534762870e1f85fc6f7e0d31e597b6c918...     0.0\n",
       "4       6f993c79a43888e4b742fdc3a63b308f3395d990db4c75...     0.0\n",
       "...                                                   ...     ...\n",
       "329206  483332dfd1d1ddbf0a43f819a280da697730284cd873c4...     0.0\n",
       "329207  c449274add30f09ce7bd6788605bc6be329782f8f75b86...     0.0\n",
       "329208  e3c9a2f7ca96445bbd74e3d49ce4bee9f8884e1517b639...     0.0\n",
       "329209  bbe20638ee9fd89adfc5c43e1fdf243507f61b584312b0...     0.0\n",
       "329210  4ab122e168501975d8975b6ca2bd852a60558c4baeb208...     0.0\n",
       "\n",
       "[329211 rows x 2 columns]"
      ]
     },
     "execution_count": 162,
     "metadata": {},
     "output_type": "execute_result"
    }
   ],
   "source": [
    "prediccion_final"
   ]
  },
  {
   "cell_type": "code",
   "execution_count": 165,
   "metadata": {},
   "outputs": [],
   "source": [
    "prediccion_final.to_csv('../../entregables/version_2/prediccion_xgboost_v2.csv',index=False)"
   ]
  }
 ],
 "metadata": {
  "kernelspec": {
   "display_name": "Python 3.6.9 ('analisis')",
   "language": "python",
   "name": "python3"
  },
  "language_info": {
   "codemirror_mode": {
    "name": "ipython",
    "version": 3
   },
   "file_extension": ".py",
   "mimetype": "text/x-python",
   "name": "python",
   "nbconvert_exporter": "python",
   "pygments_lexer": "ipython3",
   "version": "3.6.9"
  },
  "orig_nbformat": 4,
  "vscode": {
   "interpreter": {
    "hash": "5509f23c0f37cc66ccf478a1c2ca01f004f51ba65aaca2ccc5430ebcf83904df"
   }
  }
 },
 "nbformat": 4,
 "nbformat_minor": 2
}
