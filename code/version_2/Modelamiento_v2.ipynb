{
 "cells": [
  {
   "cell_type": "code",
   "execution_count": 1,
   "metadata": {},
   "outputs": [],
   "source": [
    "import pandas as pd\n",
    "import numpy as np\n",
    "import seaborn as sns\n",
    "from matplotlib import pyplot as plt"
   ]
  },
  {
   "cell_type": "code",
   "execution_count": 2,
   "metadata": {},
   "outputs": [],
   "source": [
    "train = pd.read_parquet('../../preprocess/version_1/train.parquet')\n",
    "train = train.drop(columns=['period'])"
   ]
  },
  {
   "cell_type": "code",
   "execution_count": 3,
   "metadata": {},
   "outputs": [
    {
     "data": {
      "text/html": [
       "<div>\n",
       "<style scoped>\n",
       "    .dataframe tbody tr th:only-of-type {\n",
       "        vertical-align: middle;\n",
       "    }\n",
       "\n",
       "    .dataframe tbody tr th {\n",
       "        vertical-align: top;\n",
       "    }\n",
       "\n",
       "    .dataframe thead th {\n",
       "        text-align: right;\n",
       "    }\n",
       "</style>\n",
       "<table border=\"1\" class=\"dataframe\">\n",
       "  <thead>\n",
       "    <tr style=\"text-align: right;\">\n",
       "      <th></th>\n",
       "      <th>ID</th>\n",
       "      <th>category</th>\n",
       "      <th>target</th>\n",
       "      <th>activity</th>\n",
       "      <th>economic_category</th>\n",
       "      <th>road</th>\n",
       "      <th>license</th>\n",
       "      <th>time_from_start</th>\n",
       "      <th>has_insurance</th>\n",
       "      <th>normal_balance</th>\n",
       "      <th>...</th>\n",
       "      <th>days_default_mean_type_4</th>\n",
       "      <th>days_default_mean_type_5</th>\n",
       "      <th>days_default_var_type_1</th>\n",
       "      <th>days_default_var_type_2</th>\n",
       "      <th>days_default_var_type_3</th>\n",
       "      <th>days_default_var_type_4</th>\n",
       "      <th>days_default_var_type_5</th>\n",
       "      <th>count_month</th>\n",
       "      <th>count_product</th>\n",
       "      <th>count_entity</th>\n",
       "    </tr>\n",
       "  </thead>\n",
       "  <tbody>\n",
       "    <tr>\n",
       "      <th>0</th>\n",
       "      <td>5c0d6d516b2f11e55dc7ccf911117c4648efe1e37ba65b...</td>\n",
       "      <td>category_1</td>\n",
       "      <td>0</td>\n",
       "      <td>activity_10</td>\n",
       "      <td>category_3</td>\n",
       "      <td>road_7</td>\n",
       "      <td>no</td>\n",
       "      <td>3.6778</td>\n",
       "      <td>no</td>\n",
       "      <td>no</td>\n",
       "      <td>...</td>\n",
       "      <td>-99999.0</td>\n",
       "      <td>-99999.0</td>\n",
       "      <td>0.780759</td>\n",
       "      <td>-99999.0</td>\n",
       "      <td>0.251037</td>\n",
       "      <td>-99999.0</td>\n",
       "      <td>-99999.0</td>\n",
       "      <td>0.0</td>\n",
       "      <td>2.0</td>\n",
       "      <td>3.0</td>\n",
       "    </tr>\n",
       "    <tr>\n",
       "      <th>1</th>\n",
       "      <td>5400f7a37ace9961a211785a78fe36048f652923984801...</td>\n",
       "      <td>category_1</td>\n",
       "      <td>0</td>\n",
       "      <td>activity_1</td>\n",
       "      <td>category_28</td>\n",
       "      <td>road_5</td>\n",
       "      <td>no</td>\n",
       "      <td>2.5808</td>\n",
       "      <td>yes</td>\n",
       "      <td>no</td>\n",
       "      <td>...</td>\n",
       "      <td>-99999.0</td>\n",
       "      <td>-99999.0</td>\n",
       "      <td>-99999.000000</td>\n",
       "      <td>0.0</td>\n",
       "      <td>0.003995</td>\n",
       "      <td>-99999.0</td>\n",
       "      <td>-99999.0</td>\n",
       "      <td>0.0</td>\n",
       "      <td>1.0</td>\n",
       "      <td>1.0</td>\n",
       "    </tr>\n",
       "    <tr>\n",
       "      <th>2</th>\n",
       "      <td>5d35f55df443cc3b6d903f12ee1f05a8fa563fef0635c8...</td>\n",
       "      <td>category_1</td>\n",
       "      <td>0</td>\n",
       "      <td>activity_1</td>\n",
       "      <td>category_28</td>\n",
       "      <td>road_3</td>\n",
       "      <td>no</td>\n",
       "      <td>0.3026</td>\n",
       "      <td>yes</td>\n",
       "      <td>yes</td>\n",
       "      <td>...</td>\n",
       "      <td>-99999.0</td>\n",
       "      <td>-99999.0</td>\n",
       "      <td>0.007788</td>\n",
       "      <td>-99999.0</td>\n",
       "      <td>0.000000</td>\n",
       "      <td>-99999.0</td>\n",
       "      <td>-99999.0</td>\n",
       "      <td>0.0</td>\n",
       "      <td>2.0</td>\n",
       "      <td>2.0</td>\n",
       "    </tr>\n",
       "    <tr>\n",
       "      <th>3</th>\n",
       "      <td>a6f2cec37995d3a5793ec0e4489c69d396b9e1f80059c1...</td>\n",
       "      <td>category_1</td>\n",
       "      <td>0</td>\n",
       "      <td>activity_10</td>\n",
       "      <td>category_33</td>\n",
       "      <td>road_4</td>\n",
       "      <td>no</td>\n",
       "      <td>3.9883</td>\n",
       "      <td>no</td>\n",
       "      <td>yes</td>\n",
       "      <td>...</td>\n",
       "      <td>-99999.0</td>\n",
       "      <td>-99999.0</td>\n",
       "      <td>0.000000</td>\n",
       "      <td>0.0</td>\n",
       "      <td>0.000000</td>\n",
       "      <td>-99999.0</td>\n",
       "      <td>-99999.0</td>\n",
       "      <td>0.0</td>\n",
       "      <td>3.0</td>\n",
       "      <td>3.0</td>\n",
       "    </tr>\n",
       "    <tr>\n",
       "      <th>4</th>\n",
       "      <td>071a27b4ea5c188bebf86cbd8e2a7a910f7abc44023da6...</td>\n",
       "      <td>category_1</td>\n",
       "      <td>0</td>\n",
       "      <td>activity_11</td>\n",
       "      <td>category_31</td>\n",
       "      <td>road_3</td>\n",
       "      <td>no</td>\n",
       "      <td>3.2864</td>\n",
       "      <td>no</td>\n",
       "      <td>yes</td>\n",
       "      <td>...</td>\n",
       "      <td>-99999.0</td>\n",
       "      <td>-99999.0</td>\n",
       "      <td>-99999.000000</td>\n",
       "      <td>-99999.0</td>\n",
       "      <td>0.000000</td>\n",
       "      <td>-99999.0</td>\n",
       "      <td>-99999.0</td>\n",
       "      <td>0.0</td>\n",
       "      <td>1.0</td>\n",
       "      <td>1.0</td>\n",
       "    </tr>\n",
       "  </tbody>\n",
       "</table>\n",
       "<p>5 rows × 84 columns</p>\n",
       "</div>"
      ],
      "text/plain": [
       "                                                  ID    category  target  \\\n",
       "0  5c0d6d516b2f11e55dc7ccf911117c4648efe1e37ba65b...  category_1       0   \n",
       "1  5400f7a37ace9961a211785a78fe36048f652923984801...  category_1       0   \n",
       "2  5d35f55df443cc3b6d903f12ee1f05a8fa563fef0635c8...  category_1       0   \n",
       "3  a6f2cec37995d3a5793ec0e4489c69d396b9e1f80059c1...  category_1       0   \n",
       "4  071a27b4ea5c188bebf86cbd8e2a7a910f7abc44023da6...  category_1       0   \n",
       "\n",
       "      activity economic_category    road license  time_from_start  \\\n",
       "0  activity_10        category_3  road_7      no           3.6778   \n",
       "1   activity_1       category_28  road_5      no           2.5808   \n",
       "2   activity_1       category_28  road_3      no           0.3026   \n",
       "3  activity_10       category_33  road_4      no           3.9883   \n",
       "4  activity_11       category_31  road_3      no           3.2864   \n",
       "\n",
       "  has_insurance normal_balance  ... days_default_mean_type_4  \\\n",
       "0            no             no  ...                 -99999.0   \n",
       "1           yes             no  ...                 -99999.0   \n",
       "2           yes            yes  ...                 -99999.0   \n",
       "3            no            yes  ...                 -99999.0   \n",
       "4            no            yes  ...                 -99999.0   \n",
       "\n",
       "   days_default_mean_type_5  days_default_var_type_1  days_default_var_type_2  \\\n",
       "0                  -99999.0                 0.780759                 -99999.0   \n",
       "1                  -99999.0            -99999.000000                      0.0   \n",
       "2                  -99999.0                 0.007788                 -99999.0   \n",
       "3                  -99999.0                 0.000000                      0.0   \n",
       "4                  -99999.0            -99999.000000                 -99999.0   \n",
       "\n",
       "   days_default_var_type_3  days_default_var_type_4  days_default_var_type_5  \\\n",
       "0                 0.251037                 -99999.0                 -99999.0   \n",
       "1                 0.003995                 -99999.0                 -99999.0   \n",
       "2                 0.000000                 -99999.0                 -99999.0   \n",
       "3                 0.000000                 -99999.0                 -99999.0   \n",
       "4                 0.000000                 -99999.0                 -99999.0   \n",
       "\n",
       "   count_month  count_product  count_entity  \n",
       "0          0.0            2.0           3.0  \n",
       "1          0.0            1.0           1.0  \n",
       "2          0.0            2.0           2.0  \n",
       "3          0.0            3.0           3.0  \n",
       "4          0.0            1.0           1.0  \n",
       "\n",
       "[5 rows x 84 columns]"
      ]
     },
     "execution_count": 3,
     "metadata": {},
     "output_type": "execute_result"
    }
   ],
   "source": [
    "train.head()"
   ]
  },
  {
   "cell_type": "code",
   "execution_count": 4,
   "metadata": {},
   "outputs": [
    {
     "data": {
      "text/plain": [
       "category_1    0.825756\n",
       "category_3    0.090330\n",
       "category_2    0.083915\n",
       "Name: category, dtype: float64"
      ]
     },
     "execution_count": 4,
     "metadata": {},
     "output_type": "execute_result"
    }
   ],
   "source": [
    "train['category'].value_counts(normalize=True)"
   ]
  },
  {
   "cell_type": "code",
   "execution_count": 5,
   "metadata": {},
   "outputs": [
    {
     "data": {
      "text/plain": [
       "category    target\n",
       "category_1  0         0.980872\n",
       "            1         0.019128\n",
       "category_2  0         0.615799\n",
       "            1         0.384201\n",
       "category_3  0         0.990040\n",
       "            1         0.009960\n",
       "Name: target, dtype: float64"
      ]
     },
     "execution_count": 5,
     "metadata": {},
     "output_type": "execute_result"
    }
   ],
   "source": [
    "train.groupby(by=['category'])['target'].value_counts(normalize=True)"
   ]
  },
  {
   "cell_type": "code",
   "execution_count": 10,
   "metadata": {},
   "outputs": [
    {
     "data": {
      "text/plain": [
       "category_1    0.892343\n",
       "category_2    0.059138\n",
       "category_3    0.048519\n",
       "Name: category, dtype: float64"
      ]
     },
     "execution_count": 10,
     "metadata": {},
     "output_type": "execute_result"
    }
   ],
   "source": [
    "test = pd.read_parquet('../../preprocess/version_1/test.parquet')\n",
    "test['category'].value_counts(normalize=True)"
   ]
  },
  {
   "cell_type": "markdown",
   "metadata": {},
   "source": [
    "# Analisis Exploratorio"
   ]
  },
  {
   "cell_type": "markdown",
   "metadata": {},
   "source": [
    "## Analisis univariable - grafico "
   ]
  },
  {
   "cell_type": "code",
   "execution_count": 6,
   "metadata": {},
   "outputs": [],
   "source": [
    "numeric_cols = train.select_dtypes(include=['number']).columns\n",
    "numeric_cols = [col for col in numeric_cols if col not in ['target']]"
   ]
  },
  {
   "cell_type": "code",
   "execution_count": 7,
   "metadata": {},
   "outputs": [],
   "source": [
    "categorical_cols = train.select_dtypes(include=['object']).columns\n",
    "categorical_cols = [col for col in categorical_cols if col not in ['ID']]"
   ]
  },
  {
   "cell_type": "code",
   "execution_count": 8,
   "metadata": {},
   "outputs": [],
   "source": [
    "train[categorical_cols] = train[categorical_cols].astype('category')"
   ]
  },
  {
   "cell_type": "markdown",
   "metadata": {},
   "source": [
    "### Variables Numericas - Normal"
   ]
  },
  {
   "cell_type": "code",
   "execution_count": null,
   "metadata": {},
   "outputs": [],
   "source": [
    "for col in numeric_cols:\n",
    "    sns.violinplot(x ='category', y =col, data = train[train[col]!=-99999.0],\n",
    "              jitter = True, hue ='target', dodge = True).set(title=f'Distribution of {col}')\n",
    "    plt.show()"
   ]
  },
  {
   "cell_type": "markdown",
   "metadata": {},
   "source": [
    "### Variables Numericas - sqrt"
   ]
  },
  {
   "cell_type": "code",
   "execution_count": 10,
   "metadata": {},
   "outputs": [
    {
     "data": {
      "image/png": "[encoded data removed]",
      "text/plain": [
       "<Figure size 432x288 with 1 Axes>"
      ]
     },
     "metadata": {},
     "output_type": "display_data"
    },
    {
     "data": {
      "image/png": "[encoded data removed]",
      "text/plain": [
       "<Figure size 432x288 with 1 Axes>"
      ]
     },
     "metadata": {},
     "output_type": "display_data"
    }
   ],
   "source": [
    "for col in numeric_cols:\n",
    "    data = train[train[col]!=-99999.0]\n",
    "    data[col] = np.tanh(data[col])\n",
    "    sns.violinplot(x ='category', y =col, data = data,\n",
    "              jitter = True, hue ='target', dodge = True).set(title=f'Distribution of sqrt {col}')\n",
    "    plt.show()"
   ]
  },
  {
   "cell_type": "markdown",
   "metadata": {},
   "source": [
    "### Variables Categoricas"
   ]
  },
  {
   "cell_type": "code",
   "execution_count": 6,
   "metadata": {},
   "outputs": [
    {
     "name": "stdout",
     "output_type": "stream",
     "text": [
      "<class 'pandas.core.frame.DataFrame'>\n",
      "Int64Index: 810264 entries, 0 to 810263\n",
      "Data columns (total 8 columns):\n",
      " #   Column             Non-Null Count   Dtype \n",
      "---  ------             --------------   ----- \n",
      " 0   period             810264 non-null  object\n",
      " 1   activity           810264 non-null  object\n",
      " 2   economic_category  810264 non-null  object\n",
      " 3   road               810264 non-null  object\n",
      " 4   license            810264 non-null  object\n",
      " 5   has_insurance      810264 non-null  object\n",
      " 6   normal_balance     810264 non-null  object\n",
      " 7   bureau_risk        810264 non-null  object\n",
      "dtypes: object(8)\n",
      "memory usage: 55.6+ MB\n"
     ]
    }
   ],
   "source": [
    "df = train.groupby(['period']).agg(concentration_0=pd.NamedAgg(column='taken', aggfunc=concentration_0),).reset_index()\n",
    "sns.barplot(x=\"hour\",y='concentration_0',data=df).set(title='Hour vs. Concentration of Untaken')"
   ]
  },
  {
   "cell_type": "markdown",
   "metadata": {},
   "source": [
    "## Analisis de Correlacion - Asociacion"
   ]
  },
  {
   "cell_type": "code",
   "execution_count": null,
   "metadata": {},
   "outputs": [],
   "source": []
  },
  {
   "cell_type": "markdown",
   "metadata": {},
   "source": [
    "## Modelo 1"
   ]
  },
  {
   "cell_type": "markdown",
   "metadata": {},
   "source": [
    "## Modelo por category"
   ]
  },
  {
   "cell_type": "code",
   "execution_count": 9,
   "metadata": {},
   "outputs": [],
   "source": [
    "train_cat_1 = train[train['category']=='category_1'].reset_index(drop=True)\n",
    "train_cat_2 = train[train['category']=='category_2'].reset_index(drop=True)\n",
    "train_cat_3 = train[train['category']=='category_3'].reset_index(drop=True)"
   ]
  },
  {
   "cell_type": "markdown",
   "metadata": {},
   "source": [
    "### Category_1"
   ]
  },
  {
   "cell_type": "code",
   "execution_count": 10,
   "metadata": {},
   "outputs": [],
   "source": [
    "from sklearn.model_selection import cross_validate, KFold, cross_val_score\n",
    "\n",
    "X_cat_1 = train_cat_1.drop(columns=['ID','target'])\n",
    "categorical_features_indices = np.where(X_cat_1.dtypes == 'category')[0]"
   ]
  },
  {
   "cell_type": "code",
   "execution_count": 11,
   "metadata": {},
   "outputs": [],
   "source": [
    "from sklearn.model_selection import train_test_split\n",
    "\n",
    "X_cat_1 = X_cat_1.to_numpy()\n",
    "y_cat_1 = train_cat_1['target'].to_numpy()\n",
    "X_train_cat_1, X_test_cat_1, y_train_cat_1, y_test_cat_1 = train_test_split(X_cat_1, y_cat_1, test_size=0.25, random_state=42)"
   ]
  },
  {
   "cell_type": "code",
   "execution_count": 12,
   "metadata": {},
   "outputs": [
    {
     "data": {
      "text/plain": [
       "array([0, 1, 2, 3, 4, 6, 7, 8])"
      ]
     },
     "execution_count": 12,
     "metadata": {},
     "output_type": "execute_result"
    }
   ],
   "source": [
    "categorical_features_indices"
   ]
  },
  {
   "cell_type": "code",
   "execution_count": 14,
   "metadata": {},
   "outputs": [],
   "source": [
    "from catboost import Pool\n",
    "from catboost import CatBoostClassifier\n",
    "\n",
    "cat_1_pool = Pool(data=X_cat_1, label=y_cat_1, cat_features=categorical_features_indices)"
   ]
  },
  {
   "cell_type": "code",
   "execution_count": 45,
   "metadata": {},
   "outputs": [],
   "source": [
    "from catboost import cv\n",
    "\n",
    "# parameters for training inside cv:\n",
    "params_1 = {\n",
    "    'loss_function': 'Logloss',\n",
    "    'iterations': 755,\n",
    "    'custom_loss': 'F1',\n",
    "    'learning_rate': 0.1,\n",
    "    'depth':10,\n",
    "    'scale_pos_weight':10,\n",
    "    'random_state':42\n",
    "}"
   ]
  },
  {
   "cell_type": "code",
   "execution_count": 15,
   "metadata": {},
   "outputs": [],
   "source": [
    "def print_cv_summary(cv_data):\n",
    "    cv_data.head(10)\n",
    "\n",
    "    best_value = cv_data['test-Logloss-mean'].min()\n",
    "    best_iter = cv_data['test-Logloss-mean'].values.argmin()\n",
    "\n",
    "    print('Best validation Logloss score : {:.4f}±{:.4f} on step {}'.format(\n",
    "        best_value,\n",
    "        cv_data['test-Logloss-std'][best_iter],\n",
    "        best_iter)\n",
    "    )"
   ]
  },
  {
   "cell_type": "code",
   "execution_count": 26,
   "metadata": {},
   "outputs": [
    {
     "data": {
      "application/vnd.jupyter.widget-view+json": {
       "model_id": "fe39a8f4a34d438d8aebca6dbcc9d9df",
       "version_major": 2,
       "version_minor": 0
      },
      "text/plain": [
       "MetricVisualizer(layout=Layout(align_self='stretch', height='500px'))"
      ]
     },
     "metadata": {},
     "output_type": "display_data"
    },
    {
     "name": "stdout",
     "output_type": "stream",
     "text": [
      "Training on fold [0/5]\n",
      "\n",
      "bestTest = 0.002685896146\n",
      "bestIteration = 528\n",
      "\n",
      "Training on fold [1/5]\n",
      "\n",
      "bestTest = 0.00275454998\n",
      "bestIteration = 726\n",
      "\n",
      "Training on fold [2/5]\n",
      "\n",
      "bestTest = 0.002741879034\n",
      "bestIteration = 608\n",
      "\n",
      "Training on fold [3/5]\n",
      "\n",
      "bestTest = 0.0028116916\n",
      "bestIteration = 65\n",
      "\n",
      "Training on fold [4/5]\n",
      "\n",
      "bestTest = 0.002806100169\n",
      "bestIteration = 173\n",
      "\n",
      "Best validation Logloss score : 0.0028±0.0001 on step 356\n"
     ]
    }
   ],
   "source": [
    "cv_data = cv(\n",
    "    params = params_1,\n",
    "    pool = cat_1_pool,\n",
    "    fold_count=5,\n",
    "    shuffle=True,\n",
    "    partition_random_seed=42,\n",
    "    plot=True,\n",
    "    stratified=True,\n",
    "    verbose=False\n",
    ")\n",
    "\n",
    "print_cv_summary(cv_data)"
   ]
  },
  {
   "cell_type": "code",
   "execution_count": 37,
   "metadata": {},
   "outputs": [
    {
     "data": {
      "application/vnd.jupyter.widget-view+json": {
       "model_id": "c76964380dca4ff5aca750dfae638eb8",
       "version_major": 2,
       "version_minor": 0
      },
      "text/plain": [
       "MetricVisualizer(layout=Layout(align_self='stretch', height='500px'))"
      ]
     },
     "metadata": {},
     "output_type": "display_data"
    },
    {
     "data": {
      "text/plain": [
       "<catboost.core.CatBoostClassifier at 0x7f0557b50550>"
      ]
     },
     "execution_count": 37,
     "metadata": {},
     "output_type": "execute_result"
    }
   ],
   "source": [
    "model_cat_1=CatBoostClassifier(iterations=500, depth=7, learning_rate=0.04,scale_pos_weight=12, random_state=42)\n",
    "model_cat_1.fit(X_train_cat_1, y_train_cat_1,eval_set=(X_test_cat_1, y_test_cat_1),cat_features=categorical_features_indices,plot=True,verbose=False)\n",
    "#model_cat_1.fit(X_cat_1,y_cat_1,cat_features=categorical_features_indices,plot=True,verbose=False)"
   ]
  },
  {
   "cell_type": "code",
   "execution_count": 38,
   "metadata": {},
   "outputs": [],
   "source": [
    "pred = model_cat_1.predict(X_cat_1)\n",
    "train_cat_1['preds'] = pred"
   ]
  },
  {
   "cell_type": "markdown",
   "metadata": {},
   "source": [
    "#### Evaluacion"
   ]
  },
  {
   "cell_type": "code",
   "execution_count": 17,
   "metadata": {},
   "outputs": [],
   "source": [
    "from sklearn.metrics import f1_score\n",
    "\n",
    "def prediccion(df:pd.DataFrame, category_column:str, target_column:str, pred_column):\n",
    "    cat_counts = []\n",
    "    f1_scores = []\n",
    "    categories = df[category_column].unique()\n",
    "    for cat in categories:\n",
    "        temp = df[df[category_column]==cat]\n",
    "        cat_counts.append(len(temp)/len(df))\n",
    "        f1_scores.append(f1_score(temp[target_column],temp[pred_column]))\n",
    "    cats = dict(zip(categories,f1_scores,cat_counts))\n",
    "    return (np.sum(np.array(cat_counts) * np.array(f1_scores)), cats)"
   ]
  },
  {
   "cell_type": "code",
   "execution_count": 39,
   "metadata": {},
   "outputs": [
    {
     "data": {
      "text/plain": [
       "0.38057230964582106"
      ]
     },
     "execution_count": 39,
     "metadata": {},
     "output_type": "execute_result"
    }
   ],
   "source": [
    "f1_score(train_cat_1['target'], train_cat_1['preds'])"
   ]
  },
  {
   "cell_type": "code",
   "execution_count": 48,
   "metadata": {},
   "outputs": [
    {
     "data": {
      "text/plain": [
       "0.6472660919901844"
      ]
     },
     "execution_count": 48,
     "metadata": {},
     "output_type": "execute_result"
    }
   ],
   "source": [
    "f1_score(train_cat_1['target'], train_cat_1['preds'])"
   ]
  },
  {
   "cell_type": "markdown",
   "metadata": {},
   "source": [
    "#### Calibration"
   ]
  },
  {
   "cell_type": "code",
   "execution_count": null,
   "metadata": {},
   "outputs": [],
   "source": []
  },
  {
   "cell_type": "markdown",
   "metadata": {},
   "source": [
    "### Category_2"
   ]
  },
  {
   "cell_type": "code",
   "execution_count": 16,
   "metadata": {},
   "outputs": [],
   "source": [
    "from sklearn.model_selection import cross_validate, KFold, cross_val_score\n",
    "\n",
    "X_cat_2 = train_cat_2.drop(columns=['ID','target'])\n",
    "categorical_features_indices = np.where(X_cat_2.dtypes == 'category')[0]"
   ]
  },
  {
   "cell_type": "code",
   "execution_count": 17,
   "metadata": {},
   "outputs": [],
   "source": [
    "X_cat_2 = X_cat_2.to_numpy()\n",
    "y_cat_2 = train_cat_2['target'].to_numpy()"
   ]
  },
  {
   "cell_type": "code",
   "execution_count": 18,
   "metadata": {},
   "outputs": [],
   "source": [
    "cat_2_pool = Pool(data=X_cat_2, label=y_cat_2, cat_features=categorical_features_indices)"
   ]
  },
  {
   "cell_type": "code",
   "execution_count": 19,
   "metadata": {},
   "outputs": [],
   "source": [
    "params_cat_2 = {\n",
    "    'loss_function': 'Logloss',\n",
    "    'iterations': 300,\n",
    "    'custom_loss': 'F1',\n",
    "    'learning_rate': 0.01,\n",
    "    'depth':8,\n",
    "    'scale_pos_weight':2,\n",
    "    'random_state':42\n",
    "}"
   ]
  },
  {
   "cell_type": "code",
   "execution_count": 20,
   "metadata": {},
   "outputs": [
    {
     "data": {
      "application/vnd.jupyter.widget-view+json": {
       "model_id": "8ad987db9d8943a9909abf33061e8261",
       "version_major": 2,
       "version_minor": 0
      },
      "text/plain": [
       "MetricVisualizer(layout=Layout(align_self='stretch', height='500px'))"
      ]
     },
     "metadata": {},
     "output_type": "display_data"
    },
    {
     "name": "stdout",
     "output_type": "stream",
     "text": [
      "Training on fold [0/5]\n",
      "\n",
      "bestTest = 0.5602035268\n",
      "bestIteration = 299\n",
      "\n",
      "Training on fold [1/5]\n",
      "\n",
      "bestTest = 0.5617564784\n",
      "bestIteration = 299\n",
      "\n",
      "Training on fold [2/5]\n",
      "\n",
      "bestTest = 0.5642980029\n",
      "bestIteration = 299\n",
      "\n",
      "Training on fold [3/5]\n",
      "\n",
      "bestTest = 0.5622542313\n",
      "bestIteration = 299\n",
      "\n",
      "Training on fold [4/5]\n",
      "\n",
      "bestTest = 0.5662596706\n",
      "bestIteration = 299\n",
      "\n",
      "Best validation Logloss score : 0.5630±0.0024 on step 299\n"
     ]
    }
   ],
   "source": [
    "cv_data = cv(\n",
    "    params = params_cat_2,\n",
    "    pool = cat_2_pool,\n",
    "    fold_count=5,\n",
    "    shuffle=True,\n",
    "    partition_random_seed=42,\n",
    "    plot=True,\n",
    "    stratified=False,\n",
    "    verbose=False\n",
    ")\n",
    "\n",
    "print_cv_summary(cv_data)"
   ]
  },
  {
   "cell_type": "code",
   "execution_count": 21,
   "metadata": {},
   "outputs": [
    {
     "data": {
      "application/vnd.jupyter.widget-view+json": {
       "model_id": "deef4c937ef84d27843419e88dbc18bc",
       "version_major": 2,
       "version_minor": 0
      },
      "text/plain": [
       "MetricVisualizer(layout=Layout(align_self='stretch', height='500px'))"
      ]
     },
     "metadata": {},
     "output_type": "display_data"
    },
    {
     "data": {
      "text/plain": [
       "<catboost.core.CatBoostClassifier at 0x7f05857ecb38>"
      ]
     },
     "execution_count": 21,
     "metadata": {},
     "output_type": "execute_result"
    }
   ],
   "source": [
    "model_cat_2=CatBoostClassifier(iterations=299, depth=10, learning_rate=0.1,scale_pos_weight=2, random_state=42)\n",
    "model_cat_2.fit(X_cat_2, y_cat_2,cat_features=categorical_features_indices,plot=True,verbose=False)"
   ]
  },
  {
   "cell_type": "code",
   "execution_count": 22,
   "metadata": {},
   "outputs": [],
   "source": [
    "pred = model_cat_2.predict(X_cat_2)\n",
    "train_cat_2['preds'] = pred"
   ]
  },
  {
   "cell_type": "markdown",
   "metadata": {},
   "source": [
    "#### Evaluacion"
   ]
  },
  {
   "cell_type": "code",
   "execution_count": 24,
   "metadata": {},
   "outputs": [
    {
     "data": {
      "text/plain": [
       "0.7769711960710509"
      ]
     },
     "execution_count": 24,
     "metadata": {},
     "output_type": "execute_result"
    }
   ],
   "source": [
    "from sklearn.metrics import f1_score\n",
    "\n",
    "f1_score(train_cat_2['target'], train_cat_2['preds'])"
   ]
  },
  {
   "cell_type": "markdown",
   "metadata": {},
   "source": [
    "#### Calibration"
   ]
  },
  {
   "cell_type": "code",
   "execution_count": null,
   "metadata": {},
   "outputs": [],
   "source": []
  },
  {
   "cell_type": "markdown",
   "metadata": {},
   "source": [
    "### Category_3"
   ]
  },
  {
   "cell_type": "code",
   "execution_count": 25,
   "metadata": {},
   "outputs": [],
   "source": [
    "X_cat_3 = train_cat_3.drop(columns=['ID','target'])\n",
    "categorical_features_indices = np.where(X_cat_3.dtypes == 'category')[0]"
   ]
  },
  {
   "cell_type": "code",
   "execution_count": 26,
   "metadata": {},
   "outputs": [],
   "source": [
    "X_cat_3 = X_cat_3.to_numpy()\n",
    "y_cat_3 = train_cat_3['target'].to_numpy()"
   ]
  },
  {
   "cell_type": "code",
   "execution_count": 27,
   "metadata": {},
   "outputs": [],
   "source": [
    "cat_3_pool = Pool(data=X_cat_3, label=y_cat_3, cat_features=categorical_features_indices)"
   ]
  },
  {
   "cell_type": "code",
   "execution_count": 56,
   "metadata": {},
   "outputs": [],
   "source": [
    "params_cat_3 = {\n",
    "    'loss_function': 'Logloss',\n",
    "    'iterations': 550,\n",
    "    'custom_loss': 'F1',\n",
    "    'learning_rate': 0.008,\n",
    "    'depth':7,\n",
    "    'scale_pos_weight':12,\n",
    "    'random_state':42\n",
    "}"
   ]
  },
  {
   "cell_type": "code",
   "execution_count": 57,
   "metadata": {},
   "outputs": [
    {
     "data": {
      "application/vnd.jupyter.widget-view+json": {
       "model_id": "8fee79e4a40149298c6c8985ae9b8055",
       "version_major": 2,
       "version_minor": 0
      },
      "text/plain": [
       "MetricVisualizer(layout=Layout(align_self='stretch', height='500px'))"
      ]
     },
     "metadata": {},
     "output_type": "display_data"
    },
    {
     "name": "stdout",
     "output_type": "stream",
     "text": [
      "Training on fold [0/5]\n",
      "\n",
      "bestTest = 0.222153318\n",
      "bestIteration = 549\n",
      "\n",
      "Training on fold [1/5]\n",
      "\n",
      "bestTest = 0.2111678615\n",
      "bestIteration = 549\n",
      "\n",
      "Training on fold [2/5]\n",
      "\n",
      "bestTest = 0.2135974174\n",
      "bestIteration = 549\n",
      "\n",
      "Training on fold [3/5]\n",
      "\n",
      "bestTest = 0.2129593688\n",
      "bestIteration = 549\n",
      "\n",
      "Training on fold [4/5]\n",
      "\n",
      "bestTest = 0.2053359557\n",
      "bestIteration = 549\n",
      "\n",
      "Best validation Logloss score : 0.2130±0.0060 on step 549\n"
     ]
    }
   ],
   "source": [
    "cv_data = cv(\n",
    "    params = params_cat_3,\n",
    "    pool = cat_3_pool,\n",
    "    fold_count=5,\n",
    "    shuffle=True,\n",
    "    partition_random_seed=42,\n",
    "    plot=True,\n",
    "    stratified=True,\n",
    "    verbose=False\n",
    ")\n",
    "\n",
    "print_cv_summary(cv_data)"
   ]
  },
  {
   "cell_type": "code",
   "execution_count": 42,
   "metadata": {},
   "outputs": [
    {
     "data": {
      "application/vnd.jupyter.widget-view+json": {
       "model_id": "ecba8af4947d48119af902a49907f59e",
       "version_major": 2,
       "version_minor": 0
      },
      "text/plain": [
       "MetricVisualizer(layout=Layout(align_self='stretch', height='500px'))"
      ]
     },
     "metadata": {},
     "output_type": "display_data"
    },
    {
     "data": {
      "text/plain": [
       "<catboost.core.CatBoostClassifier at 0x7f04c5f62a90>"
      ]
     },
     "execution_count": 42,
     "metadata": {},
     "output_type": "execute_result"
    }
   ],
   "source": [
    "model_cat_3=CatBoostClassifier(iterations=300, depth=8, learning_rate=0.01,scale_pos_weight=15, random_state=42)\n",
    "model_cat_3.fit(X_cat_3, y_cat_3,cat_features=categorical_features_indices,plot=True,verbose=False)"
   ]
  },
  {
   "cell_type": "code",
   "execution_count": 43,
   "metadata": {},
   "outputs": [],
   "source": [
    "pred = model_cat_3.predict(X_cat_3)\n",
    "train_cat_3['preds'] = pred"
   ]
  },
  {
   "cell_type": "markdown",
   "metadata": {},
   "source": [
    "#### Evaluacion"
   ]
  },
  {
   "cell_type": "code",
   "execution_count": 44,
   "metadata": {},
   "outputs": [
    {
     "data": {
      "text/plain": [
       "0.4522207267833109"
      ]
     },
     "execution_count": 44,
     "metadata": {},
     "output_type": "execute_result"
    }
   ],
   "source": [
    "f1_score(train_cat_3['target'], train_cat_3['preds'])"
   ]
  },
  {
   "cell_type": "markdown",
   "metadata": {},
   "source": [
    "#### Calibration"
   ]
  },
  {
   "cell_type": "code",
   "execution_count": null,
   "metadata": {},
   "outputs": [],
   "source": []
  },
  {
   "cell_type": "markdown",
   "metadata": {},
   "source": [
    "## Modelo Scikit Optimize"
   ]
  },
  {
   "cell_type": "code",
   "execution_count": null,
   "metadata": {},
   "outputs": [],
   "source": []
  },
  {
   "cell_type": "code",
   "execution_count": null,
   "metadata": {},
   "outputs": [],
   "source": []
  },
  {
   "cell_type": "markdown",
   "metadata": {},
   "source": [
    "## Prediccion Final"
   ]
  },
  {
   "cell_type": "code",
   "execution_count": 74,
   "metadata": {},
   "outputs": [
    {
     "data": {
      "application/vnd.jupyter.widget-view+json": {
       "model_id": "fb8f2e507a4b419689ea97f443fb1e5e",
       "version_major": 2,
       "version_minor": 0
      },
      "text/plain": [
       "MetricVisualizer(layout=Layout(align_self='stretch', height='500px'))"
      ]
     },
     "metadata": {},
     "output_type": "display_data"
    },
    {
     "data": {
      "text/plain": [
       "<catboost.core.CatBoostClassifier at 0x7f230172c550>"
      ]
     },
     "execution_count": 74,
     "metadata": {},
     "output_type": "execute_result"
    }
   ],
   "source": [
    "model=CatBoostClassifier(iterations=699, depth=10, learning_rate=0.1,class_weights=[0.95,0.5], random_state=42)\n",
    "model.fit(train_pool,plot=True,verbose=False)"
   ]
  },
  {
   "cell_type": "code",
   "execution_count": 75,
   "metadata": {},
   "outputs": [],
   "source": [
    "test = pd.read_parquet('./preprocess/version_1/test.parquet')"
   ]
  },
  {
   "cell_type": "code",
   "execution_count": 76,
   "metadata": {},
   "outputs": [],
   "source": [
    "test_x = test.drop(columns=['ID']).to_numpy()\n",
    "pred = model.predict(test_x)\n",
    "test['target'] = pred\n",
    "test = test[['ID','target']]"
   ]
  },
  {
   "cell_type": "code",
   "execution_count": 77,
   "metadata": {},
   "outputs": [],
   "source": [
    "test.to_csv('./entregables/version_1/prediccion_catboost_simple.csv',index=False)"
   ]
  },
  {
   "cell_type": "code",
   "execution_count": 78,
   "metadata": {},
   "outputs": [],
   "source": [
    "model.save_model('./models/version_1/catboost_simple')"
   ]
  },
  {
   "cell_type": "code",
   "execution_count": null,
   "metadata": {},
   "outputs": [],
   "source": [
    "model = CatBoostClassifier()\n",
    "model. load_model(\"./models/version_1/catboost_simple\")"
   ]
  }
 ],
 "metadata": {
  "kernelspec": {
   "display_name": "Python 3.6.9 ('analisis')",
   "language": "python",
   "name": "python3"
  },
  "language_info": {
   "codemirror_mode": {
    "name": "ipython",
    "version": 3
   },
   "file_extension": ".py",
   "mimetype": "text/x-python",
   "name": "python",
   "nbconvert_exporter": "python",
   "pygments_lexer": "ipython3",
   "version": "3.6.9"
  },
  "orig_nbformat": 4,
  "vscode": {
   "interpreter": {
    "hash": "5509f23c0f37cc66ccf478a1c2ca01f004f51ba65aaca2ccc5430ebcf83904df"
   }
  }
 },
 "nbformat": 4,
 "nbformat_minor": 2
}
